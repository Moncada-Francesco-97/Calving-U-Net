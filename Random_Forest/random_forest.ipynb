{
 "cells": [
  {
   "cell_type": "code",
   "execution_count": 212,
   "metadata": {},
   "outputs": [],
   "source": [
    "import matplotlib.pyplot as plt\n",
    "import numpy as np\n",
    "import pandas as pd\n",
    "import xarray as xr\n",
    "import os\n",
    "import pandas as pd\n",
    "import seaborn as sns\n",
    "import fiona\n",
    "import sklearn\n",
    "from itertools import chain\n",
    "from sklearn.model_selection import KFold\n",
    "\n",
    "import xgboost as xgb\n",
    "from sklearn.model_selection import GridSearchCV\n",
    "from sklearn.model_selection import StratifiedKFold\n",
    "from sklearn.model_selection import KFold\n",
    "from sklearn.ensemble import RandomForestRegressor\n",
    "from sklearn.model_selection import cross_val_score"
   ]
  },
  {
   "cell_type": "code",
   "execution_count": 2,
   "metadata": {},
   "outputs": [
    {
     "name": "stdout",
     "output_type": "stream",
     "text": [
      "The shape of the selection is:  (128,)\n"
     ]
    }
   ],
   "source": [
    "#Upload the selection of glacier i will use in the model\n",
    "selection = []\n",
    "\n",
    "with open('/Users/francesco/Desktop/Thesis/Data/dataset_filtered' + '/selecao.txt', 'r') as f:\n",
    "    for line in f:\n",
    "        selection.append(int(line.strip()))\n",
    "\n",
    "common_years = np.arange(2005,2017,1)\n",
    "\n",
    "print('The shape of the selection is: ', np.shape(selection))"
   ]
  },
  {
   "cell_type": "code",
   "execution_count": 3,
   "metadata": {},
   "outputs": [
    {
     "name": "stdout",
     "output_type": "stream",
     "text": [
      "{'id': 'int:10', 'name': 'str:30', 'regions': 'str:11', 'type': 'str:2', 'is_index': 'int:10', 'ice_shelf_': 'str:50', 'measures_n': 'str:50', 'latitude': 'float:24.15', 'longitude': 'float:24.15', 'thickness_': 'float:24.15', 'thicknes_1': 'float:24.15', 'smb_mean_9': 'float:24.15', 'smb_mean_1': 'float:24.15', 'ss_gl_flux': 'float:24.15', 'ss_gl_fl_1': 'float:24.15', 'ss_calving': 'float:24.15', 'ss_calvi_1': 'float:24.15', 'model_gl_f': 'float:24.15', 'instant_co': 'float:24.15', 'mass_loss_': 'float:24.15', 'mass_los_1': 'float:24.15', 'mass_los_2': 'float:24.15', 'mass_los_3': 'float:24.15', 'mass_los_4': 'float:24.15', 'mass_los_5': 'float:24.15', 'mass_los_6': 'float:24.15', 'mass_los_7': 'float:24.15', 'mass_los_8': 'float:24.15', 'mass_los_9': 'float:24.15', 'mass_los10': 'float:24.15', 'mass_los11': 'float:24.15', 'mass_los12': 'float:24.15', 'mass_los13': 'float:24.15', 'mass_los14': 'float:24.15', 'mass_los15': 'float:24.15', 'mass_los16': 'float:24.15', 'mass_los17': 'float:24.15', 'mass_los18': 'float:24.15', 'mass_los19': 'float:24.15', 'mass_los20': 'float:24.15', 'mass_los21': 'float:24.15', 'mass_los22': 'float:24.15', 'mass_los23': 'float:24.15', 'mass_los24': 'float:24.15', 'mass_los25': 'float:24.15', 'mass_los26': 'float:24.15', 'mass_los27': 'float:24.15', 'mass_los28': 'float:24.15', 'mass_los29': 'float:24.15', 'mass_los30': 'float:24.15', 'mass_los31': 'float:24.15', 'mass_los32': 'float:24.15', 'mass_los33': 'float:24.15', 'mass_los34': 'float:24.15', 'mass_los35': 'float:24.15', 'mass_los36': 'float:24.15', 'mass_los37': 'float:24.15', 'mass_los38': 'float:24.15', 'mass_los39': 'float:24.15', 'mass_los40': 'float:24.15', 'mass_los41': 'float:24.15', 'mass_los42': 'float:24.15', 'mass_los43': 'float:24.15', 'mass_los44': 'float:24.15', 'mass_los45': 'float:24.15', 'mass_los46': 'float:24.15', 'mass_los47': 'float:24.15', 'mass_los48': 'float:24.15', 'rel97_mass': 'float:24.15', 'rel97_ma_1': 'float:24.15', 'rel97_ma_2': 'float:24.15', 'rel97_ma_3': 'float:24.15', 'rel97_ma_4': 'float:24.15', 'rel97_ma_5': 'float:24.15', 'rel97_ma_6': 'float:24.15', 'rel97_ma_7': 'float:24.15', 'rel97_ma_8': 'float:24.15', 'rel97_ma_9': 'float:24.15', 'rel97_ma10': 'float:24.15', 'rel97_ma11': 'float:24.15', 'rel97_ma12': 'float:24.15', 'rel97_ma13': 'float:24.15', 'rel97_ma14': 'float:24.15', 'rel97_ma15': 'float:24.15', 'rel97_ma16': 'float:24.15', 'rel97_ma17': 'float:24.15', 'rel97_ma18': 'float:24.15', 'rel97_ma19': 'float:24.15', 'rel97_ma20': 'float:24.15', 'rel97_ma21': 'float:24.15', 'rel97_ma22': 'float:24.15', 'rel97_ma23': 'float:24.15', 'rel97_ma24': 'float:24.15', 'rel97_ma25': 'float:24.15', 'rel97_ma26': 'float:24.15', 'rel97_ma27': 'float:24.15', 'rel97_ma28': 'float:24.15', 'rel97_ma29': 'float:24.15', 'rel97_ma30': 'float:24.15', 'rel97_ma31': 'float:24.15', 'rel97_ma32': 'float:24.15', 'rel97_ma33': 'float:24.15', 'rel97_ma34': 'float:24.15', 'rel97_ma35': 'float:24.15', 'rel97_ma36': 'float:24.15', 'rel97_ma37': 'float:24.15', 'rel97_ma38': 'float:24.15', 'rel97_ma39': 'float:24.15', 'rel97_ma40': 'float:24.15', 'rel97_ma41': 'float:24.15', 'rel97_ma42': 'float:24.15', 'rel97_ma43': 'float:24.15', 'rel97_ma44': 'float:24.15', 'rel97_ma45': 'float:24.15', 'rel97_ma46': 'float:24.15', 'rel_mass_l': 'float:24.15', 'area': 'int:10', 'area_fra': 'int:12'}\n"
     ]
    }
   ],
   "source": [
    "#In this block i am exxtracting all the informations fo ice shelfs from the shp file\n",
    "\n",
    "path_to_tif = '/Users/francesco/Desktop/Data/GEOTIFFs/'\n",
    "shapefile_path = '/Users/francesco/Desktop//Thesis/Data/ice_shelf.shp'\n",
    "#/bettik/moncadaf/data/shapefiles_antarctica/ice_shelf.shp' for the server\n",
    "\n",
    "ids = []\n",
    "Names = []\n",
    "regions = []\n",
    "areas = []\n",
    "lats = []\n",
    "lons = []\n",
    "\n",
    "\n",
    "shapefile=fiona.open(shapefile_path)\n",
    "#print(shapefile.schema['properties'])\n",
    "\n",
    "for feature in shapefile:\n",
    "\n",
    "    id = feature['properties']['id']\n",
    "    name=feature['properties']['name']\n",
    "    area=feature['properties']['area_fra']\n",
    "    lat = feature['properties']['latitude']\n",
    "    lon = feature['properties']['longitude']\n",
    "    geometry=feature['geometry']\n",
    "    if geometry is None:\n",
    "        continue\n",
    "    region = feature['properties']['regions']\n",
    "\n",
    "    #Taking the info\n",
    "    ids.append(id)\n",
    "    Names.append(name)\n",
    "    regions.append(region)\n",
    "    areas.append(area)\n",
    "    lats.append(lat)\n",
    "    lons.append(lon)\n",
    "\n",
    "#Creating the dataframe\n",
    "df_region = pd.DataFrame(index=ids)\n",
    "df_region ['id'] = ids\n",
    "df_region ['Name'] = Names\n",
    "df_region ['Region'] = regions\n",
    "df_region ['Area'] = areas\n",
    "df_region ['Latitude'] = lats\n",
    "df_region ['Longitude'] = lons\n",
    "\n",
    "#Selecting the region and sorting the dataframe\n",
    "df_region = df_region[df_region['id'].isin(selection)]\n",
    "df_region = df_region.sort_values(by=['id'])\n",
    "#drop id column\n",
    "df_region = df_region.drop(['id'], axis=1)\n"
   ]
  },
  {
   "cell_type": "code",
   "execution_count": 177,
   "metadata": {},
   "outputs": [],
   "source": [
    "#Loading the dataset\n",
    "dataset_directory = '/Users/francesco/Desktop/Thesis/Data/dataset_filtered/'\n",
    "\n",
    "# Basal Melting\n",
    "bm = pd.read_csv(dataset_directory + '/bm.csv', index_col=0)\n",
    "bm = bm.sort_values(by=['id']) #sorting the glaciers by their index\n",
    "bm = bm.loc[bm.index.isin(selection)] #selecting the glaciers, according to their index\n",
    "bm = bm[common_years.astype(str)] #selecting the common years\n",
    "bm = bm.sort_index() #sorting the glaciers by their index\n",
    "bm = bm.reset_index(drop=True)\n",
    "bm.index = selection\n",
    "\n",
    "#Load the calving data\n",
    "calving = pd.read_csv(dataset_directory+ '/df_calving_from_shp_negative_and_positive.csv', index_col=0)\n",
    "calving = calving.loc[calving.index.isin(selection)]\n",
    "calving = calving[common_years.astype(str)]\n",
    "calving = calving.sort_index()\n",
    "calving = calving.reset_index(drop=True)\n",
    "calving.index = selection\n",
    "\n",
    "#Load the ice concentration data\n",
    "i_c = pd.read_csv(dataset_directory + '/ice_c_avg_extended_front.csv', index_col=0)\n",
    "i_c = i_c.loc[i_c.index.isin(selection)]\n",
    "i_c = i_c[common_years.astype(str)]\n",
    "i_c = i_c.sort_index()\n",
    "\n",
    "#Load the ice velocity data\n",
    "i_v = pd.read_csv(dataset_directory + '/velocity_80_percentile_extended_front_2011_2012_linear_trend.csv', index_col=0)\n",
    "i_v = i_v.loc[i_v.index.isin(selection)]\n",
    "i_v = i_v[common_years.astype(str)]\n",
    "i_v = i_v.sort_index()\n",
    "\n",
    "#Load the ice thickness data\n",
    "i_t = pd.read_csv(dataset_directory + '/thickness_avg_extended front.csv', index_col=0)\n",
    "i_t = i_t.loc[i_t.index.isin(selection)]\n",
    "i_t = i_t[common_years.astype(str)]\n",
    "i_t = i_t.sort_index()\n",
    "\n",
    "index = bm.index"
   ]
  },
  {
   "cell_type": "code",
   "execution_count": 196,
   "metadata": {},
   "outputs": [],
   "source": [
    "#Like this it works, i merge everythinig in one dataframe, and i order it according, first to the index, and then to the year\n",
    "bm_long = pd.melt(bm.reset_index(), id_vars=['index'], var_name='year', value_name='value')\n",
    "bm_long = bm_long.sort_values(by=['index', 'year']).reset_index(drop=True)\n",
    "bm_long.drop(['year'], axis=1, inplace=True)\n",
    "\n",
    "calving_long = pd.melt(calving.reset_index(), id_vars=['index'], var_name='year', value_name='value')\n",
    "calving_long = calving_long.sort_values(by=['index', 'year']).reset_index(drop=True)\n",
    "calving_long.drop(['year'], axis=1, inplace=True)\n",
    "\n",
    "i_c_long = pd.melt(i_c.reset_index(), id_vars=['index'], var_name='year', value_name='value')\n",
    "i_c_long = i_c_long.sort_values(by=['index', 'year']).reset_index(drop=True)\n",
    "i_c_long.drop(['year'], axis=1, inplace=True)\n",
    "\n",
    "i_v_long = pd.melt(i_v.reset_index(), id_vars=['index'], var_name='year', value_name='value')\n",
    "i_v_long = i_v_long.sort_values(by=['index', 'year']).reset_index(drop=True)\n",
    "i_v_long.drop(['year'], axis=1, inplace=True)\n",
    "\n",
    "i_t_long = pd.melt(i_t.reset_index(), id_vars=['index'], var_name='year', value_name='value')\n",
    "i_t_long = i_t_long.sort_values(by=['index', 'year']).reset_index(drop=True)\n",
    "i_t_long.drop(['year'], axis=1, inplace=True)\n",
    "\n",
    "index_long = i_c_long['index'].values"
   ]
  },
  {
   "cell_type": "code",
   "execution_count": 197,
   "metadata": {},
   "outputs": [
    {
     "data": {
      "text/plain": [
       "(1536, 2)"
      ]
     },
     "execution_count": 197,
     "metadata": {},
     "output_type": "execute_result"
    }
   ],
   "source": [
    "np.shape(bm_long)"
   ]
  },
  {
   "cell_type": "code",
   "execution_count": 198,
   "metadata": {},
   "outputs": [],
   "source": [
    "dataset = pd.concat([bm_long, calving_long, i_c_long, i_v_long, i_t_long], axis=1)\n",
    "dataset.drop(['index'], axis=1, inplace=True)\n",
    "#rename the columns\n",
    "dataset.columns = ['bm', 'calving', 'ice_concentration', 'ice_velocity', 'ice_thickness']\n",
    "dataset.index = index_long"
   ]
  },
  {
   "cell_type": "code",
   "execution_count": 5,
   "metadata": {},
   "outputs": [],
   "source": [
    "''' \n",
    "#make a dataset with all the variables\n",
    "dataset = pd.concat([bm, calving, i_c, i_v, i_t], axis=1, keys=['bm', 'calving', 'i_c', 'i_v', 'i_t'])\n",
    "dataset.columns.names = ['Variables', 'Years']\n",
    "dataset.index.names = ['Glaciers']\n",
    "'''\n"
   ]
  },
  {
   "cell_type": "code",
   "execution_count": 220,
   "metadata": {},
   "outputs": [],
   "source": [
    "#Folders division\n",
    "\n",
    "#train\n",
    "folder_1 = [2,4,6,7,8,15,18,16,34,45,135,163,95]\n",
    "folder_2 = [3,29,10,12,31,30,19,24,35,50,86,104,139]\n",
    "folder_3 = [65,43,37,17,41,32,38,40,36,52,143,146,125]\n",
    "folder_4 = [69,67,63,26,46,33,64,44,70,53,123,145,170]\n",
    "folder_5 = [75,78,89,39,47,81,77,54,71,55,118,101,117]\n",
    "folder_6 = [76,80,114,58,48,84,83,66,90,56,140,144,164]\n",
    "folder_7 = [88,82,120,61,57,92,85,105,100,73,158,124,169]\n",
    "folder_8 = [96,107,121,62,60,127,87,108,102,91,161,122,160]\n",
    "\n",
    "#test\n",
    "folder_9 = [129,112,156,68,97,132,93,109,115,98,148,166] \n",
    "folder_10 = [131,147,157,72,99,136,116,111,119,110,162,159] \n",
    "\n",
    "\n",
    "#train = [folder_1, folder_2, folder_3, folder_4, folder_5, folder_6, folder_7, folder_8]\n",
    "test = [folder_9, folder_10]\n",
    "test = list(chain.from_iterable(test))\n"
   ]
  },
  {
   "cell_type": "code",
   "execution_count": 221,
   "metadata": {},
   "outputs": [],
   "source": [
    "#Performing block division\n",
    "cv_block_1 = dataset.loc[folder_1]\n",
    "cv_block_2 = dataset.loc[folder_2]\n",
    "cv_block_3 = dataset.loc[folder_3]\n",
    "cv_block_4 = dataset.loc[folder_4]\n",
    "cv_block_5 = dataset.loc[folder_5]\n",
    "cv_block_6 = dataset.loc[folder_6]\n",
    "cv_block_7 = dataset.loc[folder_7]\n",
    "cv_block_8 = dataset.loc[folder_8]\n",
    "\n",
    "cv_blocks = [cv_block_1, cv_block_2, cv_block_3, cv_block_4, cv_block_5, cv_block_6, cv_block_7, cv_block_8]\n",
    "test_block = dataset.loc[test]"
   ]
  },
  {
   "cell_type": "code",
   "execution_count": 202,
   "metadata": {},
   "outputs": [
    {
     "data": {
      "text/plain": [
       "1248"
      ]
     },
     "execution_count": 202,
     "metadata": {},
     "output_type": "execute_result"
    }
   ],
   "source": [
    "#merge the blocks, so i will have the training set already ordered according to the blocks\n",
    "cv = pd.concat(cv_blocks)\n",
    "\n",
    "#Display option \n",
    "pd.set_option('display.max_columns', None)\n",
    "pd.set_option('display.max_rows', None)\n",
    "len(cv)"
   ]
  },
  {
   "attachments": {},
   "cell_type": "markdown",
   "metadata": {},
   "source": [
    "Trying now to perform a cross validation, with the \"automatic function\""
   ]
  },
  {
   "cell_type": "code",
   "execution_count": 203,
   "metadata": {},
   "outputs": [
    {
     "name": "stdout",
     "output_type": "stream",
     "text": [
      "Train: [1 2] Validation: [0]\n",
      "Train: [0 2] Validation: [1]\n",
      "Train: [0 1] Validation: [2]\n"
     ]
    }
   ],
   "source": [
    "#Just to see how kFold works\n",
    "from sklearn.model_selection import KFold\n",
    "\n",
    "X = [[1,2],[3,4],[6,8]]\n",
    "y = [1,2,3]\n",
    "\n",
    "kf = KFold(n_splits=3, shuffle=False, random_state=None)\n",
    "for train_index, test_index in kf.split(X):\n",
    "    print(\"Train:\", train_index, \"Validation:\", test_index)\n"
   ]
  },
  {
   "cell_type": "code",
   "execution_count": 204,
   "metadata": {},
   "outputs": [],
   "source": [
    "X = cv.drop('calving', axis=1)\n",
    "y = cv['calving']"
   ]
  },
  {
   "cell_type": "code",
   "execution_count": 206,
   "metadata": {},
   "outputs": [],
   "source": [
    "#Just to check it works (it is)\n",
    "#X "
   ]
  },
  {
   "cell_type": "code",
   "execution_count": 207,
   "metadata": {},
   "outputs": [
    {
     "name": "stdout",
     "output_type": "stream",
     "text": [
      "The parameters to test are:  {'n_estimators': [10, 30, 50], 'max_depth': [2, 5], 'min_samples_split': [2, 5, 10], 'min_samples_leaf': [2, 5, 10]} \n",
      "\n",
      "Fitting 8 folds for each of 54 candidates, totalling 432 fits\n",
      "[CV] END max_depth=2, min_samples_leaf=2, min_samples_split=2, n_estimators=10; total time=   0.1s\n",
      "[CV] END max_depth=2, min_samples_leaf=2, min_samples_split=2, n_estimators=10; total time=   0.1s\n",
      "[CV] END max_depth=2, min_samples_leaf=2, min_samples_split=2, n_estimators=10; total time=   0.1s\n",
      "[CV] END max_depth=2, min_samples_leaf=2, min_samples_split=2, n_estimators=10; total time=   0.1s\n",
      "[CV] END max_depth=2, min_samples_leaf=2, min_samples_split=2, n_estimators=10; total time=   0.0s[CV] END max_depth=2, min_samples_leaf=2, min_samples_split=2, n_estimators=10; total time=   0.1s\n",
      "\n",
      "[CV] END max_depth=2, min_samples_leaf=2, min_samples_split=2, n_estimators=10; total time=   0.1s\n",
      "[CV] END max_depth=2, min_samples_leaf=2, min_samples_split=2, n_estimators=10; total time=   0.1s\n",
      "[CV] END max_depth=2, min_samples_leaf=2, min_samples_split=2, n_estimators=30; total time=   0.1s\n",
      "[CV] END max_depth=2, min_samples_leaf=2, min_samples_split=2, n_estimators=30; total time=   0.1s\n",
      "[CV] END max_depth=2, min_samples_leaf=2, min_samples_split=2, n_estimators=30; total time=   0.1s\n",
      "[CV] END max_depth=2, min_samples_leaf=2, min_samples_split=2, n_estimators=30; total time=   0.2s\n",
      "[CV] END max_depth=2, min_samples_leaf=2, min_samples_split=2, n_estimators=30; total time=   0.1s\n",
      "[CV] END max_depth=2, min_samples_leaf=2, min_samples_split=2, n_estimators=30; total time=   0.1s\n",
      "[CV] END max_depth=2, min_samples_leaf=2, min_samples_split=2, n_estimators=30; total time=   0.2s\n",
      "[CV] END max_depth=2, min_samples_leaf=2, min_samples_split=2, n_estimators=30; total time=   0.1s\n",
      "[CV] END max_depth=2, min_samples_leaf=2, min_samples_split=2, n_estimators=50; total time=   0.2s\n",
      "[CV] END max_depth=2, min_samples_leaf=2, min_samples_split=2, n_estimators=50; total time=   0.2s\n",
      "[CV] END max_depth=2, min_samples_leaf=2, min_samples_split=2, n_estimators=50; total time=   0.2s\n",
      "[CV] END max_depth=2, min_samples_leaf=2, min_samples_split=2, n_estimators=50; total time=   0.3s\n",
      "[CV] END max_depth=2, min_samples_leaf=2, min_samples_split=2, n_estimators=50; total time=   0.2s\n",
      "[CV] END max_depth=2, min_samples_leaf=2, min_samples_split=2, n_estimators=50; total time=   0.2s\n",
      "[CV] END max_depth=2, min_samples_leaf=2, min_samples_split=2, n_estimators=50; total time=   0.2s\n",
      "[CV] END max_depth=2, min_samples_leaf=2, min_samples_split=5, n_estimators=10; total time=   0.1s\n",
      "[CV] END max_depth=2, min_samples_leaf=2, min_samples_split=2, n_estimators=50; total time=   0.3s\n",
      "[CV] END max_depth=2, min_samples_leaf=2, min_samples_split=5, n_estimators=10; total time=   0.1s\n",
      "[CV] END max_depth=2, min_samples_leaf=2, min_samples_split=5, n_estimators=10; total time=   0.0s\n",
      "[CV] END max_depth=2, min_samples_leaf=2, min_samples_split=5, n_estimators=10; total time=   0.0s\n",
      "[CV] END max_depth=2, min_samples_leaf=2, min_samples_split=5, n_estimators=10; total time=   0.0s\n",
      "[CV] END max_depth=2, min_samples_leaf=2, min_samples_split=5, n_estimators=10; total time=   0.0s\n",
      "[CV] END max_depth=2, min_samples_leaf=2, min_samples_split=5, n_estimators=10; total time=   0.1s\n",
      "[CV] END max_depth=2, min_samples_leaf=2, min_samples_split=5, n_estimators=10; total time=   0.1s\n",
      "[CV] END max_depth=2, min_samples_leaf=2, min_samples_split=5, n_estimators=30; total time=   0.1s\n",
      "[CV] END max_depth=2, min_samples_leaf=2, min_samples_split=5, n_estimators=30; total time=   0.2s\n",
      "[CV] END max_depth=2, min_samples_leaf=2, min_samples_split=5, n_estimators=30; total time=   0.2s\n",
      "[CV] END max_depth=2, min_samples_leaf=2, min_samples_split=5, n_estimators=30; total time=   0.2s\n",
      "[CV] END max_depth=2, min_samples_leaf=2, min_samples_split=5, n_estimators=30; total time=   0.2s\n",
      "[CV] END max_depth=2, min_samples_leaf=2, min_samples_split=5, n_estimators=30; total time=   0.1s\n",
      "[CV] END max_depth=2, min_samples_leaf=2, min_samples_split=5, n_estimators=30; total time=   0.1s\n",
      "[CV] END max_depth=2, min_samples_leaf=2, min_samples_split=5, n_estimators=30; total time=   0.2s\n",
      "[CV] END max_depth=2, min_samples_leaf=2, min_samples_split=5, n_estimators=50; total time=   0.2s\n",
      "[CV] END max_depth=2, min_samples_leaf=2, min_samples_split=5, n_estimators=50; total time=   0.3s\n",
      "[CV] END max_depth=2, min_samples_leaf=2, min_samples_split=5, n_estimators=50; total time=   0.3s\n",
      "[CV] END max_depth=2, min_samples_leaf=2, min_samples_split=5, n_estimators=50; total time=   0.3s\n",
      "[CV] END max_depth=2, min_samples_leaf=2, min_samples_split=5, n_estimators=50; total time=   0.2s\n",
      "[CV] END max_depth=2, min_samples_leaf=2, min_samples_split=10, n_estimators=10; total time=   0.1s\n",
      "[CV] END max_depth=2, min_samples_leaf=2, min_samples_split=5, n_estimators=50; total time=   0.3s\n",
      "[CV] END max_depth=2, min_samples_leaf=2, min_samples_split=5, n_estimators=50; total time=   0.2s\n",
      "[CV] END max_depth=2, min_samples_leaf=2, min_samples_split=10, n_estimators=10; total time=   0.1s\n",
      "[CV] END max_depth=2, min_samples_leaf=2, min_samples_split=10, n_estimators=10; total time=   0.1s\n",
      "[CV] END max_depth=2, min_samples_leaf=2, min_samples_split=5, n_estimators=50; total time=   0.2s\n",
      "[CV] END max_depth=2, min_samples_leaf=2, min_samples_split=10, n_estimators=10; total time=   0.1s\n",
      "[CV] END max_depth=2, min_samples_leaf=2, min_samples_split=10, n_estimators=10; total time=   0.1s\n",
      "[CV] END max_depth=2, min_samples_leaf=2, min_samples_split=10, n_estimators=10; total time=   0.1s\n",
      "[CV] END max_depth=2, min_samples_leaf=2, min_samples_split=10, n_estimators=10; total time=   0.1s\n",
      "[CV] END max_depth=2, min_samples_leaf=2, min_samples_split=10, n_estimators=10; total time=   0.0s\n",
      "[CV] END max_depth=2, min_samples_leaf=2, min_samples_split=10, n_estimators=30; total time=   0.2s\n",
      "[CV] END max_depth=2, min_samples_leaf=2, min_samples_split=10, n_estimators=30; total time=   0.2s\n",
      "[CV] END max_depth=2, min_samples_leaf=2, min_samples_split=10, n_estimators=30; total time=   0.2s\n",
      "[CV] END max_depth=2, min_samples_leaf=2, min_samples_split=10, n_estimators=30; total time=   0.2s\n",
      "[CV] END max_depth=2, min_samples_leaf=2, min_samples_split=10, n_estimators=30; total time=   0.1s\n",
      "[CV] END max_depth=2, min_samples_leaf=2, min_samples_split=10, n_estimators=30; total time=   0.1s\n",
      "[CV] END max_depth=2, min_samples_leaf=2, min_samples_split=10, n_estimators=30; total time=   0.1s\n",
      "[CV] END max_depth=2, min_samples_leaf=2, min_samples_split=10, n_estimators=30; total time=   0.2s\n",
      "[CV] END max_depth=2, min_samples_leaf=2, min_samples_split=10, n_estimators=50; total time=   0.2s\n",
      "[CV] END max_depth=2, min_samples_leaf=2, min_samples_split=10, n_estimators=50; total time=   0.2s\n",
      "[CV] END max_depth=2, min_samples_leaf=2, min_samples_split=10, n_estimators=50; total time=   0.2s\n",
      "[CV] END max_depth=2, min_samples_leaf=2, min_samples_split=10, n_estimators=50; total time=   0.2s\n",
      "[CV] END max_depth=2, min_samples_leaf=2, min_samples_split=10, n_estimators=50; total time=   0.2s\n",
      "[CV] END max_depth=2, min_samples_leaf=2, min_samples_split=10, n_estimators=50; total time=   0.2s\n",
      "[CV] END max_depth=2, min_samples_leaf=5, min_samples_split=2, n_estimators=10; total time=   0.1s\n",
      "[CV] END max_depth=2, min_samples_leaf=5, min_samples_split=2, n_estimators=10; total time=   0.1s\n",
      "[CV] END max_depth=2, min_samples_leaf=2, min_samples_split=10, n_estimators=50; total time=   0.3s\n",
      "[CV] END max_depth=2, min_samples_leaf=2, min_samples_split=10, n_estimators=50; total time=   0.3s\n",
      "[CV] END max_depth=2, min_samples_leaf=5, min_samples_split=2, n_estimators=10; total time=   0.1s\n",
      "[CV] END max_depth=2, min_samples_leaf=5, min_samples_split=2, n_estimators=10; total time=   0.1s\n",
      "[CV] END max_depth=2, min_samples_leaf=5, min_samples_split=2, n_estimators=10; total time=   0.1s\n",
      "[CV] END max_depth=2, min_samples_leaf=5, min_samples_split=2, n_estimators=10; total time=   0.1s\n",
      "[CV] END max_depth=2, min_samples_leaf=5, min_samples_split=2, n_estimators=10; total time=   0.1s\n",
      "[CV] END max_depth=2, min_samples_leaf=5, min_samples_split=2, n_estimators=10; total time=   0.1s\n",
      "[CV] END max_depth=2, min_samples_leaf=5, min_samples_split=2, n_estimators=30; total time=   0.1s\n",
      "[CV] END max_depth=2, min_samples_leaf=5, min_samples_split=2, n_estimators=30; total time=   0.1s\n",
      "[CV] END max_depth=2, min_samples_leaf=5, min_samples_split=2, n_estimators=30; total time=   0.1s\n",
      "[CV] END max_depth=2, min_samples_leaf=5, min_samples_split=2, n_estimators=30; total time=   0.2s\n",
      "[CV] END max_depth=2, min_samples_leaf=5, min_samples_split=2, n_estimators=30; total time=   0.2s\n",
      "[CV] END max_depth=2, min_samples_leaf=5, min_samples_split=2, n_estimators=30; total time=   0.1s\n",
      "[CV] END max_depth=2, min_samples_leaf=5, min_samples_split=2, n_estimators=30; total time=   0.1s\n",
      "[CV] END max_depth=2, min_samples_leaf=5, min_samples_split=2, n_estimators=30; total time=   0.2s\n",
      "[CV] END max_depth=2, min_samples_leaf=5, min_samples_split=2, n_estimators=50; total time=   0.2s\n",
      "[CV] END max_depth=2, min_samples_leaf=5, min_samples_split=2, n_estimators=50; total time=   0.2s\n",
      "[CV] END max_depth=2, min_samples_leaf=5, min_samples_split=2, n_estimators=50; total time=   0.3s\n",
      "[CV] END max_depth=2, min_samples_leaf=5, min_samples_split=2, n_estimators=50; total time=   0.2s\n",
      "[CV] END max_depth=2, min_samples_leaf=5, min_samples_split=2, n_estimators=50; total time=   0.3s\n",
      "[CV] END max_depth=2, min_samples_leaf=5, min_samples_split=5, n_estimators=10; total time=   0.0s\n",
      "[CV] END max_depth=2, min_samples_leaf=5, min_samples_split=5, n_estimators=10; total time=   0.0s\n",
      "[CV] END max_depth=2, min_samples_leaf=5, min_samples_split=2, n_estimators=50; total time=   0.3s\n",
      "[CV] END max_depth=2, min_samples_leaf=5, min_samples_split=5, n_estimators=10; total time=   0.1s\n",
      "[CV] END max_depth=2, min_samples_leaf=5, min_samples_split=2, n_estimators=50; total time=   0.3s\n",
      "[CV] END max_depth=2, min_samples_leaf=5, min_samples_split=5, n_estimators=10; total time=   0.0s\n",
      "[CV] END max_depth=2, min_samples_leaf=5, min_samples_split=5, n_estimators=10; total time=   0.1s\n",
      "[CV] END max_depth=2, min_samples_leaf=5, min_samples_split=2, n_estimators=50; total time=   0.3s\n",
      "[CV] END max_depth=2, min_samples_leaf=5, min_samples_split=5, n_estimators=10; total time=   0.0s\n",
      "[CV] END max_depth=2, min_samples_leaf=5, min_samples_split=5, n_estimators=10; total time=   0.1s\n",
      "[CV] END max_depth=2, min_samples_leaf=5, min_samples_split=5, n_estimators=10; total time=   0.1s\n",
      "[CV] END max_depth=2, min_samples_leaf=5, min_samples_split=5, n_estimators=30; total time=   0.1s\n",
      "[CV] END max_depth=2, min_samples_leaf=5, min_samples_split=5, n_estimators=30; total time=   0.1s\n",
      "[CV] END max_depth=2, min_samples_leaf=5, min_samples_split=5, n_estimators=30; total time=   0.1s\n",
      "[CV] END max_depth=2, min_samples_leaf=5, min_samples_split=5, n_estimators=30; total time=   0.1s\n",
      "[CV] END max_depth=2, min_samples_leaf=5, min_samples_split=5, n_estimators=30; total time=   0.1s\n",
      "[CV] END max_depth=2, min_samples_leaf=5, min_samples_split=5, n_estimators=30; total time=   0.1s\n",
      "[CV] END max_depth=2, min_samples_leaf=5, min_samples_split=5, n_estimators=30; total time=   0.1s\n",
      "[CV] END max_depth=2, min_samples_leaf=5, min_samples_split=5, n_estimators=30; total time=   0.2s\n",
      "[CV] END max_depth=2, min_samples_leaf=5, min_samples_split=5, n_estimators=50; total time=   0.3s\n",
      "[CV] END max_depth=2, min_samples_leaf=5, min_samples_split=5, n_estimators=50; total time=   0.3s\n",
      "[CV] END max_depth=2, min_samples_leaf=5, min_samples_split=5, n_estimators=50; total time=   0.3s\n",
      "[CV] END max_depth=2, min_samples_leaf=5, min_samples_split=5, n_estimators=50; total time=   0.3s\n",
      "[CV] END max_depth=2, min_samples_leaf=5, min_samples_split=5, n_estimators=50; total time=   0.3s\n",
      "[CV] END max_depth=2, min_samples_leaf=5, min_samples_split=5, n_estimators=50; total time=   0.2s[CV] END max_depth=2, min_samples_leaf=5, min_samples_split=5, n_estimators=50; total time=   0.2s\n",
      "\n",
      "[CV] END max_depth=2, min_samples_leaf=5, min_samples_split=10, n_estimators=10; total time=   0.1s\n",
      "[CV] END max_depth=2, min_samples_leaf=5, min_samples_split=5, n_estimators=50; total time=   0.3s\n",
      "[CV] END max_depth=2, min_samples_leaf=5, min_samples_split=10, n_estimators=10; total time=   0.1s\n",
      "[CV] END max_depth=2, min_samples_leaf=5, min_samples_split=10, n_estimators=10; total time=   0.1s\n",
      "[CV] END max_depth=2, min_samples_leaf=5, min_samples_split=10, n_estimators=10; total time=   0.0s\n",
      "[CV] END max_depth=2, min_samples_leaf=5, min_samples_split=10, n_estimators=10; total time=   0.1s\n",
      "[CV] END max_depth=2, min_samples_leaf=5, min_samples_split=10, n_estimators=10; total time=   0.1s\n",
      "[CV] END max_depth=2, min_samples_leaf=5, min_samples_split=10, n_estimators=10; total time=   0.1s\n",
      "[CV] END max_depth=2, min_samples_leaf=5, min_samples_split=10, n_estimators=10; total time=   0.0s\n",
      "[CV] END max_depth=2, min_samples_leaf=5, min_samples_split=10, n_estimators=30; total time=   0.1s\n",
      "[CV] END max_depth=2, min_samples_leaf=5, min_samples_split=10, n_estimators=30; total time=   0.1s[CV] END max_depth=2, min_samples_leaf=5, min_samples_split=10, n_estimators=30; total time=   0.1s\n",
      "\n",
      "[CV] END max_depth=2, min_samples_leaf=5, min_samples_split=10, n_estimators=30; total time=   0.2s\n",
      "[CV] END max_depth=2, min_samples_leaf=5, min_samples_split=10, n_estimators=30; total time=   0.1s\n",
      "[CV] END max_depth=2, min_samples_leaf=5, min_samples_split=10, n_estimators=30; total time=   0.1s\n",
      "[CV] END max_depth=2, min_samples_leaf=5, min_samples_split=10, n_estimators=30; total time=   0.2s\n",
      "[CV] END max_depth=2, min_samples_leaf=5, min_samples_split=10, n_estimators=30; total time=   0.1s\n",
      "[CV] END max_depth=2, min_samples_leaf=5, min_samples_split=10, n_estimators=50; total time=   0.2s\n",
      "[CV] END max_depth=2, min_samples_leaf=5, min_samples_split=10, n_estimators=50; total time=   0.3s\n",
      "[CV] END max_depth=2, min_samples_leaf=5, min_samples_split=10, n_estimators=50; total time=   0.3s\n",
      "[CV] END max_depth=2, min_samples_leaf=5, min_samples_split=10, n_estimators=50; total time=   0.3s\n",
      "[CV] END max_depth=2, min_samples_leaf=5, min_samples_split=10, n_estimators=50; total time=   0.2s\n",
      "[CV] END max_depth=2, min_samples_leaf=5, min_samples_split=10, n_estimators=50; total time=   0.2s\n",
      "[CV] END max_depth=2, min_samples_leaf=5, min_samples_split=10, n_estimators=50; total time=   0.2s\n",
      "[CV] END max_depth=2, min_samples_leaf=10, min_samples_split=2, n_estimators=10; total time=   0.0s\n",
      "[CV] END max_depth=2, min_samples_leaf=10, min_samples_split=2, n_estimators=10; total time=   0.1s\n",
      "[CV] END max_depth=2, min_samples_leaf=10, min_samples_split=2, n_estimators=10; total time=   0.1s\n",
      "[CV] END max_depth=2, min_samples_leaf=5, min_samples_split=10, n_estimators=50; total time=   0.2s\n",
      "[CV] END max_depth=2, min_samples_leaf=10, min_samples_split=2, n_estimators=10; total time=   0.0s\n",
      "[CV] END max_depth=2, min_samples_leaf=10, min_samples_split=2, n_estimators=10; total time=   0.0s\n",
      "[CV] END max_depth=2, min_samples_leaf=10, min_samples_split=2, n_estimators=10; total time=   0.1s\n",
      "[CV] END max_depth=2, min_samples_leaf=10, min_samples_split=2, n_estimators=10; total time=   0.1s\n",
      "[CV] END max_depth=2, min_samples_leaf=10, min_samples_split=2, n_estimators=10; total time=   0.1s\n",
      "[CV] END max_depth=2, min_samples_leaf=10, min_samples_split=2, n_estimators=30; total time=   0.1s\n",
      "[CV] END max_depth=2, min_samples_leaf=10, min_samples_split=2, n_estimators=30; total time=   0.1s\n",
      "[CV] END max_depth=2, min_samples_leaf=10, min_samples_split=2, n_estimators=30; total time=   0.1s\n",
      "[CV] END max_depth=2, min_samples_leaf=10, min_samples_split=2, n_estimators=30; total time=   0.1s\n",
      "[CV] END max_depth=2, min_samples_leaf=10, min_samples_split=2, n_estimators=30; total time=   0.2s\n",
      "[CV] END max_depth=2, min_samples_leaf=10, min_samples_split=2, n_estimators=30; total time=   0.2s\n",
      "[CV] END max_depth=2, min_samples_leaf=10, min_samples_split=2, n_estimators=30; total time=   0.1s\n",
      "[CV] END max_depth=2, min_samples_leaf=10, min_samples_split=2, n_estimators=30; total time=   0.1s\n",
      "[CV] END max_depth=2, min_samples_leaf=10, min_samples_split=2, n_estimators=50; total time=   0.2s\n",
      "[CV] END max_depth=2, min_samples_leaf=10, min_samples_split=2, n_estimators=50; total time=   0.2s\n",
      "[CV] END max_depth=2, min_samples_leaf=10, min_samples_split=2, n_estimators=50; total time=   0.2s\n",
      "[CV] END max_depth=2, min_samples_leaf=10, min_samples_split=2, n_estimators=50; total time=   0.2s\n",
      "[CV] END max_depth=2, min_samples_leaf=10, min_samples_split=2, n_estimators=50; total time=   0.2s\n",
      "[CV] END max_depth=2, min_samples_leaf=10, min_samples_split=5, n_estimators=10; total time=   0.1s\n",
      "[CV] END max_depth=2, min_samples_leaf=10, min_samples_split=2, n_estimators=50; total time=   0.2s\n",
      "[CV] END max_depth=2, min_samples_leaf=10, min_samples_split=2, n_estimators=50; total time=   0.2s\n",
      "[CV] END max_depth=2, min_samples_leaf=10, min_samples_split=5, n_estimators=10; total time=   0.1s\n",
      "[CV] END max_depth=2, min_samples_leaf=10, min_samples_split=5, n_estimators=10; total time=   0.1s\n",
      "[CV] END max_depth=2, min_samples_leaf=10, min_samples_split=2, n_estimators=50; total time=   0.3s\n",
      "[CV] END max_depth=2, min_samples_leaf=10, min_samples_split=5, n_estimators=10; total time=   0.1s\n",
      "[CV] END max_depth=2, min_samples_leaf=10, min_samples_split=5, n_estimators=10; total time=   0.1s\n",
      "[CV] END max_depth=2, min_samples_leaf=10, min_samples_split=5, n_estimators=10; total time=   0.1s\n",
      "[CV] END max_depth=2, min_samples_leaf=10, min_samples_split=5, n_estimators=10; total time=   0.1s\n",
      "[CV] END max_depth=2, min_samples_leaf=10, min_samples_split=5, n_estimators=10; total time=   0.0s\n",
      "[CV] END max_depth=2, min_samples_leaf=10, min_samples_split=5, n_estimators=30; total time=   0.1s\n",
      "[CV] END max_depth=2, min_samples_leaf=10, min_samples_split=5, n_estimators=30; total time=   0.1s\n",
      "[CV] END max_depth=2, min_samples_leaf=10, min_samples_split=5, n_estimators=30; total time=   0.1s\n",
      "[CV] END max_depth=2, min_samples_leaf=10, min_samples_split=5, n_estimators=30; total time=   0.1s\n",
      "[CV] END max_depth=2, min_samples_leaf=10, min_samples_split=5, n_estimators=30; total time=   0.2s\n",
      "[CV] END max_depth=2, min_samples_leaf=10, min_samples_split=5, n_estimators=30; total time=   0.2s\n",
      "[CV] END max_depth=2, min_samples_leaf=10, min_samples_split=5, n_estimators=30; total time=   0.1s\n",
      "[CV] END max_depth=2, min_samples_leaf=10, min_samples_split=5, n_estimators=30; total time=   0.1s\n",
      "[CV] END max_depth=2, min_samples_leaf=10, min_samples_split=5, n_estimators=50; total time=   0.3s\n",
      "[CV] END max_depth=2, min_samples_leaf=10, min_samples_split=5, n_estimators=50; total time=   0.3s\n",
      "[CV] END max_depth=2, min_samples_leaf=10, min_samples_split=5, n_estimators=50; total time=   0.3s\n",
      "[CV] END max_depth=2, min_samples_leaf=10, min_samples_split=5, n_estimators=50; total time=   0.4s\n",
      "[CV] END max_depth=2, min_samples_leaf=10, min_samples_split=5, n_estimators=50; total time=   0.1s\n",
      "[CV] END max_depth=2, min_samples_leaf=10, min_samples_split=5, n_estimators=50; total time=   0.2s\n",
      "[CV] END max_depth=2, min_samples_leaf=10, min_samples_split=5, n_estimators=50; total time=   0.3s\n",
      "[CV] END max_depth=2, min_samples_leaf=10, min_samples_split=10, n_estimators=10; total time=   0.1s\n",
      "[CV] END max_depth=2, min_samples_leaf=10, min_samples_split=10, n_estimators=10; total time=   0.2s\n",
      "[CV] END max_depth=2, min_samples_leaf=10, min_samples_split=10, n_estimators=10; total time=   0.1s\n",
      "[CV] END max_depth=2, min_samples_leaf=10, min_samples_split=10, n_estimators=10; total time=   0.0s\n",
      "[CV] END max_depth=2, min_samples_leaf=10, min_samples_split=10, n_estimators=10; total time=   0.0s\n",
      "[CV] END max_depth=2, min_samples_leaf=10, min_samples_split=5, n_estimators=50; total time=   0.2s\n",
      "[CV] END max_depth=2, min_samples_leaf=10, min_samples_split=10, n_estimators=10; total time=   0.0s\n",
      "[CV] END max_depth=2, min_samples_leaf=10, min_samples_split=10, n_estimators=10; total time=   0.2s\n",
      "[CV] END max_depth=2, min_samples_leaf=10, min_samples_split=10, n_estimators=10; total time=   0.1s\n",
      "[CV] END max_depth=2, min_samples_leaf=10, min_samples_split=10, n_estimators=30; total time=   0.1s\n",
      "[CV] END max_depth=2, min_samples_leaf=10, min_samples_split=10, n_estimators=30; total time=   0.1s\n",
      "[CV] END max_depth=2, min_samples_leaf=10, min_samples_split=10, n_estimators=30; total time=   0.2s\n",
      "[CV] END max_depth=2, min_samples_leaf=10, min_samples_split=10, n_estimators=30; total time=   0.1s\n",
      "[CV] END max_depth=2, min_samples_leaf=10, min_samples_split=10, n_estimators=30; total time=   0.1s\n",
      "[CV] END max_depth=2, min_samples_leaf=10, min_samples_split=10, n_estimators=30; total time=   0.1s\n",
      "[CV] END max_depth=2, min_samples_leaf=10, min_samples_split=10, n_estimators=30; total time=   0.1s\n",
      "[CV] END max_depth=2, min_samples_leaf=10, min_samples_split=10, n_estimators=30; total time=   0.1s\n",
      "[CV] END max_depth=2, min_samples_leaf=10, min_samples_split=10, n_estimators=50; total time=   0.2s\n",
      "[CV] END max_depth=2, min_samples_leaf=10, min_samples_split=10, n_estimators=50; total time=   0.3s\n",
      "[CV] END max_depth=2, min_samples_leaf=10, min_samples_split=10, n_estimators=50; total time=   0.3s\n",
      "[CV] END max_depth=2, min_samples_leaf=10, min_samples_split=10, n_estimators=50; total time=   0.3s\n",
      "[CV] END max_depth=2, min_samples_leaf=10, min_samples_split=10, n_estimators=50; total time=   0.3s\n",
      "[CV] END max_depth=2, min_samples_leaf=10, min_samples_split=10, n_estimators=50; total time=   0.4s\n",
      "[CV] END max_depth=2, min_samples_leaf=10, min_samples_split=10, n_estimators=50; total time=   0.3s\n",
      "[CV] END max_depth=5, min_samples_leaf=2, min_samples_split=2, n_estimators=10; total time=   0.0s\n",
      "[CV] END max_depth=5, min_samples_leaf=2, min_samples_split=2, n_estimators=10; total time=   0.2s\n",
      "[CV] END max_depth=2, min_samples_leaf=10, min_samples_split=10, n_estimators=50; total time=   0.4s\n",
      "[CV] END max_depth=5, min_samples_leaf=2, min_samples_split=2, n_estimators=10; total time=   0.1s\n",
      "[CV] END max_depth=5, min_samples_leaf=2, min_samples_split=2, n_estimators=10; total time=   0.0s\n",
      "[CV] END max_depth=5, min_samples_leaf=2, min_samples_split=2, n_estimators=10; total time=   0.2s\n",
      "[CV] END max_depth=5, min_samples_leaf=2, min_samples_split=2, n_estimators=10; total time=   0.2s\n",
      "[CV] END max_depth=5, min_samples_leaf=2, min_samples_split=2, n_estimators=10; total time=   0.1s\n",
      "[CV] END max_depth=5, min_samples_leaf=2, min_samples_split=2, n_estimators=30; total time=   0.1s\n",
      "[CV] END max_depth=5, min_samples_leaf=2, min_samples_split=2, n_estimators=10; total time=   0.1s\n",
      "[CV] END max_depth=5, min_samples_leaf=2, min_samples_split=2, n_estimators=30; total time=   0.2s\n",
      "[CV] END max_depth=5, min_samples_leaf=2, min_samples_split=2, n_estimators=30; total time=   0.3s\n",
      "[CV] END max_depth=5, min_samples_leaf=2, min_samples_split=2, n_estimators=30; total time=   0.2s\n",
      "[CV] END max_depth=5, min_samples_leaf=2, min_samples_split=2, n_estimators=30; total time=   0.2s\n",
      "[CV] END max_depth=5, min_samples_leaf=2, min_samples_split=2, n_estimators=30; total time=   0.3s\n",
      "[CV] END max_depth=5, min_samples_leaf=2, min_samples_split=2, n_estimators=30; total time=   0.1s\n",
      "[CV] END max_depth=5, min_samples_leaf=2, min_samples_split=2, n_estimators=30; total time=   0.2s\n",
      "[CV] END max_depth=5, min_samples_leaf=2, min_samples_split=2, n_estimators=50; total time=   0.3s\n",
      "[CV] END max_depth=5, min_samples_leaf=2, min_samples_split=2, n_estimators=50; total time=   0.3s\n",
      "[CV] END max_depth=5, min_samples_leaf=2, min_samples_split=2, n_estimators=50; total time=   0.4s\n",
      "[CV] END max_depth=5, min_samples_leaf=2, min_samples_split=2, n_estimators=50; total time=   0.3s\n",
      "[CV] END max_depth=5, min_samples_leaf=2, min_samples_split=2, n_estimators=50; total time=   0.4s\n",
      "[CV] END max_depth=5, min_samples_leaf=2, min_samples_split=2, n_estimators=50; total time=   0.3s\n",
      "[CV] END max_depth=5, min_samples_leaf=2, min_samples_split=5, n_estimators=10; total time=   0.1s\n",
      "[CV] END max_depth=5, min_samples_leaf=2, min_samples_split=5, n_estimators=10; total time=   0.1s\n",
      "[CV] END max_depth=5, min_samples_leaf=2, min_samples_split=5, n_estimators=10; total time=   0.1s\n",
      "[CV] END max_depth=5, min_samples_leaf=2, min_samples_split=2, n_estimators=50; total time=   0.4s\n",
      "[CV] END max_depth=5, min_samples_leaf=2, min_samples_split=2, n_estimators=50; total time=   0.4s\n",
      "[CV] END max_depth=5, min_samples_leaf=2, min_samples_split=5, n_estimators=10; total time=   0.2s\n",
      "[CV] END max_depth=5, min_samples_leaf=2, min_samples_split=5, n_estimators=10; total time=   0.0s\n",
      "[CV] END max_depth=5, min_samples_leaf=2, min_samples_split=5, n_estimators=10; total time=   0.0s\n",
      "[CV] END max_depth=5, min_samples_leaf=2, min_samples_split=5, n_estimators=10; total time=   0.1s\n",
      "[CV] END max_depth=5, min_samples_leaf=2, min_samples_split=5, n_estimators=10; total time=   0.2s\n",
      "[CV] END max_depth=5, min_samples_leaf=2, min_samples_split=5, n_estimators=30; total time=   0.1s\n",
      "[CV] END max_depth=5, min_samples_leaf=2, min_samples_split=5, n_estimators=30; total time=   0.1s\n",
      "[CV] END max_depth=5, min_samples_leaf=2, min_samples_split=5, n_estimators=30; total time=   0.2s\n",
      "[CV] END max_depth=5, min_samples_leaf=2, min_samples_split=5, n_estimators=30; total time=   0.3s\n",
      "[CV] END max_depth=5, min_samples_leaf=2, min_samples_split=5, n_estimators=30; total time=   0.2s\n",
      "[CV] END max_depth=5, min_samples_leaf=2, min_samples_split=5, n_estimators=30; total time=   0.1s\n",
      "[CV] END max_depth=5, min_samples_leaf=2, min_samples_split=5, n_estimators=30; total time=   0.3s\n",
      "[CV] END max_depth=5, min_samples_leaf=2, min_samples_split=5, n_estimators=30; total time=   0.2s\n",
      "[CV] END max_depth=5, min_samples_leaf=2, min_samples_split=5, n_estimators=50; total time=   0.3s\n",
      "[CV] END max_depth=5, min_samples_leaf=2, min_samples_split=5, n_estimators=50; total time=   0.3s\n",
      "[CV] END max_depth=5, min_samples_leaf=2, min_samples_split=5, n_estimators=50; total time=   0.2s\n",
      "[CV] END max_depth=5, min_samples_leaf=2, min_samples_split=5, n_estimators=50; total time=   0.4s\n",
      "[CV] END max_depth=5, min_samples_leaf=2, min_samples_split=5, n_estimators=50; total time=   0.3s\n",
      "[CV] END max_depth=5, min_samples_leaf=2, min_samples_split=5, n_estimators=50; total time=   0.3s\n",
      "[CV] END max_depth=5, min_samples_leaf=2, min_samples_split=5, n_estimators=50; total time=   0.3s\n",
      "[CV] END max_depth=5, min_samples_leaf=2, min_samples_split=10, n_estimators=10; total time=   0.1s\n",
      "[CV] END max_depth=5, min_samples_leaf=2, min_samples_split=10, n_estimators=10; total time=   0.2s\n",
      "[CV] END max_depth=5, min_samples_leaf=2, min_samples_split=10, n_estimators=10; total time=   0.1s\n",
      "[CV] END max_depth=5, min_samples_leaf=2, min_samples_split=5, n_estimators=50; total time=   0.2s\n",
      "[CV] END max_depth=5, min_samples_leaf=2, min_samples_split=10, n_estimators=10; total time=   0.0s\n",
      "[CV] END max_depth=5, min_samples_leaf=2, min_samples_split=10, n_estimators=10; total time=   0.1s\n",
      "[CV] END max_depth=5, min_samples_leaf=2, min_samples_split=10, n_estimators=10; total time=   0.2s\n",
      "[CV] END max_depth=5, min_samples_leaf=2, min_samples_split=10, n_estimators=10; total time=   0.2s\n",
      "[CV] END max_depth=5, min_samples_leaf=2, min_samples_split=10, n_estimators=10; total time=   0.2s\n",
      "[CV] END max_depth=5, min_samples_leaf=2, min_samples_split=10, n_estimators=30; total time=   0.2s\n",
      "[CV] END max_depth=5, min_samples_leaf=2, min_samples_split=10, n_estimators=30; total time=   0.2s\n",
      "[CV] END max_depth=5, min_samples_leaf=2, min_samples_split=10, n_estimators=30; total time=   0.3s\n",
      "[CV] END max_depth=5, min_samples_leaf=2, min_samples_split=10, n_estimators=30; total time=   0.2s\n",
      "[CV] END max_depth=5, min_samples_leaf=2, min_samples_split=10, n_estimators=30; total time=   0.2s\n",
      "[CV] END max_depth=5, min_samples_leaf=2, min_samples_split=10, n_estimators=30; total time=   0.2s\n",
      "[CV] END max_depth=5, min_samples_leaf=2, min_samples_split=10, n_estimators=30; total time=   0.2s\n",
      "[CV] END max_depth=5, min_samples_leaf=2, min_samples_split=10, n_estimators=30; total time=   0.3s\n",
      "[CV] END max_depth=5, min_samples_leaf=2, min_samples_split=10, n_estimators=50; total time=   0.2s\n",
      "[CV] END max_depth=5, min_samples_leaf=2, min_samples_split=10, n_estimators=50; total time=   0.3s\n",
      "[CV] END max_depth=5, min_samples_leaf=2, min_samples_split=10, n_estimators=50; total time=   0.4s\n",
      "[CV] END max_depth=5, min_samples_leaf=2, min_samples_split=10, n_estimators=50; total time=   0.3s\n",
      "[CV] END max_depth=5, min_samples_leaf=2, min_samples_split=10, n_estimators=50; total time=   0.2s\n",
      "[CV] END max_depth=5, min_samples_leaf=2, min_samples_split=10, n_estimators=50; total time=   0.4s\n",
      "[CV] END max_depth=5, min_samples_leaf=2, min_samples_split=10, n_estimators=50; total time=   0.3s\n",
      "[CV] END max_depth=5, min_samples_leaf=2, min_samples_split=10, n_estimators=50; total time=   0.3s\n",
      "[CV] END max_depth=5, min_samples_leaf=5, min_samples_split=2, n_estimators=10; total time=   0.1s\n",
      "[CV] END max_depth=5, min_samples_leaf=5, min_samples_split=2, n_estimators=10; total time=   0.1s\n",
      "[CV] END max_depth=5, min_samples_leaf=5, min_samples_split=2, n_estimators=10; total time=   0.1s\n",
      "[CV] END max_depth=5, min_samples_leaf=5, min_samples_split=2, n_estimators=10; total time=   0.1s\n",
      "[CV] END max_depth=5, min_samples_leaf=5, min_samples_split=2, n_estimators=10; total time=   0.1s\n",
      "[CV] END max_depth=5, min_samples_leaf=5, min_samples_split=2, n_estimators=10; total time=   0.1s\n",
      "[CV] END max_depth=5, min_samples_leaf=5, min_samples_split=2, n_estimators=10; total time=   0.0s\n",
      "[CV] END max_depth=5, min_samples_leaf=5, min_samples_split=2, n_estimators=10; total time=   0.1s\n",
      "[CV] END max_depth=5, min_samples_leaf=5, min_samples_split=2, n_estimators=30; total time=   0.2s\n",
      "[CV] END max_depth=5, min_samples_leaf=5, min_samples_split=2, n_estimators=30; total time=   0.1s\n",
      "[CV] END max_depth=5, min_samples_leaf=5, min_samples_split=2, n_estimators=30; total time=   0.2s\n",
      "[CV] END max_depth=5, min_samples_leaf=5, min_samples_split=2, n_estimators=30; total time=   0.3s\n",
      "[CV] END max_depth=5, min_samples_leaf=5, min_samples_split=2, n_estimators=30; total time=   0.1s\n",
      "[CV] END max_depth=5, min_samples_leaf=5, min_samples_split=2, n_estimators=30; total time=   0.1s\n",
      "[CV] END max_depth=5, min_samples_leaf=5, min_samples_split=2, n_estimators=30; total time=   0.2s\n",
      "[CV] END max_depth=5, min_samples_leaf=5, min_samples_split=2, n_estimators=30; total time=   0.1s\n",
      "[CV] END max_depth=5, min_samples_leaf=5, min_samples_split=2, n_estimators=50; total time=   0.2s\n",
      "[CV] END max_depth=5, min_samples_leaf=5, min_samples_split=2, n_estimators=50; total time=   0.3s\n",
      "[CV] END max_depth=5, min_samples_leaf=5, min_samples_split=2, n_estimators=50; total time=   0.3s\n",
      "[CV] END max_depth=5, min_samples_leaf=5, min_samples_split=2, n_estimators=50; total time=   0.3s\n",
      "[CV] END max_depth=5, min_samples_leaf=5, min_samples_split=2, n_estimators=50; total time=   0.2s\n",
      "[CV] END max_depth=5, min_samples_leaf=5, min_samples_split=2, n_estimators=50; total time=   0.3s\n",
      "[CV] END max_depth=5, min_samples_leaf=5, min_samples_split=2, n_estimators=50; total time=   0.3s\n",
      "[CV] END max_depth=5, min_samples_leaf=5, min_samples_split=2, n_estimators=50; total time=   0.3s\n",
      "[CV] END max_depth=5, min_samples_leaf=5, min_samples_split=5, n_estimators=10; total time=   0.2s\n",
      "[CV] END max_depth=5, min_samples_leaf=5, min_samples_split=5, n_estimators=10; total time=   0.2s\n",
      "[CV] END max_depth=5, min_samples_leaf=5, min_samples_split=5, n_estimators=10; total time=   0.1s\n",
      "[CV] END max_depth=5, min_samples_leaf=5, min_samples_split=5, n_estimators=10; total time=   0.1s\n",
      "[CV] END max_depth=5, min_samples_leaf=5, min_samples_split=5, n_estimators=10; total time=   0.2s\n",
      "[CV] END max_depth=5, min_samples_leaf=5, min_samples_split=5, n_estimators=10; total time=   0.2s\n",
      "[CV] END max_depth=5, min_samples_leaf=5, min_samples_split=5, n_estimators=10; total time=   0.0s\n",
      "[CV] END max_depth=5, min_samples_leaf=5, min_samples_split=5, n_estimators=10; total time=   0.2s\n",
      "[CV] END max_depth=5, min_samples_leaf=5, min_samples_split=5, n_estimators=30; total time=   0.1s\n",
      "[CV] END max_depth=5, min_samples_leaf=5, min_samples_split=5, n_estimators=30; total time=   0.2s\n",
      "[CV] END max_depth=5, min_samples_leaf=5, min_samples_split=5, n_estimators=30; total time=   0.2s\n",
      "[CV] END max_depth=5, min_samples_leaf=5, min_samples_split=5, n_estimators=30; total time=   0.2s\n",
      "[CV] END max_depth=5, min_samples_leaf=5, min_samples_split=5, n_estimators=30; total time=   0.1s\n",
      "[CV] END max_depth=5, min_samples_leaf=5, min_samples_split=5, n_estimators=30; total time=   0.2s\n",
      "[CV] END max_depth=5, min_samples_leaf=5, min_samples_split=5, n_estimators=30; total time=   0.1s\n",
      "[CV] END max_depth=5, min_samples_leaf=5, min_samples_split=5, n_estimators=30; total time=   0.2s\n",
      "[CV] END max_depth=5, min_samples_leaf=5, min_samples_split=5, n_estimators=50; total time=   0.3s\n",
      "[CV] END max_depth=5, min_samples_leaf=5, min_samples_split=5, n_estimators=50; total time=   0.2s\n",
      "[CV] END max_depth=5, min_samples_leaf=5, min_samples_split=5, n_estimators=50; total time=   0.2s\n",
      "[CV] END max_depth=5, min_samples_leaf=5, min_samples_split=5, n_estimators=50; total time=   0.3s\n",
      "[CV] END max_depth=5, min_samples_leaf=5, min_samples_split=5, n_estimators=50; total time=   0.2s\n",
      "[CV] END max_depth=5, min_samples_leaf=5, min_samples_split=10, n_estimators=10; total time=   0.1s\n",
      "[CV] END max_depth=5, min_samples_leaf=5, min_samples_split=5, n_estimators=50; total time=   0.3s\n",
      "[CV] END max_depth=5, min_samples_leaf=5, min_samples_split=5, n_estimators=50; total time=   0.3s\n",
      "[CV] END max_depth=5, min_samples_leaf=5, min_samples_split=10, n_estimators=10; total time=   0.1s[CV] END max_depth=5, min_samples_leaf=5, min_samples_split=10, n_estimators=10; total time=   0.1s\n",
      "\n",
      "[CV] END max_depth=5, min_samples_leaf=5, min_samples_split=10, n_estimators=10; total time=   0.1s\n",
      "[CV] END max_depth=5, min_samples_leaf=5, min_samples_split=10, n_estimators=10; total time=   0.0s\n",
      "[CV] END max_depth=5, min_samples_leaf=5, min_samples_split=5, n_estimators=50; total time=   0.3s\n",
      "[CV] END max_depth=5, min_samples_leaf=5, min_samples_split=10, n_estimators=10; total time=   0.1s\n",
      "[CV] END max_depth=5, min_samples_leaf=5, min_samples_split=10, n_estimators=10; total time=   0.0s\n",
      "[CV] END max_depth=5, min_samples_leaf=5, min_samples_split=10, n_estimators=10; total time=   0.1s\n",
      "[CV] END max_depth=5, min_samples_leaf=5, min_samples_split=10, n_estimators=30; total time=   0.1s\n",
      "[CV] END max_depth=5, min_samples_leaf=5, min_samples_split=10, n_estimators=30; total time=   0.2s\n",
      "[CV] END max_depth=5, min_samples_leaf=5, min_samples_split=10, n_estimators=30; total time=   0.2s\n",
      "[CV] END max_depth=5, min_samples_leaf=5, min_samples_split=10, n_estimators=30; total time=   0.2s\n",
      "[CV] END max_depth=5, min_samples_leaf=5, min_samples_split=10, n_estimators=30; total time=   0.1s\n",
      "[CV] END max_depth=5, min_samples_leaf=5, min_samples_split=10, n_estimators=30; total time=   0.2s\n",
      "[CV] END max_depth=5, min_samples_leaf=5, min_samples_split=10, n_estimators=30; total time=   0.2s\n",
      "[CV] END max_depth=5, min_samples_leaf=5, min_samples_split=10, n_estimators=30; total time=   0.2s\n",
      "[CV] END max_depth=5, min_samples_leaf=5, min_samples_split=10, n_estimators=50; total time=   0.3s\n",
      "[CV] END max_depth=5, min_samples_leaf=5, min_samples_split=10, n_estimators=50; total time=   0.3s\n",
      "[CV] END max_depth=5, min_samples_leaf=5, min_samples_split=10, n_estimators=50; total time=   0.3s\n",
      "[CV] END max_depth=5, min_samples_leaf=5, min_samples_split=10, n_estimators=50; total time=   0.3s\n",
      "[CV] END max_depth=5, min_samples_leaf=5, min_samples_split=10, n_estimators=50; total time=   0.2s\n",
      "[CV] END max_depth=5, min_samples_leaf=5, min_samples_split=10, n_estimators=50; total time=   0.3s\n",
      "[CV] END max_depth=5, min_samples_leaf=10, min_samples_split=2, n_estimators=10; total time=   0.0s\n",
      "[CV] END max_depth=5, min_samples_leaf=5, min_samples_split=10, n_estimators=50; total time=   0.3s\n",
      "[CV] END max_depth=5, min_samples_leaf=10, min_samples_split=2, n_estimators=10; total time=   0.1s\n",
      "[CV] END max_depth=5, min_samples_leaf=5, min_samples_split=10, n_estimators=50; total time=   0.3s\n",
      "[CV] END max_depth=5, min_samples_leaf=10, min_samples_split=2, n_estimators=10; total time=   0.0s\n",
      "[CV] END max_depth=5, min_samples_leaf=10, min_samples_split=2, n_estimators=10; total time=   0.1s\n",
      "[CV] END max_depth=5, min_samples_leaf=10, min_samples_split=2, n_estimators=10; total time=   0.1s\n",
      "[CV] END max_depth=5, min_samples_leaf=10, min_samples_split=2, n_estimators=10; total time=   0.0s\n",
      "[CV] END max_depth=5, min_samples_leaf=10, min_samples_split=2, n_estimators=10; total time=   0.1s\n",
      "[CV] END max_depth=5, min_samples_leaf=10, min_samples_split=2, n_estimators=10; total time=   0.1s\n",
      "[CV] END max_depth=5, min_samples_leaf=10, min_samples_split=2, n_estimators=30; total time=   0.1s\n",
      "[CV] END max_depth=5, min_samples_leaf=10, min_samples_split=2, n_estimators=30; total time=   0.1s\n",
      "[CV] END max_depth=5, min_samples_leaf=10, min_samples_split=2, n_estimators=30; total time=   0.2s\n",
      "[CV] END max_depth=5, min_samples_leaf=10, min_samples_split=2, n_estimators=30; total time=   0.2s\n",
      "[CV] END max_depth=5, min_samples_leaf=10, min_samples_split=2, n_estimators=30; total time=   0.2s\n",
      "[CV] END max_depth=5, min_samples_leaf=10, min_samples_split=2, n_estimators=30; total time=   0.1s\n",
      "[CV] END max_depth=5, min_samples_leaf=10, min_samples_split=2, n_estimators=30; total time=   0.2s\n",
      "[CV] END max_depth=5, min_samples_leaf=10, min_samples_split=2, n_estimators=30; total time=   0.2s\n",
      "[CV] END max_depth=5, min_samples_leaf=10, min_samples_split=2, n_estimators=50; total time=   0.2s\n",
      "[CV] END max_depth=5, min_samples_leaf=10, min_samples_split=2, n_estimators=50; total time=   0.3s\n",
      "[CV] END max_depth=5, min_samples_leaf=10, min_samples_split=2, n_estimators=50; total time=   0.3s\n",
      "[CV] END max_depth=5, min_samples_leaf=10, min_samples_split=2, n_estimators=50; total time=   0.3s\n",
      "[CV] END max_depth=5, min_samples_leaf=10, min_samples_split=2, n_estimators=50; total time=   0.2s\n",
      "[CV] END max_depth=5, min_samples_leaf=10, min_samples_split=2, n_estimators=50; total time=   0.2s\n",
      "[CV] END max_depth=5, min_samples_leaf=10, min_samples_split=2, n_estimators=50; total time=   0.2s\n",
      "[CV] END max_depth=5, min_samples_leaf=10, min_samples_split=5, n_estimators=10; total time=   0.1s\n",
      "[CV] END max_depth=5, min_samples_leaf=10, min_samples_split=5, n_estimators=10; total time=   0.1s\n",
      "[CV] END max_depth=5, min_samples_leaf=10, min_samples_split=5, n_estimators=10; total time=   0.1s\n",
      "[CV] END max_depth=5, min_samples_leaf=10, min_samples_split=5, n_estimators=10; total time=   0.1s\n",
      "[CV] END max_depth=5, min_samples_leaf=10, min_samples_split=2, n_estimators=50; total time=   0.3s\n",
      "[CV] END max_depth=5, min_samples_leaf=10, min_samples_split=5, n_estimators=10; total time=   0.1s\n",
      "[CV] END max_depth=5, min_samples_leaf=10, min_samples_split=5, n_estimators=10; total time=   0.1s\n",
      "[CV] END max_depth=5, min_samples_leaf=10, min_samples_split=5, n_estimators=10; total time=   0.1s\n",
      "[CV] END max_depth=5, min_samples_leaf=10, min_samples_split=5, n_estimators=10; total time=   0.0s\n",
      "[CV] END max_depth=5, min_samples_leaf=10, min_samples_split=5, n_estimators=30; total time=   0.2s\n",
      "[CV] END max_depth=5, min_samples_leaf=10, min_samples_split=5, n_estimators=30; total time=   0.2s\n",
      "[CV] END max_depth=5, min_samples_leaf=10, min_samples_split=5, n_estimators=30; total time=   0.2s\n",
      "[CV] END max_depth=5, min_samples_leaf=10, min_samples_split=5, n_estimators=30; total time=   0.2s\n",
      "[CV] END max_depth=5, min_samples_leaf=10, min_samples_split=5, n_estimators=30; total time=   0.1s\n",
      "[CV] END max_depth=5, min_samples_leaf=10, min_samples_split=5, n_estimators=30; total time=   0.1s\n",
      "[CV] END max_depth=5, min_samples_leaf=10, min_samples_split=5, n_estimators=30; total time=   0.1s\n",
      "[CV] END max_depth=5, min_samples_leaf=10, min_samples_split=5, n_estimators=30; total time=   0.3s\n",
      "[CV] END max_depth=5, min_samples_leaf=10, min_samples_split=5, n_estimators=50; total time=   0.2s\n",
      "[CV] END max_depth=5, min_samples_leaf=10, min_samples_split=5, n_estimators=50; total time=   0.2s\n",
      "[CV] END max_depth=5, min_samples_leaf=10, min_samples_split=5, n_estimators=50; total time=   0.3s\n",
      "[CV] END max_depth=5, min_samples_leaf=10, min_samples_split=5, n_estimators=50; total time=   0.3s\n",
      "[CV] END max_depth=5, min_samples_leaf=10, min_samples_split=5, n_estimators=50; total time=   0.2s\n",
      "[CV] END max_depth=5, min_samples_leaf=10, min_samples_split=5, n_estimators=50; total time=   0.3s\n",
      "[CV] END max_depth=5, min_samples_leaf=10, min_samples_split=10, n_estimators=10; total time=   0.1s\n",
      "[CV] END max_depth=5, min_samples_leaf=10, min_samples_split=5, n_estimators=50; total time=   0.3s\n",
      "[CV] END max_depth=5, min_samples_leaf=10, min_samples_split=10, n_estimators=10; total time=   0.1s\n",
      "[CV] END max_depth=5, min_samples_leaf=10, min_samples_split=10, n_estimators=10; total time=   0.1s\n",
      "[CV] END max_depth=5, min_samples_leaf=10, min_samples_split=5, n_estimators=50; total time=   0.2s\n",
      "[CV] END max_depth=5, min_samples_leaf=10, min_samples_split=10, n_estimators=10; total time=   0.1s\n",
      "[CV] END max_depth=5, min_samples_leaf=10, min_samples_split=10, n_estimators=10; total time=   0.1s\n",
      "[CV] END max_depth=5, min_samples_leaf=10, min_samples_split=10, n_estimators=10; total time=   0.1s\n",
      "[CV] END max_depth=5, min_samples_leaf=10, min_samples_split=10, n_estimators=10; total time=   0.1s\n",
      "[CV] END max_depth=5, min_samples_leaf=10, min_samples_split=10, n_estimators=10; total time=   0.1s\n",
      "[CV] END max_depth=5, min_samples_leaf=10, min_samples_split=10, n_estimators=30; total time=   0.1s\n",
      "[CV] END max_depth=5, min_samples_leaf=10, min_samples_split=10, n_estimators=30; total time=   0.1s\n",
      "[CV] END max_depth=5, min_samples_leaf=10, min_samples_split=10, n_estimators=30; total time=   0.2s\n",
      "[CV] END max_depth=5, min_samples_leaf=10, min_samples_split=10, n_estimators=30; total time=   0.2s\n",
      "[CV] END max_depth=5, min_samples_leaf=10, min_samples_split=10, n_estimators=30; total time=   0.2s\n",
      "[CV] END max_depth=5, min_samples_leaf=10, min_samples_split=10, n_estimators=30; total time=   0.1s\n",
      "[CV] END max_depth=5, min_samples_leaf=10, min_samples_split=10, n_estimators=30; total time=   0.2s\n",
      "[CV] END max_depth=5, min_samples_leaf=10, min_samples_split=10, n_estimators=30; total time=   0.2s\n",
      "[CV] END max_depth=5, min_samples_leaf=10, min_samples_split=10, n_estimators=50; total time=   0.3s\n",
      "[CV] END max_depth=5, min_samples_leaf=10, min_samples_split=10, n_estimators=50; total time=   0.3s\n",
      "[CV] END max_depth=5, min_samples_leaf=10, min_samples_split=10, n_estimators=50; total time=   0.3s\n",
      "[CV] END max_depth=5, min_samples_leaf=10, min_samples_split=10, n_estimators=50; total time=   0.3s\n",
      "[CV] END max_depth=5, min_samples_leaf=10, min_samples_split=10, n_estimators=50; total time=   0.2s\n",
      "[CV] END max_depth=5, min_samples_leaf=10, min_samples_split=10, n_estimators=50; total time=   0.2s\n",
      "[CV] END max_depth=5, min_samples_leaf=10, min_samples_split=10, n_estimators=50; total time=   0.3s\n",
      "[CV] END max_depth=5, min_samples_leaf=10, min_samples_split=10, n_estimators=50; total time=   0.3s\n",
      "The best max_depth is:  2 The best n_estimators is:  50 The best min_samples_split is:  2 The best min_samples_leaf is:  10\n",
      "The mean of the cross validation is:  -1740.3182536041757\n",
      "The std of the cross validation is:  1884.1891093825245\n"
     ]
    }
   ],
   "source": [
    "#Using the functions. Next blocks should have the same results but without using functions\n",
    "\n",
    "import importlib\n",
    "import rf_functions \n",
    "\n",
    "importlib.reload(rf_functions)  # Reload the module\n",
    "from rf_functions import rf_train_and_fit\n",
    "\n",
    "grid = {\n",
    "    'n_estimators': [10, 30, 50],\n",
    "    'max_depth': [2,5],\n",
    "    'min_samples_split': [2, 5, 10], #no 1\n",
    "    'min_samples_leaf': [2,5,10],\n",
    "    #'criterion': ['squared_error'],\n",
    "}\n",
    "\n",
    "X = cv.drop('calving', axis=1)\n",
    "y = cv['calving']\n",
    "\n",
    "cv_split = KFold(n_splits=8, shuffle=False, random_state=None)\n",
    "\n",
    "\n",
    "rf_trained = rf_train_and_fit(X, y, cv_split, grid, 'neg_mean_squared_error')\n",
    "\n",
    "print('The best max_depth is: ', rf_trained.best_params_['max_depth']\n",
    "        , 'The best n_estimators is: ', rf_trained.best_params_['n_estimators']\n",
    "        , 'The best min_samples_split is: ', rf_trained.best_params_['min_samples_split']\n",
    "        , 'The best min_samples_leaf is: ', rf_trained.best_params_['min_samples_leaf'])\n",
    "\n",
    "\n",
    "#defining the model with the best parameters\n",
    "fitted_rf = sklearn.ensemble.RandomForestRegressor(criterion='squared_error',\n",
    "                                                    max_depth=rf_trained.best_params_['max_depth'],\n",
    "                                                    n_estimators=rf_trained.best_params_['n_estimators'],\n",
    "                                                    min_samples_split=rf_trained.best_params_['min_samples_split'],\n",
    "                                                    min_samples_leaf=rf_trained.best_params_['min_samples_leaf'],\n",
    "                                                    random_state=42,\n",
    "                                                    n_jobs=-1\n",
    "                                                    )\n",
    "\n",
    "cvl = cross_val_score(fitted_rf, X, y, cv=cv_split, scoring='neg_mean_squared_error', n_jobs=-1)\n",
    "\n",
    "print('The mean of the cross validation is: ', np.mean(cvl))\n",
    "print('The std of the cross validation is: ', np.std(cvl))"
   ]
  },
  {
   "cell_type": "code",
   "execution_count": 209,
   "metadata": {},
   "outputs": [
    {
     "data": {
      "image/png": "[encoded data removed]",
      "text/plain": [
       "<Figure size 2000x500 with 4 Axes>"
      ]
     },
     "metadata": {},
     "output_type": "display_data"
    }
   ],
   "source": [
    "#Trying the plot function\n",
    "\n",
    "import importlib\n",
    "import rf_plot \n",
    "\n",
    "importlib.reload(rf_plot)  # Reload the module\n",
    "from rf_plot import plot_gsearch_results\n",
    "\n",
    "plot_gsearch_results(rf_trained)"
   ]
  },
  {
   "cell_type": "code",
   "execution_count": 211,
   "metadata": {},
   "outputs": [
    {
     "data": {
      "image/png": "[encoded data removed]",
      "text/plain": [
       "<Figure size 1200x600 with 1 Axes>"
      ]
     },
     "metadata": {},
     "output_type": "display_data"
    }
   ],
   "source": [
    "importlib.reload(rf_plot)  # Reload the module\n",
    "from rf_plot import plot_feature_importance\n",
    "\n",
    "plot_feature_importance(rf_trained, X, variables_new = None, save_dir=None)"
   ]
  },
  {
   "attachments": {},
   "cell_type": "markdown",
   "metadata": {},
   "source": []
  },
  {
   "cell_type": "code",
   "execution_count": 63,
   "metadata": {},
   "outputs": [],
   "source": [
    "rf = RandomForestRegressor(random_state=42, n_jobs=-1)\n",
    "grid_search = GridSearchCV(estimator=rf, param_grid= grid, cv=cv_split, verbose=2, n_jobs=-1, scoring= 'neg_mean_squared_error')"
   ]
  },
  {
   "cell_type": "code",
   "execution_count": null,
   "metadata": {},
   "outputs": [],
   "source": [
    "grid_search.fit(X, y)"
   ]
  },
  {
   "cell_type": "code",
   "execution_count": 70,
   "metadata": {},
   "outputs": [
    {
     "ename": "type",
     "evalue": "'mean_train_score'",
     "output_type": "error",
     "traceback": [
      "\u001b[0;31m---------------------------------------------------------------------------\u001b[0m",
      "\u001b[0;31mKeyError\u001b[0m                                  Traceback (most recent call last)",
      "Cell \u001b[0;32mIn[70], line 4\u001b[0m\n\u001b[1;32m      2\u001b[0m means_test \u001b[39m=\u001b[39m grid_search\u001b[39m.\u001b[39mcv_results_[\u001b[39m'\u001b[39m\u001b[39mmean_test_score\u001b[39m\u001b[39m'\u001b[39m]\n\u001b[1;32m      3\u001b[0m stds_test \u001b[39m=\u001b[39m grid_search\u001b[39m.\u001b[39mcv_results_[\u001b[39m'\u001b[39m\u001b[39mstd_test_score\u001b[39m\u001b[39m'\u001b[39m]\n\u001b[0;32m----> 4\u001b[0m means_train \u001b[39m=\u001b[39m grid_search\u001b[39m.\u001b[39;49mcv_results_[\u001b[39m'\u001b[39;49m\u001b[39mmean_train_score\u001b[39;49m\u001b[39m'\u001b[39;49m]\n",
      "\u001b[0;31mKeyError\u001b[0m: 'mean_train_score'"
     ]
    }
   ],
   "source": [
    "grid_search.cv_results_\n",
    "means_test = grid_search.cv_results_['mean_test_score']\n",
    "stds_test = grid_search.cv_results_['std_test_score']\n",
    "means_train = grid_search.cv_results_['mean_train_score']"
   ]
  },
  {
   "cell_type": "code",
   "execution_count": null,
   "metadata": {},
   "outputs": [],
   "source": []
  },
  {
   "cell_type": "code",
   "execution_count": null,
   "metadata": {},
   "outputs": [],
   "source": []
  },
  {
   "cell_type": "code",
   "execution_count": null,
   "metadata": {},
   "outputs": [],
   "source": []
  },
  {
   "cell_type": "code",
   "execution_count": null,
   "metadata": {},
   "outputs": [],
   "source": []
  },
  {
   "cell_type": "code",
   "execution_count": null,
   "metadata": {},
   "outputs": [],
   "source": []
  },
  {
   "cell_type": "code",
   "execution_count": null,
   "metadata": {},
   "outputs": [],
   "source": []
  },
  {
   "cell_type": "code",
   "execution_count": null,
   "metadata": {},
   "outputs": [],
   "source": []
  },
  {
   "cell_type": "code",
   "execution_count": null,
   "metadata": {},
   "outputs": [],
   "source": []
  },
  {
   "cell_type": "code",
   "execution_count": null,
   "metadata": {},
   "outputs": [],
   "source": []
  },
  {
   "attachments": {},
   "cell_type": "markdown",
   "metadata": {},
   "source": [
    "In the next code block i will perform a Grisd-search and a model tuning accorrding to the block division strategy. The order of the blocks is preserved by Kfold, by not mixing the variables. This was re done with the functions later (blocks above)"
   ]
  },
  {
   "cell_type": "code",
   "execution_count": null,
   "metadata": {},
   "outputs": [
    {
     "name": "stdout",
     "output_type": "stream",
     "text": [
      "Fitting 8 folds for each of 1400 candidates, totalling 11200 fits\n",
      "[CV] END criterion=squared_error, max_depth=5, min_samples_leaf=1, min_samples_split=1, n_estimators=10; total time=   0.0s\n",
      "[CV] END criterion=squared_error, max_depth=5, min_samples_leaf=1, min_samples_split=1, n_estimators=10; total time=   0.0s\n",
      "[CV] END criterion=squared_error, max_depth=5, min_samples_leaf=1, min_samples_split=1, n_estimators=10; total time=   0.0s\n",
      "[CV] END criterion=squared_error, max_depth=5, min_samples_leaf=1, min_samples_split=1, n_estimators=10; total time=   0.0s\n",
      "[CV] END criterion=squared_error, max_depth=5, min_samples_leaf=1, min_samples_split=1, n_estimators=10; total time=   0.0s\n",
      "[CV] END criterion=squared_error, max_depth=5, min_samples_leaf=1, min_samples_split=1, n_estimators=10; total time=   0.0s\n",
      "[CV] END criterion=squared_error, max_depth=5, min_samples_leaf=1, min_samples_split=1, n_estimators=10; total time=   0.0s\n",
      "[CV] END criterion=squared_error, max_depth=5, min_samples_leaf=1, min_samples_split=1, n_estimators=10; total time=   0.0s\n",
      "[CV] END criterion=squared_error, max_depth=5, min_samples_leaf=1, min_samples_split=1, n_estimators=50; total time=   0.0s\n",
      "[CV] END criterion=squared_error, max_depth=5, min_samples_leaf=1, min_samples_split=1, n_estimators=50; total time=   0.0s\n",
      "[CV] END criterion=squared_error, max_depth=5, min_samples_leaf=1, min_samples_split=1, n_estimators=50; total time=   0.0s\n",
      "[CV] END criterion=squared_error, max_depth=5, min_samples_leaf=1, min_samples_split=1, n_estimators=50; total time=   0.0s\n",
      "[CV] END criterion=squared_error, max_depth=5, min_samples_leaf=1, min_samples_split=1, n_estimators=50; total time=   0.0s\n",
      "[CV] END criterion=squared_error, max_depth=5, min_samples_leaf=1, min_samples_split=1, n_estimators=50; total time=   0.0s\n",
      "[CV] END criterion=squared_error, max_depth=5, min_samples_leaf=1, min_samples_split=1, n_estimators=50; total time=   0.0s\n",
      "[CV] END criterion=squared_error, max_depth=5, min_samples_leaf=1, min_samples_split=1, n_estimators=50; total time=   0.0s\n",
      "[CV] END criterion=squared_error, max_depth=5, min_samples_leaf=1, min_samples_split=1, n_estimators=100; total time=   0.0s\n",
      "[CV] END criterion=squared_error, max_depth=5, min_samples_leaf=1, min_samples_split=1, n_estimators=100; total time=   0.0s\n",
      "[CV] END criterion=squared_error, max_depth=5, min_samples_leaf=1, min_samples_split=1, n_estimators=100; total time=   0.0s\n",
      "[CV] END criterion=squared_error, max_depth=5, min_samples_leaf=1, min_samples_split=1, n_estimators=100; total time=   0.0s\n",
      "[CV] END criterion=squared_error, max_depth=5, min_samples_leaf=1, min_samples_split=1, n_estimators=100; total time=   0.0s\n",
      "[CV] END criterion=squared_error, max_depth=5, min_samples_leaf=1, min_samples_split=1, n_estimators=100; total time=   0.0s\n",
      "[CV] END criterion=squared_error, max_depth=5, min_samples_leaf=1, min_samples_split=1, n_estimators=100; total time=   0.0s\n",
      "[CV] END criterion=squared_error, max_depth=5, min_samples_leaf=1, min_samples_split=1, n_estimators=100; total time=   0.0s\n",
      "[CV] END criterion=squared_error, max_depth=5, min_samples_leaf=1, min_samples_split=1, n_estimators=500; total time=   0.0s\n",
      "[CV] END criterion=squared_error, max_depth=5, min_samples_leaf=1, min_samples_split=1, n_estimators=500; total time=   0.0s\n",
      "[CV] END criterion=squared_error, max_depth=5, min_samples_leaf=1, min_samples_split=1, n_estimators=500; total time=   0.0s\n",
      "[CV] END criterion=squared_error, max_depth=5, min_samples_leaf=1, min_samples_split=1, n_estimators=500; total time=   0.0s\n",
      "[CV] END criterion=squared_error, max_depth=5, min_samples_leaf=1, min_samples_split=1, n_estimators=500; total time=   0.0s\n",
      "[CV] END criterion=squared_error, max_depth=5, min_samples_leaf=1, min_samples_split=1, n_estimators=500; total time=   0.0s\n",
      "[CV] END criterion=squared_error, max_depth=5, min_samples_leaf=1, min_samples_split=1, n_estimators=500; total time=   0.0s\n",
      "[CV] END criterion=squared_error, max_depth=5, min_samples_leaf=1, min_samples_split=1, n_estimators=1000; total time=   0.0s\n",
      "[CV] END criterion=squared_error, max_depth=5, min_samples_leaf=1, min_samples_split=1, n_estimators=500; total time=   0.0s\n",
      "[CV] END criterion=squared_error, max_depth=5, min_samples_leaf=1, min_samples_split=1, n_estimators=1000; total time=   0.0s\n",
      "[CV] END criterion=squared_error, max_depth=5, min_samples_leaf=1, min_samples_split=1, n_estimators=1000; total time=   0.0s\n",
      "[CV] END criterion=squared_error, max_depth=5, min_samples_leaf=1, min_samples_split=1, n_estimators=1000; total time=   0.0s\n",
      "[CV] END criterion=squared_error, max_depth=5, min_samples_leaf=1, min_samples_split=1, n_estimators=1000; total time=   0.0s\n",
      "[CV] END criterion=squared_error, max_depth=5, min_samples_leaf=1, min_samples_split=1, n_estimators=1000; total time=   0.0s\n",
      "[CV] END criterion=squared_error, max_depth=5, min_samples_leaf=1, min_samples_split=1, n_estimators=1000; total time=   0.0s\n",
      "[CV] END criterion=squared_error, max_depth=5, min_samples_leaf=1, min_samples_split=1, n_estimators=1000; total time=   0.0s\n",
      "[CV] END criterion=squared_error, max_depth=5, min_samples_leaf=1, min_samples_split=2, n_estimators=10; total time=   0.1s\n",
      "[CV] END criterion=squared_error, max_depth=5, min_samples_leaf=1, min_samples_split=2, n_estimators=10; total time=   0.1s\n",
      "[CV] END criterion=squared_error, max_depth=5, min_samples_leaf=1, min_samples_split=2, n_estimators=10; total time=   0.1s\n",
      "[CV] END criterion=squared_error, max_depth=5, min_samples_leaf=1, min_samples_split=2, n_estimators=10; total time=   0.1s\n",
      "[CV] END criterion=squared_error, max_depth=5, min_samples_leaf=1, min_samples_split=2, n_estimators=10; total time=   0.1s\n",
      "[CV] END criterion=squared_error, max_depth=5, min_samples_leaf=1, min_samples_split=2, n_estimators=10; total time=   0.1s\n",
      "[CV] END criterion=squared_error, max_depth=5, min_samples_leaf=1, min_samples_split=2, n_estimators=50; total time=   0.2s\n",
      "[CV] END criterion=squared_error, max_depth=5, min_samples_leaf=1, min_samples_split=2, n_estimators=10; total time=   0.1s\n",
      "[CV] END criterion=squared_error, max_depth=5, min_samples_leaf=1, min_samples_split=2, n_estimators=10; total time=   0.1s\n",
      "[CV] END criterion=squared_error, max_depth=5, min_samples_leaf=1, min_samples_split=2, n_estimators=50; total time=   0.2s\n",
      "[CV] END criterion=squared_error, max_depth=5, min_samples_leaf=1, min_samples_split=2, n_estimators=50; total time=   0.3s\n",
      "[CV] END criterion=squared_error, max_depth=5, min_samples_leaf=1, min_samples_split=2, n_estimators=50; total time=   0.2s\n",
      "[CV] END criterion=squared_error, max_depth=5, min_samples_leaf=1, min_samples_split=2, n_estimators=100; total time=   0.6s\n",
      "[CV] END criterion=squared_error, max_depth=5, min_samples_leaf=1, min_samples_split=2, n_estimators=50; total time=   0.3s\n",
      "[CV] END criterion=squared_error, max_depth=5, min_samples_leaf=1, min_samples_split=2, n_estimators=50; total time=   0.3s\n",
      "[CV] END criterion=squared_error, max_depth=5, min_samples_leaf=1, min_samples_split=2, n_estimators=100; total time=   0.6s\n",
      "[CV] END criterion=squared_error, max_depth=5, min_samples_leaf=1, min_samples_split=2, n_estimators=50; total time=   0.2s\n",
      "[CV] END criterion=squared_error, max_depth=5, min_samples_leaf=1, min_samples_split=2, n_estimators=50; total time=   0.3s\n",
      "[CV] END criterion=squared_error, max_depth=5, min_samples_leaf=1, min_samples_split=2, n_estimators=100; total time=   0.6s\n",
      "[CV] END criterion=squared_error, max_depth=5, min_samples_leaf=1, min_samples_split=2, n_estimators=100; total time=   0.5s\n"
     ]
    },
    {
     "ename": "KeyboardInterrupt",
     "evalue": "",
     "output_type": "error",
     "traceback": [
      "\u001b[0;31m---------------------------------------------------------------------------\u001b[0m",
      "\u001b[0;31mKeyboardInterrupt\u001b[0m                         Traceback (most recent call last)",
      "Cell \u001b[0;32mIn[61], line 28\u001b[0m\n\u001b[1;32m     24\u001b[0m grid_search \u001b[39m=\u001b[39m GridSearchCV(estimator\u001b[39m=\u001b[39mrf, param_grid\u001b[39m=\u001b[39mgrid, cv\u001b[39m=\u001b[39mcv_split, verbose\u001b[39m=\u001b[39m\u001b[39m2\u001b[39m, n_jobs\u001b[39m=\u001b[39m\u001b[39m-\u001b[39m\u001b[39m1\u001b[39m, scoring\u001b[39m=\u001b[39m\u001b[39m'\u001b[39m\u001b[39mneg_mean_squared_error\u001b[39m\u001b[39m'\u001b[39m) \u001b[39m#lower values are better\u001b[39;00m\n\u001b[1;32m     27\u001b[0m \u001b[39m#Fitting the model\u001b[39;00m\n\u001b[0;32m---> 28\u001b[0m grid_search\u001b[39m.\u001b[39;49mfit(cv\u001b[39m.\u001b[39;49mdrop([\u001b[39m'\u001b[39;49m\u001b[39mcalving\u001b[39;49m\u001b[39m'\u001b[39;49m], axis\u001b[39m=\u001b[39;49m\u001b[39m1\u001b[39;49m), cv[\u001b[39m'\u001b[39;49m\u001b[39mcalving\u001b[39;49m\u001b[39m'\u001b[39;49m])\n\u001b[1;32m     31\u001b[0m \u001b[39mprint\u001b[39m(grid_search\u001b[39m.\u001b[39mbest_params_)\n\u001b[1;32m     32\u001b[0m \u001b[39mprint\u001b[39m(grid_search\u001b[39m.\u001b[39mbest_score_)\n",
      "File \u001b[0;32m~/anaconda3/lib/python3.10/site-packages/sklearn/model_selection/_search.py:874\u001b[0m, in \u001b[0;36mBaseSearchCV.fit\u001b[0;34m(self, X, y, groups, **fit_params)\u001b[0m\n\u001b[1;32m    868\u001b[0m     results \u001b[39m=\u001b[39m \u001b[39mself\u001b[39m\u001b[39m.\u001b[39m_format_results(\n\u001b[1;32m    869\u001b[0m         all_candidate_params, n_splits, all_out, all_more_results\n\u001b[1;32m    870\u001b[0m     )\n\u001b[1;32m    872\u001b[0m     \u001b[39mreturn\u001b[39;00m results\n\u001b[0;32m--> 874\u001b[0m \u001b[39mself\u001b[39;49m\u001b[39m.\u001b[39;49m_run_search(evaluate_candidates)\n\u001b[1;32m    876\u001b[0m \u001b[39m# multimetric is determined here because in the case of a callable\u001b[39;00m\n\u001b[1;32m    877\u001b[0m \u001b[39m# self.scoring the return type is only known after calling\u001b[39;00m\n\u001b[1;32m    878\u001b[0m first_test_score \u001b[39m=\u001b[39m all_out[\u001b[39m0\u001b[39m][\u001b[39m\"\u001b[39m\u001b[39mtest_scores\u001b[39m\u001b[39m\"\u001b[39m]\n",
      "File \u001b[0;32m~/anaconda3/lib/python3.10/site-packages/sklearn/model_selection/_search.py:1388\u001b[0m, in \u001b[0;36mGridSearchCV._run_search\u001b[0;34m(self, evaluate_candidates)\u001b[0m\n\u001b[1;32m   1386\u001b[0m \u001b[39mdef\u001b[39;00m \u001b[39m_run_search\u001b[39m(\u001b[39mself\u001b[39m, evaluate_candidates):\n\u001b[1;32m   1387\u001b[0m \u001b[39m    \u001b[39m\u001b[39m\"\"\"Search all candidates in param_grid\"\"\"\u001b[39;00m\n\u001b[0;32m-> 1388\u001b[0m     evaluate_candidates(ParameterGrid(\u001b[39mself\u001b[39;49m\u001b[39m.\u001b[39;49mparam_grid))\n",
      "File \u001b[0;32m~/anaconda3/lib/python3.10/site-packages/sklearn/model_selection/_search.py:821\u001b[0m, in \u001b[0;36mBaseSearchCV.fit.<locals>.evaluate_candidates\u001b[0;34m(candidate_params, cv, more_results)\u001b[0m\n\u001b[1;32m    813\u001b[0m \u001b[39mif\u001b[39;00m \u001b[39mself\u001b[39m\u001b[39m.\u001b[39mverbose \u001b[39m>\u001b[39m \u001b[39m0\u001b[39m:\n\u001b[1;32m    814\u001b[0m     \u001b[39mprint\u001b[39m(\n\u001b[1;32m    815\u001b[0m         \u001b[39m\"\u001b[39m\u001b[39mFitting \u001b[39m\u001b[39m{0}\u001b[39;00m\u001b[39m folds for each of \u001b[39m\u001b[39m{1}\u001b[39;00m\u001b[39m candidates,\u001b[39m\u001b[39m\"\u001b[39m\n\u001b[1;32m    816\u001b[0m         \u001b[39m\"\u001b[39m\u001b[39m totalling \u001b[39m\u001b[39m{2}\u001b[39;00m\u001b[39m fits\u001b[39m\u001b[39m\"\u001b[39m\u001b[39m.\u001b[39mformat(\n\u001b[1;32m    817\u001b[0m             n_splits, n_candidates, n_candidates \u001b[39m*\u001b[39m n_splits\n\u001b[1;32m    818\u001b[0m         )\n\u001b[1;32m    819\u001b[0m     )\n\u001b[0;32m--> 821\u001b[0m out \u001b[39m=\u001b[39m parallel(\n\u001b[1;32m    822\u001b[0m     delayed(_fit_and_score)(\n\u001b[1;32m    823\u001b[0m         clone(base_estimator),\n\u001b[1;32m    824\u001b[0m         X,\n\u001b[1;32m    825\u001b[0m         y,\n\u001b[1;32m    826\u001b[0m         train\u001b[39m=\u001b[39;49mtrain,\n\u001b[1;32m    827\u001b[0m         test\u001b[39m=\u001b[39;49mtest,\n\u001b[1;32m    828\u001b[0m         parameters\u001b[39m=\u001b[39;49mparameters,\n\u001b[1;32m    829\u001b[0m         split_progress\u001b[39m=\u001b[39;49m(split_idx, n_splits),\n\u001b[1;32m    830\u001b[0m         candidate_progress\u001b[39m=\u001b[39;49m(cand_idx, n_candidates),\n\u001b[1;32m    831\u001b[0m         \u001b[39m*\u001b[39;49m\u001b[39m*\u001b[39;49mfit_and_score_kwargs,\n\u001b[1;32m    832\u001b[0m     )\n\u001b[1;32m    833\u001b[0m     \u001b[39mfor\u001b[39;49;00m (cand_idx, parameters), (split_idx, (train, test)) \u001b[39min\u001b[39;49;00m product(\n\u001b[1;32m    834\u001b[0m         \u001b[39menumerate\u001b[39;49m(candidate_params), \u001b[39menumerate\u001b[39;49m(cv\u001b[39m.\u001b[39;49msplit(X, y, groups))\n\u001b[1;32m    835\u001b[0m     )\n\u001b[1;32m    836\u001b[0m )\n\u001b[1;32m    838\u001b[0m \u001b[39mif\u001b[39;00m \u001b[39mlen\u001b[39m(out) \u001b[39m<\u001b[39m \u001b[39m1\u001b[39m:\n\u001b[1;32m    839\u001b[0m     \u001b[39mraise\u001b[39;00m \u001b[39mValueError\u001b[39;00m(\n\u001b[1;32m    840\u001b[0m         \u001b[39m\"\u001b[39m\u001b[39mNo fits were performed. \u001b[39m\u001b[39m\"\u001b[39m\n\u001b[1;32m    841\u001b[0m         \u001b[39m\"\u001b[39m\u001b[39mWas the CV iterator empty? \u001b[39m\u001b[39m\"\u001b[39m\n\u001b[1;32m    842\u001b[0m         \u001b[39m\"\u001b[39m\u001b[39mWere there no candidates?\u001b[39m\u001b[39m\"\u001b[39m\n\u001b[1;32m    843\u001b[0m     )\n",
      "File \u001b[0;32m~/anaconda3/lib/python3.10/site-packages/sklearn/utils/parallel.py:63\u001b[0m, in \u001b[0;36mParallel.__call__\u001b[0;34m(self, iterable)\u001b[0m\n\u001b[1;32m     58\u001b[0m config \u001b[39m=\u001b[39m get_config()\n\u001b[1;32m     59\u001b[0m iterable_with_config \u001b[39m=\u001b[39m (\n\u001b[1;32m     60\u001b[0m     (_with_config(delayed_func, config), args, kwargs)\n\u001b[1;32m     61\u001b[0m     \u001b[39mfor\u001b[39;00m delayed_func, args, kwargs \u001b[39min\u001b[39;00m iterable\n\u001b[1;32m     62\u001b[0m )\n\u001b[0;32m---> 63\u001b[0m \u001b[39mreturn\u001b[39;00m \u001b[39msuper\u001b[39;49m()\u001b[39m.\u001b[39;49m\u001b[39m__call__\u001b[39;49m(iterable_with_config)\n",
      "File \u001b[0;32m~/anaconda3/lib/python3.10/site-packages/joblib/parallel.py:1098\u001b[0m, in \u001b[0;36mParallel.__call__\u001b[0;34m(self, iterable)\u001b[0m\n\u001b[1;32m   1095\u001b[0m     \u001b[39mself\u001b[39m\u001b[39m.\u001b[39m_iterating \u001b[39m=\u001b[39m \u001b[39mFalse\u001b[39;00m\n\u001b[1;32m   1097\u001b[0m \u001b[39mwith\u001b[39;00m \u001b[39mself\u001b[39m\u001b[39m.\u001b[39m_backend\u001b[39m.\u001b[39mretrieval_context():\n\u001b[0;32m-> 1098\u001b[0m     \u001b[39mself\u001b[39;49m\u001b[39m.\u001b[39;49mretrieve()\n\u001b[1;32m   1099\u001b[0m \u001b[39m# Make sure that we get a last message telling us we are done\u001b[39;00m\n\u001b[1;32m   1100\u001b[0m elapsed_time \u001b[39m=\u001b[39m time\u001b[39m.\u001b[39mtime() \u001b[39m-\u001b[39m \u001b[39mself\u001b[39m\u001b[39m.\u001b[39m_start_time\n",
      "File \u001b[0;32m~/anaconda3/lib/python3.10/site-packages/joblib/parallel.py:975\u001b[0m, in \u001b[0;36mParallel.retrieve\u001b[0;34m(self)\u001b[0m\n\u001b[1;32m    973\u001b[0m \u001b[39mtry\u001b[39;00m:\n\u001b[1;32m    974\u001b[0m     \u001b[39mif\u001b[39;00m \u001b[39mgetattr\u001b[39m(\u001b[39mself\u001b[39m\u001b[39m.\u001b[39m_backend, \u001b[39m'\u001b[39m\u001b[39msupports_timeout\u001b[39m\u001b[39m'\u001b[39m, \u001b[39mFalse\u001b[39;00m):\n\u001b[0;32m--> 975\u001b[0m         \u001b[39mself\u001b[39m\u001b[39m.\u001b[39m_output\u001b[39m.\u001b[39mextend(job\u001b[39m.\u001b[39;49mget(timeout\u001b[39m=\u001b[39;49m\u001b[39mself\u001b[39;49m\u001b[39m.\u001b[39;49mtimeout))\n\u001b[1;32m    976\u001b[0m     \u001b[39melse\u001b[39;00m:\n\u001b[1;32m    977\u001b[0m         \u001b[39mself\u001b[39m\u001b[39m.\u001b[39m_output\u001b[39m.\u001b[39mextend(job\u001b[39m.\u001b[39mget())\n",
      "File \u001b[0;32m~/anaconda3/lib/python3.10/site-packages/joblib/_parallel_backends.py:567\u001b[0m, in \u001b[0;36mLokyBackend.wrap_future_result\u001b[0;34m(future, timeout)\u001b[0m\n\u001b[1;32m    564\u001b[0m \u001b[39m\u001b[39m\u001b[39m\"\"\"Wrapper for Future.result to implement the same behaviour as\u001b[39;00m\n\u001b[1;32m    565\u001b[0m \u001b[39mAsyncResults.get from multiprocessing.\"\"\"\u001b[39;00m\n\u001b[1;32m    566\u001b[0m \u001b[39mtry\u001b[39;00m:\n\u001b[0;32m--> 567\u001b[0m     \u001b[39mreturn\u001b[39;00m future\u001b[39m.\u001b[39;49mresult(timeout\u001b[39m=\u001b[39;49mtimeout)\n\u001b[1;32m    568\u001b[0m \u001b[39mexcept\u001b[39;00m CfTimeoutError \u001b[39mas\u001b[39;00m e:\n\u001b[1;32m    569\u001b[0m     \u001b[39mraise\u001b[39;00m \u001b[39mTimeoutError\u001b[39;00m \u001b[39mfrom\u001b[39;00m \u001b[39me\u001b[39;00m\n",
      "File \u001b[0;32m~/anaconda3/lib/python3.10/concurrent/futures/_base.py:453\u001b[0m, in \u001b[0;36mFuture.result\u001b[0;34m(self, timeout)\u001b[0m\n\u001b[1;32m    450\u001b[0m \u001b[39melif\u001b[39;00m \u001b[39mself\u001b[39m\u001b[39m.\u001b[39m_state \u001b[39m==\u001b[39m FINISHED:\n\u001b[1;32m    451\u001b[0m     \u001b[39mreturn\u001b[39;00m \u001b[39mself\u001b[39m\u001b[39m.\u001b[39m__get_result()\n\u001b[0;32m--> 453\u001b[0m \u001b[39mself\u001b[39;49m\u001b[39m.\u001b[39;49m_condition\u001b[39m.\u001b[39;49mwait(timeout)\n\u001b[1;32m    455\u001b[0m \u001b[39mif\u001b[39;00m \u001b[39mself\u001b[39m\u001b[39m.\u001b[39m_state \u001b[39min\u001b[39;00m [CANCELLED, CANCELLED_AND_NOTIFIED]:\n\u001b[1;32m    456\u001b[0m     \u001b[39mraise\u001b[39;00m CancelledError()\n",
      "File \u001b[0;32m~/anaconda3/lib/python3.10/threading.py:320\u001b[0m, in \u001b[0;36mCondition.wait\u001b[0;34m(self, timeout)\u001b[0m\n\u001b[1;32m    318\u001b[0m \u001b[39mtry\u001b[39;00m:    \u001b[39m# restore state no matter what (e.g., KeyboardInterrupt)\u001b[39;00m\n\u001b[1;32m    319\u001b[0m     \u001b[39mif\u001b[39;00m timeout \u001b[39mis\u001b[39;00m \u001b[39mNone\u001b[39;00m:\n\u001b[0;32m--> 320\u001b[0m         waiter\u001b[39m.\u001b[39;49macquire()\n\u001b[1;32m    321\u001b[0m         gotit \u001b[39m=\u001b[39m \u001b[39mTrue\u001b[39;00m\n\u001b[1;32m    322\u001b[0m     \u001b[39melse\u001b[39;00m:\n",
      "\u001b[0;31mKeyboardInterrupt\u001b[0m: "
     ]
    }
   ],
   "source": [
    "''' \n",
    "#defining the grid for the search\n",
    "grid = {\n",
    "    'n_estimators': [10, 50, 100, 500, 1000],\n",
    "    'max_depth': [5,10,15,20,25,30,35,40,45,50],\n",
    "    'min_samples_split': [1, 2, 3, 5, 10, 15, 20],\n",
    "    'min_samples_leaf': [1, 2, 3, 5],\n",
    "    'criterion': ['squared_error'],\n",
    "}\n",
    "\n",
    "#defining the model\n",
    "rf = sklearn.ensemble.RandomForestRegressor(random_state=42, n_jobs=-1)\n",
    "\n",
    "#Splitting the dataset in 8 blocks, according to the folders division. The shuffle is set to False, in order to have the same division as the one i used for the folders\n",
    "cv_split = KFold(n_splits=8, shuffle=False, random_state=None)\n",
    "\n",
    "\n",
    "#Perform the grid search\n",
    "grid_search = GridSearchCV(estimator=rf, param_grid=grid, cv=cv_split, verbose=2, n_jobs=-1, scoring='neg_mean_squared_error') #lower values are better\n",
    "\n",
    "\n",
    "#Fitting the model\n",
    "grid_search.fit(cv.drop(['calving'], axis=1), cv['calving'])\n",
    "\n",
    "\n",
    "print(grid_search.best_params_)\n",
    "print(grid_search.best_score_)\n",
    "'''"
   ]
  },
  {
   "attachments": {},
   "cell_type": "markdown",
   "metadata": {},
   "source": [
    "In the next cell i will keep records of the results\n"
   ]
  },
  {
   "cell_type": "code",
   "execution_count": null,
   "metadata": {},
   "outputs": [
    {
     "data": {
      "text/plain": [
       "-1750.2160949671716"
      ]
     },
     "execution_count": 62,
     "metadata": {},
     "output_type": "execute_result"
    }
   ],
   "source": [
    "grid = {\n",
    "    'n_estimators': [10, 50, 100, 500, 1000],\n",
    "    'max_depth': [5,10,15,20,25,30,35,40,45,50],\n",
    "    'min_samples_split': [1, 2, 3, 5, 10, 15, 20],\n",
    "    'min_samples_leaf': [1, 2, 3, 5],\n",
    "    'criterion': ['squared_error'],\n",
    "}\n",
    "\n",
    "{'criterion': 'squared_error', 'max_depth': 5, 'min_samples_leaf': 5, 'min_samples_split': 10, 'n_estimators': 500}\n",
    "-1750.2160949671716"
   ]
  },
  {
   "cell_type": "code",
   "execution_count": null,
   "metadata": {},
   "outputs": [
    {
     "data": {
      "text/html": [
       "<style>#sk-container-id-1 {color: black;background-color: white;}#sk-container-id-1 pre{padding: 0;}#sk-container-id-1 div.sk-toggleable {background-color: white;}#sk-container-id-1 label.sk-toggleable__label {cursor: pointer;display: block;width: 100%;margin-bottom: 0;padding: 0.3em;box-sizing: border-box;text-align: center;}#sk-container-id-1 label.sk-toggleable__label-arrow:before {content: \"▸\";float: left;margin-right: 0.25em;color: #696969;}#sk-container-id-1 label.sk-toggleable__label-arrow:hover:before {color: black;}#sk-container-id-1 div.sk-estimator:hover label.sk-toggleable__label-arrow:before {color: black;}#sk-container-id-1 div.sk-toggleable__content {max-height: 0;max-width: 0;overflow: hidden;text-align: left;background-color: #f0f8ff;}#sk-container-id-1 div.sk-toggleable__content pre {margin: 0.2em;color: black;border-radius: 0.25em;background-color: #f0f8ff;}#sk-container-id-1 input.sk-toggleable__control:checked~div.sk-toggleable__content {max-height: 200px;max-width: 100%;overflow: auto;}#sk-container-id-1 input.sk-toggleable__control:checked~label.sk-toggleable__label-arrow:before {content: \"▾\";}#sk-container-id-1 div.sk-estimator input.sk-toggleable__control:checked~label.sk-toggleable__label {background-color: #d4ebff;}#sk-container-id-1 div.sk-label input.sk-toggleable__control:checked~label.sk-toggleable__label {background-color: #d4ebff;}#sk-container-id-1 input.sk-hidden--visually {border: 0;clip: rect(1px 1px 1px 1px);clip: rect(1px, 1px, 1px, 1px);height: 1px;margin: -1px;overflow: hidden;padding: 0;position: absolute;width: 1px;}#sk-container-id-1 div.sk-estimator {font-family: monospace;background-color: #f0f8ff;border: 1px dotted black;border-radius: 0.25em;box-sizing: border-box;margin-bottom: 0.5em;}#sk-container-id-1 div.sk-estimator:hover {background-color: #d4ebff;}#sk-container-id-1 div.sk-parallel-item::after {content: \"\";width: 100%;border-bottom: 1px solid gray;flex-grow: 1;}#sk-container-id-1 div.sk-label:hover label.sk-toggleable__label {background-color: #d4ebff;}#sk-container-id-1 div.sk-serial::before {content: \"\";position: absolute;border-left: 1px solid gray;box-sizing: border-box;top: 0;bottom: 0;left: 50%;z-index: 0;}#sk-container-id-1 div.sk-serial {display: flex;flex-direction: column;align-items: center;background-color: white;padding-right: 0.2em;padding-left: 0.2em;position: relative;}#sk-container-id-1 div.sk-item {position: relative;z-index: 1;}#sk-container-id-1 div.sk-parallel {display: flex;align-items: stretch;justify-content: center;background-color: white;position: relative;}#sk-container-id-1 div.sk-item::before, #sk-container-id-1 div.sk-parallel-item::before {content: \"\";position: absolute;border-left: 1px solid gray;box-sizing: border-box;top: 0;bottom: 0;left: 50%;z-index: -1;}#sk-container-id-1 div.sk-parallel-item {display: flex;flex-direction: column;z-index: 1;position: relative;background-color: white;}#sk-container-id-1 div.sk-parallel-item:first-child::after {align-self: flex-end;width: 50%;}#sk-container-id-1 div.sk-parallel-item:last-child::after {align-self: flex-start;width: 50%;}#sk-container-id-1 div.sk-parallel-item:only-child::after {width: 0;}#sk-container-id-1 div.sk-dashed-wrapped {border: 1px dashed gray;margin: 0 0.4em 0.5em 0.4em;box-sizing: border-box;padding-bottom: 0.4em;background-color: white;}#sk-container-id-1 div.sk-label label {font-family: monospace;font-weight: bold;display: inline-block;line-height: 1.2em;}#sk-container-id-1 div.sk-label-container {text-align: center;}#sk-container-id-1 div.sk-container {/* jupyter's `normalize.less` sets `[hidden] { display: none; }` but bootstrap.min.css set `[hidden] { display: none !important; }` so we also need the `!important` here to be able to override the default hidden behavior on the sphinx rendered scikit-learn.org. See: https://github.com/scikit-learn/scikit-learn/issues/21755 */display: inline-block !important;position: relative;}#sk-container-id-1 div.sk-text-repr-fallback {display: none;}</style><div id=\"sk-container-id-1\" class=\"sk-top-container\"><div class=\"sk-text-repr-fallback\"><pre>RandomForestRegressor(max_depth=5, min_samples_leaf=5, min_samples_split=10,\n",
       "                      n_estimators=500, n_jobs=-1, random_state=42)</pre><b>In a Jupyter environment, please rerun this cell to show the HTML representation or trust the notebook. <br />On GitHub, the HTML representation is unable to render, please try loading this page with nbviewer.org.</b></div><div class=\"sk-container\" hidden><div class=\"sk-item\"><div class=\"sk-estimator sk-toggleable\"><input class=\"sk-toggleable__control sk-hidden--visually\" id=\"sk-estimator-id-1\" type=\"checkbox\" checked><label for=\"sk-estimator-id-1\" class=\"sk-toggleable__label sk-toggleable__label-arrow\">RandomForestRegressor</label><div class=\"sk-toggleable__content\"><pre>RandomForestRegressor(max_depth=5, min_samples_leaf=5, min_samples_split=10,\n",
       "                      n_estimators=500, n_jobs=-1, random_state=42)</pre></div></div></div></div></div>"
      ],
      "text/plain": [
       "RandomForestRegressor(max_depth=5, min_samples_leaf=5, min_samples_split=10,\n",
       "                      n_estimators=500, n_jobs=-1, random_state=42)"
      ]
     },
     "execution_count": 13,
     "metadata": {},
     "output_type": "execute_result"
    }
   ],
   "source": [
    "\n",
    "from sklearn.model_selection import cross_val_score\n",
    "from sklearn.ensemble import RandomForestRegressor\n",
    "from sklearn.model_selection import KFold\n",
    "\n",
    "cv_split = KFold(n_splits=8, shuffle=False, random_state=None)\n",
    "rf_fitted = sklearn.ensemble.RandomForestRegressor(criterion='squared_error', \n",
    "                                                   max_depth= 5,#grid_search.best_params_['max_depth'], \n",
    "                                                   n_estimators=  500,#grid_search.best_params_['n_estimators'],\n",
    "                                                   min_samples_split= 10,# grid_search.best_params_['min_samples_split'],\n",
    "                                                   min_samples_leaf= 5,#grid_search.best_params_['min_samples_leaf'],\n",
    "                                                   random_state=42,\n",
    "                                                   n_jobs=-1\n",
    "                                                   )\n",
    "\n",
    "cvs = cross_val_score(rf_fitted, cv.drop(['calving'], axis=1), cv['calving'], cv=cv_split, scoring='neg_mean_squared_error', n_jobs=-1)\n",
    "\n",
    "rf_fitted.fit(cv.drop(['calving'], axis=1), cv['calving'])"
   ]
  },
  {
   "cell_type": "code",
   "execution_count": null,
   "metadata": {},
   "outputs": [
    {
     "name": "stdout",
     "output_type": "stream",
     "text": [
      "Cross validation scores per fold:  [-2136.27726829  -872.4052544   -107.72849283  -492.92853494\n",
      " -1657.13642556 -6523.02859944  -129.31307003 -2082.91111425]\n",
      "Mean cross validation score:  -1750.2160949671718\n",
      "Standard deviation:  1959.7368526462917\n"
     ]
    }
   ],
   "source": [
    "print('Cross validation scores per fold: ', cvs)\n",
    "print('Mean cross validation score: ', cvs.mean())\n",
    "print('Standard deviation: ', cvs.std())\n",
    "\n",
    "#plot_prediction_per_fold(X, y, fitted_model, idc_list)"
   ]
  },
  {
   "cell_type": "markdown",
   "metadata": {},
   "source": [
    "Cross validation scores per fold:  [-2277.51726151  -958.2659416   -142.88396257  -764.34435281\n",
    " -1769.59631356 -6455.15156281  -110.56429227 -2180.08198158]\n",
    "Mean cross validation score:  -1832.3007085891043\n",
    "Standard deviation:  1917.5773855003897"
   ]
  },
  {
   "cell_type": "code",
   "execution_count": null,
   "metadata": {},
   "outputs": [
    {
     "data": {
      "text/plain": [
       "104"
      ]
     },
     "execution_count": 14,
     "metadata": {},
     "output_type": "execute_result"
    }
   ],
   "source": [
    "#len(rf_fitted.predict(cv.drop('calving', axis=1)))\n",
    "len(cv['calving'])"
   ]
  },
  {
   "cell_type": "code",
   "execution_count": null,
   "metadata": {},
   "outputs": [
    {
     "data": {
      "text/plain": [
       "<matplotlib.legend.Legend at 0x14e12b430>"
      ]
     },
     "execution_count": 15,
     "metadata": {},
     "output_type": "execute_result"
    },
    {
     "data": {
      "image/png": "[encoded data removed]",
      "text/plain": [
       "<Figure size 1500x1000 with 1 Axes>"
      ]
     },
     "metadata": {},
     "output_type": "display_data"
    }
   ],
   "source": [
    "#Plot the predictions against the real values\n",
    "plt.figure(figsize=(15,10))\n",
    "plt.scatter(cv['calving'], rf_fitted.predict(cv.drop('calving', axis=1)), label='Predictions')\n",
    "\n",
    "#labels\n",
    "plt.xlabel('Real values')\n",
    "plt.ylabel('Predictions')\n",
    "\n",
    "#Plot the 1:1 line\n",
    "plt.plot(np.arange(-100,100), np.arange(-100,100), label='ideal', color='red', linestyle='--')\n",
    "\n",
    "#Limit the axis\n",
    "#plt.xlim(-100, 100)\n",
    "#plt.ylim(-100, 100)\n",
    "\n",
    "\n",
    "plt.legend()"
   ]
  },
  {
   "attachments": {},
   "cell_type": "markdown",
   "metadata": {},
   "source": [
    "Experimenting with functions"
   ]
  },
  {
   "cell_type": "code",
   "execution_count": null,
   "metadata": {},
   "outputs": [
    {
     "ename": "type",
     "evalue": "Number of dimensions is greater than number of samples. This results in a singular data covariance matrix, which cannot be treated using the algorithms implemented in `gaussian_kde`. Note that `gaussian_kde` interprets each *column* of `dataset` to be a point; consider transposing the input to `dataset`.",
     "output_type": "error",
     "traceback": [
      "\u001b[0;31m---------------------------------------------------------------------------\u001b[0m",
      "\u001b[0;31mValueError\u001b[0m                                Traceback (most recent call last)",
      "Cell \u001b[0;32mIn[16], line 15\u001b[0m\n\u001b[1;32m     11\u001b[0m y \u001b[39m=\u001b[39m rf_fitted\u001b[39m.\u001b[39mpredict(cv\u001b[39m.\u001b[39mdrop(\u001b[39m'\u001b[39m\u001b[39mcalving\u001b[39m\u001b[39m'\u001b[39m, axis\u001b[39m=\u001b[39m\u001b[39m1\u001b[39m))\n\u001b[1;32m     13\u001b[0m xy \u001b[39m=\u001b[39m np\u001b[39m.\u001b[39mvstack([x,y])\n\u001b[0;32m---> 15\u001b[0m z \u001b[39m=\u001b[39m gaussian_kde(xy)(xy)\n\u001b[1;32m     17\u001b[0m fig, ax \u001b[39m=\u001b[39m plt\u001b[39m.\u001b[39msubplots()\n\u001b[1;32m     18\u001b[0m ax\u001b[39m.\u001b[39mscatter(x, y, c\u001b[39m=\u001b[39mz, s\u001b[39m=\u001b[39m\u001b[39m100\u001b[39m, cmap\u001b[39m=\u001b[39m\u001b[39m'\u001b[39m\u001b[39mviridis\u001b[39m\u001b[39m'\u001b[39m)\n",
      "File \u001b[0;32m~/anaconda3/lib/python3.10/site-packages/scipy/stats/_kde.py:220\u001b[0m, in \u001b[0;36mgaussian_kde.__init__\u001b[0;34m(self, dataset, bw_method, weights)\u001b[0m\n\u001b[1;32m    213\u001b[0m \u001b[39mif\u001b[39;00m \u001b[39mself\u001b[39m\u001b[39m.\u001b[39md \u001b[39m>\u001b[39m \u001b[39mself\u001b[39m\u001b[39m.\u001b[39mn:\n\u001b[1;32m    214\u001b[0m     msg \u001b[39m=\u001b[39m (\u001b[39m\"\u001b[39m\u001b[39mNumber of dimensions is greater than number of samples. \u001b[39m\u001b[39m\"\u001b[39m\n\u001b[1;32m    215\u001b[0m            \u001b[39m\"\u001b[39m\u001b[39mThis results in a singular data covariance matrix, which \u001b[39m\u001b[39m\"\u001b[39m\n\u001b[1;32m    216\u001b[0m            \u001b[39m\"\u001b[39m\u001b[39mcannot be treated using the algorithms implemented in \u001b[39m\u001b[39m\"\u001b[39m\n\u001b[1;32m    217\u001b[0m            \u001b[39m\"\u001b[39m\u001b[39m`gaussian_kde`. Note that `gaussian_kde` interprets each \u001b[39m\u001b[39m\"\u001b[39m\n\u001b[1;32m    218\u001b[0m            \u001b[39m\"\u001b[39m\u001b[39m*column* of `dataset` to be a point; consider transposing \u001b[39m\u001b[39m\"\u001b[39m\n\u001b[1;32m    219\u001b[0m            \u001b[39m\"\u001b[39m\u001b[39mthe input to `dataset`.\u001b[39m\u001b[39m\"\u001b[39m)\n\u001b[0;32m--> 220\u001b[0m     \u001b[39mraise\u001b[39;00m \u001b[39mValueError\u001b[39;00m(msg)\n\u001b[1;32m    222\u001b[0m \u001b[39mtry\u001b[39;00m:\n\u001b[1;32m    223\u001b[0m     \u001b[39mself\u001b[39m\u001b[39m.\u001b[39mset_bandwidth(bw_method\u001b[39m=\u001b[39mbw_method)\n",
      "\u001b[0;31mValueError\u001b[0m: Number of dimensions is greater than number of samples. This results in a singular data covariance matrix, which cannot be treated using the algorithms implemented in `gaussian_kde`. Note that `gaussian_kde` interprets each *column* of `dataset` to be a point; consider transposing the input to `dataset`."
     ]
    },
    {
     "data": {
      "image/png": "[encoded data removed]",
      "text/plain": [
       "<Figure size 640x480 with 1 Axes>"
      ]
     },
     "metadata": {},
     "output_type": "display_data"
    }
   ],
   "source": [
    "from scipy.stats import gaussian_kde\n",
    "\n",
    "#plot also the line of the perfect prediction\n",
    "plt.plot(cv['calving'], cv['calving'], color='red', linewidth=1, linestyle='--')\n",
    "\n",
    "#Limit the axis to -100, 100\n",
    "plt.xlim(-100, 100)\n",
    "plt.ylim(-100, 100)\n",
    "\n",
    "x = cv['calving']\n",
    "y = rf_fitted.predict(cv.drop('calving', axis=1))\n",
    "\n",
    "xy = np.vstack([x,y])\n",
    "\n",
    "z = gaussian_kde(xy)(xy)\n",
    "\n",
    "fig, ax = plt.subplots()\n",
    "ax.scatter(x, y, c=z, s=100, cmap='viridis')\n",
    "plt.show()\n",
    "\n",
    "\n",
    "#cbar = plt.colorbar()\n",
    "#cbar.set_label('Point Density')\n",
    "\n",
    "plt.show()\n",
    "\n"
   ]
  },
  {
   "cell_type": "code",
   "execution_count": null,
   "metadata": {},
   "outputs": [],
   "source": [
    "def plot_prediction_per_fold(X, y, model, idc_list):\n",
    "    \"\"\"\n",
    "    Plot model predictions of model vs. test data y based on \n",
    "    folds given by indices X_idc and y_idc.\n",
    "  \n",
    "    Parameters:\n",
    "    X : np.array\n",
    "        Training dataset of features.\n",
    "    y : np.array\n",
    "        Labels of training dataset.\n",
    "    model : sklearn.model\n",
    "        Fitted XGBmodel object.\n",
    "    X_idc : np.array\n",
    "        Indices of fold splits of features.\n",
    "    y_idc : np.array\n",
    "        Indices of fold splits for labels.\n",
    "    \"\"\"\n",
    "\n",
    "    y_test_list = []\n",
    "    y_pred_list = []\n",
    "\n",
    "    for train_index, test_index in idc_list:\n",
    "        # Loops over n_splits iterations and gets train and test splits in each fold\n",
    "        X_train, X_test = X[train_index], X[test_index]\n",
    "        y_train, y_test = y[train_index], y[test_index]\n",
    "        model.fit(X_train, y_train)\n",
    "        y_pred = model.predict(X_test)\n",
    "\n",
    "        y_test_list.extend(y_test)\n",
    "        y_pred_list.extend(y_pred)\n",
    "\n",
    "    # Arrays of predictions and observations for each fold\n",
    "    y_test_all = np.hstack([*y_test_list])\n",
    "    y_pred_all = np.hstack([*y_pred_list])\n",
    "\n",
    "    # Plot predictions and observations for each cross-valiadation fold together\n",
    "    plot_prediction(y_test_all, y_pred_all, 'Validation', n_toplot=5000)\n"
   ]
  },
  {
   "attachments": {},
   "cell_type": "markdown",
   "metadata": {},
   "source": [
    "In the following block i performed (twice) a Random forest grid search, looking for the best hyper-parameters. I did it 'manually', i will now try to re do it with the \n",
    "cross validation which is included in the function (previous code blocks)"
   ]
  },
  {
   "cell_type": "code",
   "execution_count": null,
   "metadata": {},
   "outputs": [
    {
     "name": "stdout",
     "output_type": "stream",
     "text": [
      "Fold 1:\n"
     ]
    },
    {
     "ename": "KeyboardInterrupt",
     "evalue": "",
     "output_type": "error",
     "traceback": [
      "\u001b[0;31m---------------------------------------------------------------------------\u001b[0m",
      "\u001b[0;31mKeyboardInterrupt\u001b[0m                         Traceback (most recent call last)",
      "Cell \u001b[0;32mIn[10], line 44\u001b[0m\n\u001b[1;32m     41\u001b[0m rf_cv \u001b[39m=\u001b[39m GridSearchCV(RandomForestRegressor(), grid)\n\u001b[1;32m     43\u001b[0m \u001b[39m# Make predictions on the test data\u001b[39;00m\n\u001b[0;32m---> 44\u001b[0m rf_cv\u001b[39m.\u001b[39;49mfit(X_train, y_train)\n\u001b[1;32m     45\u001b[0m y_pred \u001b[39m=\u001b[39m rf_cv\u001b[39m.\u001b[39mpredict(X_test)\n\u001b[1;32m     47\u001b[0m \u001b[39m\u001b[39m\u001b[39m'''\u001b[39;00m\n\u001b[1;32m     48\u001b[0m \u001b[39mplt.scatter(y_test, y_pred)\u001b[39;00m\n\u001b[1;32m     49\u001b[0m \u001b[39mplt.xlabel('True Values')\u001b[39;00m\n\u001b[0;32m   (...)\u001b[0m\n\u001b[1;32m     60\u001b[0m \u001b[39mplt.show()\u001b[39;00m\n\u001b[1;32m     61\u001b[0m \u001b[39m'''\u001b[39;00m\n",
      "File \u001b[0;32m~/anaconda3/lib/python3.10/site-packages/sklearn/model_selection/_search.py:874\u001b[0m, in \u001b[0;36mBaseSearchCV.fit\u001b[0;34m(self, X, y, groups, **fit_params)\u001b[0m\n\u001b[1;32m    868\u001b[0m     results \u001b[39m=\u001b[39m \u001b[39mself\u001b[39m\u001b[39m.\u001b[39m_format_results(\n\u001b[1;32m    869\u001b[0m         all_candidate_params, n_splits, all_out, all_more_results\n\u001b[1;32m    870\u001b[0m     )\n\u001b[1;32m    872\u001b[0m     \u001b[39mreturn\u001b[39;00m results\n\u001b[0;32m--> 874\u001b[0m \u001b[39mself\u001b[39;49m\u001b[39m.\u001b[39;49m_run_search(evaluate_candidates)\n\u001b[1;32m    876\u001b[0m \u001b[39m# multimetric is determined here because in the case of a callable\u001b[39;00m\n\u001b[1;32m    877\u001b[0m \u001b[39m# self.scoring the return type is only known after calling\u001b[39;00m\n\u001b[1;32m    878\u001b[0m first_test_score \u001b[39m=\u001b[39m all_out[\u001b[39m0\u001b[39m][\u001b[39m\"\u001b[39m\u001b[39mtest_scores\u001b[39m\u001b[39m\"\u001b[39m]\n",
      "File \u001b[0;32m~/anaconda3/lib/python3.10/site-packages/sklearn/model_selection/_search.py:1388\u001b[0m, in \u001b[0;36mGridSearchCV._run_search\u001b[0;34m(self, evaluate_candidates)\u001b[0m\n\u001b[1;32m   1386\u001b[0m \u001b[39mdef\u001b[39;00m \u001b[39m_run_search\u001b[39m(\u001b[39mself\u001b[39m, evaluate_candidates):\n\u001b[1;32m   1387\u001b[0m \u001b[39m    \u001b[39m\u001b[39m\"\"\"Search all candidates in param_grid\"\"\"\u001b[39;00m\n\u001b[0;32m-> 1388\u001b[0m     evaluate_candidates(ParameterGrid(\u001b[39mself\u001b[39;49m\u001b[39m.\u001b[39;49mparam_grid))\n",
      "File \u001b[0;32m~/anaconda3/lib/python3.10/site-packages/sklearn/model_selection/_search.py:821\u001b[0m, in \u001b[0;36mBaseSearchCV.fit.<locals>.evaluate_candidates\u001b[0;34m(candidate_params, cv, more_results)\u001b[0m\n\u001b[1;32m    813\u001b[0m \u001b[39mif\u001b[39;00m \u001b[39mself\u001b[39m\u001b[39m.\u001b[39mverbose \u001b[39m>\u001b[39m \u001b[39m0\u001b[39m:\n\u001b[1;32m    814\u001b[0m     \u001b[39mprint\u001b[39m(\n\u001b[1;32m    815\u001b[0m         \u001b[39m\"\u001b[39m\u001b[39mFitting \u001b[39m\u001b[39m{0}\u001b[39;00m\u001b[39m folds for each of \u001b[39m\u001b[39m{1}\u001b[39;00m\u001b[39m candidates,\u001b[39m\u001b[39m\"\u001b[39m\n\u001b[1;32m    816\u001b[0m         \u001b[39m\"\u001b[39m\u001b[39m totalling \u001b[39m\u001b[39m{2}\u001b[39;00m\u001b[39m fits\u001b[39m\u001b[39m\"\u001b[39m\u001b[39m.\u001b[39mformat(\n\u001b[1;32m    817\u001b[0m             n_splits, n_candidates, n_candidates \u001b[39m*\u001b[39m n_splits\n\u001b[1;32m    818\u001b[0m         )\n\u001b[1;32m    819\u001b[0m     )\n\u001b[0;32m--> 821\u001b[0m out \u001b[39m=\u001b[39m parallel(\n\u001b[1;32m    822\u001b[0m     delayed(_fit_and_score)(\n\u001b[1;32m    823\u001b[0m         clone(base_estimator),\n\u001b[1;32m    824\u001b[0m         X,\n\u001b[1;32m    825\u001b[0m         y,\n\u001b[1;32m    826\u001b[0m         train\u001b[39m=\u001b[39;49mtrain,\n\u001b[1;32m    827\u001b[0m         test\u001b[39m=\u001b[39;49mtest,\n\u001b[1;32m    828\u001b[0m         parameters\u001b[39m=\u001b[39;49mparameters,\n\u001b[1;32m    829\u001b[0m         split_progress\u001b[39m=\u001b[39;49m(split_idx, n_splits),\n\u001b[1;32m    830\u001b[0m         candidate_progress\u001b[39m=\u001b[39;49m(cand_idx, n_candidates),\n\u001b[1;32m    831\u001b[0m         \u001b[39m*\u001b[39;49m\u001b[39m*\u001b[39;49mfit_and_score_kwargs,\n\u001b[1;32m    832\u001b[0m     )\n\u001b[1;32m    833\u001b[0m     \u001b[39mfor\u001b[39;49;00m (cand_idx, parameters), (split_idx, (train, test)) \u001b[39min\u001b[39;49;00m product(\n\u001b[1;32m    834\u001b[0m         \u001b[39menumerate\u001b[39;49m(candidate_params), \u001b[39menumerate\u001b[39;49m(cv\u001b[39m.\u001b[39;49msplit(X, y, groups))\n\u001b[1;32m    835\u001b[0m     )\n\u001b[1;32m    836\u001b[0m )\n\u001b[1;32m    838\u001b[0m \u001b[39mif\u001b[39;00m \u001b[39mlen\u001b[39m(out) \u001b[39m<\u001b[39m \u001b[39m1\u001b[39m:\n\u001b[1;32m    839\u001b[0m     \u001b[39mraise\u001b[39;00m \u001b[39mValueError\u001b[39;00m(\n\u001b[1;32m    840\u001b[0m         \u001b[39m\"\u001b[39m\u001b[39mNo fits were performed. \u001b[39m\u001b[39m\"\u001b[39m\n\u001b[1;32m    841\u001b[0m         \u001b[39m\"\u001b[39m\u001b[39mWas the CV iterator empty? \u001b[39m\u001b[39m\"\u001b[39m\n\u001b[1;32m    842\u001b[0m         \u001b[39m\"\u001b[39m\u001b[39mWere there no candidates?\u001b[39m\u001b[39m\"\u001b[39m\n\u001b[1;32m    843\u001b[0m     )\n",
      "File \u001b[0;32m~/anaconda3/lib/python3.10/site-packages/sklearn/utils/parallel.py:63\u001b[0m, in \u001b[0;36mParallel.__call__\u001b[0;34m(self, iterable)\u001b[0m\n\u001b[1;32m     58\u001b[0m config \u001b[39m=\u001b[39m get_config()\n\u001b[1;32m     59\u001b[0m iterable_with_config \u001b[39m=\u001b[39m (\n\u001b[1;32m     60\u001b[0m     (_with_config(delayed_func, config), args, kwargs)\n\u001b[1;32m     61\u001b[0m     \u001b[39mfor\u001b[39;00m delayed_func, args, kwargs \u001b[39min\u001b[39;00m iterable\n\u001b[1;32m     62\u001b[0m )\n\u001b[0;32m---> 63\u001b[0m \u001b[39mreturn\u001b[39;00m \u001b[39msuper\u001b[39;49m()\u001b[39m.\u001b[39;49m\u001b[39m__call__\u001b[39;49m(iterable_with_config)\n",
      "File \u001b[0;32m~/anaconda3/lib/python3.10/site-packages/joblib/parallel.py:1088\u001b[0m, in \u001b[0;36mParallel.__call__\u001b[0;34m(self, iterable)\u001b[0m\n\u001b[1;32m   1085\u001b[0m \u001b[39mif\u001b[39;00m \u001b[39mself\u001b[39m\u001b[39m.\u001b[39mdispatch_one_batch(iterator):\n\u001b[1;32m   1086\u001b[0m     \u001b[39mself\u001b[39m\u001b[39m.\u001b[39m_iterating \u001b[39m=\u001b[39m \u001b[39mself\u001b[39m\u001b[39m.\u001b[39m_original_iterator \u001b[39mis\u001b[39;00m \u001b[39mnot\u001b[39;00m \u001b[39mNone\u001b[39;00m\n\u001b[0;32m-> 1088\u001b[0m \u001b[39mwhile\u001b[39;00m \u001b[39mself\u001b[39;49m\u001b[39m.\u001b[39;49mdispatch_one_batch(iterator):\n\u001b[1;32m   1089\u001b[0m     \u001b[39mpass\u001b[39;00m\n\u001b[1;32m   1091\u001b[0m \u001b[39mif\u001b[39;00m pre_dispatch \u001b[39m==\u001b[39m \u001b[39m\"\u001b[39m\u001b[39mall\u001b[39m\u001b[39m\"\u001b[39m \u001b[39mor\u001b[39;00m n_jobs \u001b[39m==\u001b[39m \u001b[39m1\u001b[39m:\n\u001b[1;32m   1092\u001b[0m     \u001b[39m# The iterable was consumed all at once by the above for loop.\u001b[39;00m\n\u001b[1;32m   1093\u001b[0m     \u001b[39m# No need to wait for async callbacks to trigger to\u001b[39;00m\n\u001b[1;32m   1094\u001b[0m     \u001b[39m# consumption.\u001b[39;00m\n",
      "File \u001b[0;32m~/anaconda3/lib/python3.10/site-packages/joblib/parallel.py:901\u001b[0m, in \u001b[0;36mParallel.dispatch_one_batch\u001b[0;34m(self, iterator)\u001b[0m\n\u001b[1;32m    899\u001b[0m     \u001b[39mreturn\u001b[39;00m \u001b[39mFalse\u001b[39;00m\n\u001b[1;32m    900\u001b[0m \u001b[39melse\u001b[39;00m:\n\u001b[0;32m--> 901\u001b[0m     \u001b[39mself\u001b[39;49m\u001b[39m.\u001b[39;49m_dispatch(tasks)\n\u001b[1;32m    902\u001b[0m     \u001b[39mreturn\u001b[39;00m \u001b[39mTrue\u001b[39;00m\n",
      "File \u001b[0;32m~/anaconda3/lib/python3.10/site-packages/joblib/parallel.py:819\u001b[0m, in \u001b[0;36mParallel._dispatch\u001b[0;34m(self, batch)\u001b[0m\n\u001b[1;32m    817\u001b[0m \u001b[39mwith\u001b[39;00m \u001b[39mself\u001b[39m\u001b[39m.\u001b[39m_lock:\n\u001b[1;32m    818\u001b[0m     job_idx \u001b[39m=\u001b[39m \u001b[39mlen\u001b[39m(\u001b[39mself\u001b[39m\u001b[39m.\u001b[39m_jobs)\n\u001b[0;32m--> 819\u001b[0m     job \u001b[39m=\u001b[39m \u001b[39mself\u001b[39;49m\u001b[39m.\u001b[39;49m_backend\u001b[39m.\u001b[39;49mapply_async(batch, callback\u001b[39m=\u001b[39;49mcb)\n\u001b[1;32m    820\u001b[0m     \u001b[39m# A job can complete so quickly than its callback is\u001b[39;00m\n\u001b[1;32m    821\u001b[0m     \u001b[39m# called before we get here, causing self._jobs to\u001b[39;00m\n\u001b[1;32m    822\u001b[0m     \u001b[39m# grow. To ensure correct results ordering, .insert is\u001b[39;00m\n\u001b[1;32m    823\u001b[0m     \u001b[39m# used (rather than .append) in the following line\u001b[39;00m\n\u001b[1;32m    824\u001b[0m     \u001b[39mself\u001b[39m\u001b[39m.\u001b[39m_jobs\u001b[39m.\u001b[39minsert(job_idx, job)\n",
      "File \u001b[0;32m~/anaconda3/lib/python3.10/site-packages/joblib/_parallel_backends.py:208\u001b[0m, in \u001b[0;36mSequentialBackend.apply_async\u001b[0;34m(self, func, callback)\u001b[0m\n\u001b[1;32m    206\u001b[0m \u001b[39mdef\u001b[39;00m \u001b[39mapply_async\u001b[39m(\u001b[39mself\u001b[39m, func, callback\u001b[39m=\u001b[39m\u001b[39mNone\u001b[39;00m):\n\u001b[1;32m    207\u001b[0m \u001b[39m    \u001b[39m\u001b[39m\"\"\"Schedule a func to be run\"\"\"\u001b[39;00m\n\u001b[0;32m--> 208\u001b[0m     result \u001b[39m=\u001b[39m ImmediateResult(func)\n\u001b[1;32m    209\u001b[0m     \u001b[39mif\u001b[39;00m callback:\n\u001b[1;32m    210\u001b[0m         callback(result)\n",
      "File \u001b[0;32m~/anaconda3/lib/python3.10/site-packages/joblib/_parallel_backends.py:597\u001b[0m, in \u001b[0;36mImmediateResult.__init__\u001b[0;34m(self, batch)\u001b[0m\n\u001b[1;32m    594\u001b[0m \u001b[39mdef\u001b[39;00m \u001b[39m__init__\u001b[39m(\u001b[39mself\u001b[39m, batch):\n\u001b[1;32m    595\u001b[0m     \u001b[39m# Don't delay the application, to avoid keeping the input\u001b[39;00m\n\u001b[1;32m    596\u001b[0m     \u001b[39m# arguments in memory\u001b[39;00m\n\u001b[0;32m--> 597\u001b[0m     \u001b[39mself\u001b[39m\u001b[39m.\u001b[39mresults \u001b[39m=\u001b[39m batch()\n",
      "File \u001b[0;32m~/anaconda3/lib/python3.10/site-packages/joblib/parallel.py:288\u001b[0m, in \u001b[0;36mBatchedCalls.__call__\u001b[0;34m(self)\u001b[0m\n\u001b[1;32m    284\u001b[0m \u001b[39mdef\u001b[39;00m \u001b[39m__call__\u001b[39m(\u001b[39mself\u001b[39m):\n\u001b[1;32m    285\u001b[0m     \u001b[39m# Set the default nested backend to self._backend but do not set the\u001b[39;00m\n\u001b[1;32m    286\u001b[0m     \u001b[39m# change the default number of processes to -1\u001b[39;00m\n\u001b[1;32m    287\u001b[0m     \u001b[39mwith\u001b[39;00m parallel_backend(\u001b[39mself\u001b[39m\u001b[39m.\u001b[39m_backend, n_jobs\u001b[39m=\u001b[39m\u001b[39mself\u001b[39m\u001b[39m.\u001b[39m_n_jobs):\n\u001b[0;32m--> 288\u001b[0m         \u001b[39mreturn\u001b[39;00m [func(\u001b[39m*\u001b[39margs, \u001b[39m*\u001b[39m\u001b[39m*\u001b[39mkwargs)\n\u001b[1;32m    289\u001b[0m                 \u001b[39mfor\u001b[39;00m func, args, kwargs \u001b[39min\u001b[39;00m \u001b[39mself\u001b[39m\u001b[39m.\u001b[39mitems]\n",
      "File \u001b[0;32m~/anaconda3/lib/python3.10/site-packages/joblib/parallel.py:288\u001b[0m, in \u001b[0;36m<listcomp>\u001b[0;34m(.0)\u001b[0m\n\u001b[1;32m    284\u001b[0m \u001b[39mdef\u001b[39;00m \u001b[39m__call__\u001b[39m(\u001b[39mself\u001b[39m):\n\u001b[1;32m    285\u001b[0m     \u001b[39m# Set the default nested backend to self._backend but do not set the\u001b[39;00m\n\u001b[1;32m    286\u001b[0m     \u001b[39m# change the default number of processes to -1\u001b[39;00m\n\u001b[1;32m    287\u001b[0m     \u001b[39mwith\u001b[39;00m parallel_backend(\u001b[39mself\u001b[39m\u001b[39m.\u001b[39m_backend, n_jobs\u001b[39m=\u001b[39m\u001b[39mself\u001b[39m\u001b[39m.\u001b[39m_n_jobs):\n\u001b[0;32m--> 288\u001b[0m         \u001b[39mreturn\u001b[39;00m [func(\u001b[39m*\u001b[39;49margs, \u001b[39m*\u001b[39;49m\u001b[39m*\u001b[39;49mkwargs)\n\u001b[1;32m    289\u001b[0m                 \u001b[39mfor\u001b[39;00m func, args, kwargs \u001b[39min\u001b[39;00m \u001b[39mself\u001b[39m\u001b[39m.\u001b[39mitems]\n",
      "File \u001b[0;32m~/anaconda3/lib/python3.10/site-packages/sklearn/utils/parallel.py:123\u001b[0m, in \u001b[0;36m_FuncWrapper.__call__\u001b[0;34m(self, *args, **kwargs)\u001b[0m\n\u001b[1;32m    121\u001b[0m     config \u001b[39m=\u001b[39m {}\n\u001b[1;32m    122\u001b[0m \u001b[39mwith\u001b[39;00m config_context(\u001b[39m*\u001b[39m\u001b[39m*\u001b[39mconfig):\n\u001b[0;32m--> 123\u001b[0m     \u001b[39mreturn\u001b[39;00m \u001b[39mself\u001b[39;49m\u001b[39m.\u001b[39;49mfunction(\u001b[39m*\u001b[39;49margs, \u001b[39m*\u001b[39;49m\u001b[39m*\u001b[39;49mkwargs)\n",
      "File \u001b[0;32m~/anaconda3/lib/python3.10/site-packages/sklearn/model_selection/_validation.py:686\u001b[0m, in \u001b[0;36m_fit_and_score\u001b[0;34m(estimator, X, y, scorer, train, test, verbose, parameters, fit_params, return_train_score, return_parameters, return_n_test_samples, return_times, return_estimator, split_progress, candidate_progress, error_score)\u001b[0m\n\u001b[1;32m    684\u001b[0m         estimator\u001b[39m.\u001b[39mfit(X_train, \u001b[39m*\u001b[39m\u001b[39m*\u001b[39mfit_params)\n\u001b[1;32m    685\u001b[0m     \u001b[39melse\u001b[39;00m:\n\u001b[0;32m--> 686\u001b[0m         estimator\u001b[39m.\u001b[39;49mfit(X_train, y_train, \u001b[39m*\u001b[39;49m\u001b[39m*\u001b[39;49mfit_params)\n\u001b[1;32m    688\u001b[0m \u001b[39mexcept\u001b[39;00m \u001b[39mException\u001b[39;00m:\n\u001b[1;32m    689\u001b[0m     \u001b[39m# Note fit time as time until error\u001b[39;00m\n\u001b[1;32m    690\u001b[0m     fit_time \u001b[39m=\u001b[39m time\u001b[39m.\u001b[39mtime() \u001b[39m-\u001b[39m start_time\n",
      "File \u001b[0;32m~/anaconda3/lib/python3.10/site-packages/sklearn/ensemble/_forest.py:473\u001b[0m, in \u001b[0;36mBaseForest.fit\u001b[0;34m(self, X, y, sample_weight)\u001b[0m\n\u001b[1;32m    462\u001b[0m trees \u001b[39m=\u001b[39m [\n\u001b[1;32m    463\u001b[0m     \u001b[39mself\u001b[39m\u001b[39m.\u001b[39m_make_estimator(append\u001b[39m=\u001b[39m\u001b[39mFalse\u001b[39;00m, random_state\u001b[39m=\u001b[39mrandom_state)\n\u001b[1;32m    464\u001b[0m     \u001b[39mfor\u001b[39;00m i \u001b[39min\u001b[39;00m \u001b[39mrange\u001b[39m(n_more_estimators)\n\u001b[1;32m    465\u001b[0m ]\n\u001b[1;32m    467\u001b[0m \u001b[39m# Parallel loop: we prefer the threading backend as the Cython code\u001b[39;00m\n\u001b[1;32m    468\u001b[0m \u001b[39m# for fitting the trees is internally releasing the Python GIL\u001b[39;00m\n\u001b[1;32m    469\u001b[0m \u001b[39m# making threading more efficient than multiprocessing in\u001b[39;00m\n\u001b[1;32m    470\u001b[0m \u001b[39m# that case. However, for joblib 0.12+ we respect any\u001b[39;00m\n\u001b[1;32m    471\u001b[0m \u001b[39m# parallel_backend contexts set at a higher level,\u001b[39;00m\n\u001b[1;32m    472\u001b[0m \u001b[39m# since correctness does not rely on using threads.\u001b[39;00m\n\u001b[0;32m--> 473\u001b[0m trees \u001b[39m=\u001b[39m Parallel(\n\u001b[1;32m    474\u001b[0m     n_jobs\u001b[39m=\u001b[39;49m\u001b[39mself\u001b[39;49m\u001b[39m.\u001b[39;49mn_jobs,\n\u001b[1;32m    475\u001b[0m     verbose\u001b[39m=\u001b[39;49m\u001b[39mself\u001b[39;49m\u001b[39m.\u001b[39;49mverbose,\n\u001b[1;32m    476\u001b[0m     prefer\u001b[39m=\u001b[39;49m\u001b[39m\"\u001b[39;49m\u001b[39mthreads\u001b[39;49m\u001b[39m\"\u001b[39;49m,\n\u001b[1;32m    477\u001b[0m )(\n\u001b[1;32m    478\u001b[0m     delayed(_parallel_build_trees)(\n\u001b[1;32m    479\u001b[0m         t,\n\u001b[1;32m    480\u001b[0m         \u001b[39mself\u001b[39;49m\u001b[39m.\u001b[39;49mbootstrap,\n\u001b[1;32m    481\u001b[0m         X,\n\u001b[1;32m    482\u001b[0m         y,\n\u001b[1;32m    483\u001b[0m         sample_weight,\n\u001b[1;32m    484\u001b[0m         i,\n\u001b[1;32m    485\u001b[0m         \u001b[39mlen\u001b[39;49m(trees),\n\u001b[1;32m    486\u001b[0m         verbose\u001b[39m=\u001b[39;49m\u001b[39mself\u001b[39;49m\u001b[39m.\u001b[39;49mverbose,\n\u001b[1;32m    487\u001b[0m         class_weight\u001b[39m=\u001b[39;49m\u001b[39mself\u001b[39;49m\u001b[39m.\u001b[39;49mclass_weight,\n\u001b[1;32m    488\u001b[0m         n_samples_bootstrap\u001b[39m=\u001b[39;49mn_samples_bootstrap,\n\u001b[1;32m    489\u001b[0m     )\n\u001b[1;32m    490\u001b[0m     \u001b[39mfor\u001b[39;49;00m i, t \u001b[39min\u001b[39;49;00m \u001b[39menumerate\u001b[39;49m(trees)\n\u001b[1;32m    491\u001b[0m )\n\u001b[1;32m    493\u001b[0m \u001b[39m# Collect newly grown trees\u001b[39;00m\n\u001b[1;32m    494\u001b[0m \u001b[39mself\u001b[39m\u001b[39m.\u001b[39mestimators_\u001b[39m.\u001b[39mextend(trees)\n",
      "File \u001b[0;32m~/anaconda3/lib/python3.10/site-packages/sklearn/utils/parallel.py:63\u001b[0m, in \u001b[0;36mParallel.__call__\u001b[0;34m(self, iterable)\u001b[0m\n\u001b[1;32m     58\u001b[0m config \u001b[39m=\u001b[39m get_config()\n\u001b[1;32m     59\u001b[0m iterable_with_config \u001b[39m=\u001b[39m (\n\u001b[1;32m     60\u001b[0m     (_with_config(delayed_func, config), args, kwargs)\n\u001b[1;32m     61\u001b[0m     \u001b[39mfor\u001b[39;00m delayed_func, args, kwargs \u001b[39min\u001b[39;00m iterable\n\u001b[1;32m     62\u001b[0m )\n\u001b[0;32m---> 63\u001b[0m \u001b[39mreturn\u001b[39;00m \u001b[39msuper\u001b[39;49m()\u001b[39m.\u001b[39;49m\u001b[39m__call__\u001b[39;49m(iterable_with_config)\n",
      "File \u001b[0;32m~/anaconda3/lib/python3.10/site-packages/joblib/parallel.py:1088\u001b[0m, in \u001b[0;36mParallel.__call__\u001b[0;34m(self, iterable)\u001b[0m\n\u001b[1;32m   1085\u001b[0m \u001b[39mif\u001b[39;00m \u001b[39mself\u001b[39m\u001b[39m.\u001b[39mdispatch_one_batch(iterator):\n\u001b[1;32m   1086\u001b[0m     \u001b[39mself\u001b[39m\u001b[39m.\u001b[39m_iterating \u001b[39m=\u001b[39m \u001b[39mself\u001b[39m\u001b[39m.\u001b[39m_original_iterator \u001b[39mis\u001b[39;00m \u001b[39mnot\u001b[39;00m \u001b[39mNone\u001b[39;00m\n\u001b[0;32m-> 1088\u001b[0m \u001b[39mwhile\u001b[39;00m \u001b[39mself\u001b[39;49m\u001b[39m.\u001b[39;49mdispatch_one_batch(iterator):\n\u001b[1;32m   1089\u001b[0m     \u001b[39mpass\u001b[39;00m\n\u001b[1;32m   1091\u001b[0m \u001b[39mif\u001b[39;00m pre_dispatch \u001b[39m==\u001b[39m \u001b[39m\"\u001b[39m\u001b[39mall\u001b[39m\u001b[39m\"\u001b[39m \u001b[39mor\u001b[39;00m n_jobs \u001b[39m==\u001b[39m \u001b[39m1\u001b[39m:\n\u001b[1;32m   1092\u001b[0m     \u001b[39m# The iterable was consumed all at once by the above for loop.\u001b[39;00m\n\u001b[1;32m   1093\u001b[0m     \u001b[39m# No need to wait for async callbacks to trigger to\u001b[39;00m\n\u001b[1;32m   1094\u001b[0m     \u001b[39m# consumption.\u001b[39;00m\n",
      "File \u001b[0;32m~/anaconda3/lib/python3.10/site-packages/joblib/parallel.py:901\u001b[0m, in \u001b[0;36mParallel.dispatch_one_batch\u001b[0;34m(self, iterator)\u001b[0m\n\u001b[1;32m    899\u001b[0m     \u001b[39mreturn\u001b[39;00m \u001b[39mFalse\u001b[39;00m\n\u001b[1;32m    900\u001b[0m \u001b[39melse\u001b[39;00m:\n\u001b[0;32m--> 901\u001b[0m     \u001b[39mself\u001b[39;49m\u001b[39m.\u001b[39;49m_dispatch(tasks)\n\u001b[1;32m    902\u001b[0m     \u001b[39mreturn\u001b[39;00m \u001b[39mTrue\u001b[39;00m\n",
      "File \u001b[0;32m~/anaconda3/lib/python3.10/site-packages/joblib/parallel.py:819\u001b[0m, in \u001b[0;36mParallel._dispatch\u001b[0;34m(self, batch)\u001b[0m\n\u001b[1;32m    817\u001b[0m \u001b[39mwith\u001b[39;00m \u001b[39mself\u001b[39m\u001b[39m.\u001b[39m_lock:\n\u001b[1;32m    818\u001b[0m     job_idx \u001b[39m=\u001b[39m \u001b[39mlen\u001b[39m(\u001b[39mself\u001b[39m\u001b[39m.\u001b[39m_jobs)\n\u001b[0;32m--> 819\u001b[0m     job \u001b[39m=\u001b[39m \u001b[39mself\u001b[39;49m\u001b[39m.\u001b[39;49m_backend\u001b[39m.\u001b[39;49mapply_async(batch, callback\u001b[39m=\u001b[39;49mcb)\n\u001b[1;32m    820\u001b[0m     \u001b[39m# A job can complete so quickly than its callback is\u001b[39;00m\n\u001b[1;32m    821\u001b[0m     \u001b[39m# called before we get here, causing self._jobs to\u001b[39;00m\n\u001b[1;32m    822\u001b[0m     \u001b[39m# grow. To ensure correct results ordering, .insert is\u001b[39;00m\n\u001b[1;32m    823\u001b[0m     \u001b[39m# used (rather than .append) in the following line\u001b[39;00m\n\u001b[1;32m    824\u001b[0m     \u001b[39mself\u001b[39m\u001b[39m.\u001b[39m_jobs\u001b[39m.\u001b[39minsert(job_idx, job)\n",
      "File \u001b[0;32m~/anaconda3/lib/python3.10/site-packages/joblib/_parallel_backends.py:208\u001b[0m, in \u001b[0;36mSequentialBackend.apply_async\u001b[0;34m(self, func, callback)\u001b[0m\n\u001b[1;32m    206\u001b[0m \u001b[39mdef\u001b[39;00m \u001b[39mapply_async\u001b[39m(\u001b[39mself\u001b[39m, func, callback\u001b[39m=\u001b[39m\u001b[39mNone\u001b[39;00m):\n\u001b[1;32m    207\u001b[0m \u001b[39m    \u001b[39m\u001b[39m\"\"\"Schedule a func to be run\"\"\"\u001b[39;00m\n\u001b[0;32m--> 208\u001b[0m     result \u001b[39m=\u001b[39m ImmediateResult(func)\n\u001b[1;32m    209\u001b[0m     \u001b[39mif\u001b[39;00m callback:\n\u001b[1;32m    210\u001b[0m         callback(result)\n",
      "File \u001b[0;32m~/anaconda3/lib/python3.10/site-packages/joblib/_parallel_backends.py:597\u001b[0m, in \u001b[0;36mImmediateResult.__init__\u001b[0;34m(self, batch)\u001b[0m\n\u001b[1;32m    594\u001b[0m \u001b[39mdef\u001b[39;00m \u001b[39m__init__\u001b[39m(\u001b[39mself\u001b[39m, batch):\n\u001b[1;32m    595\u001b[0m     \u001b[39m# Don't delay the application, to avoid keeping the input\u001b[39;00m\n\u001b[1;32m    596\u001b[0m     \u001b[39m# arguments in memory\u001b[39;00m\n\u001b[0;32m--> 597\u001b[0m     \u001b[39mself\u001b[39m\u001b[39m.\u001b[39mresults \u001b[39m=\u001b[39m batch()\n",
      "File \u001b[0;32m~/anaconda3/lib/python3.10/site-packages/joblib/parallel.py:288\u001b[0m, in \u001b[0;36mBatchedCalls.__call__\u001b[0;34m(self)\u001b[0m\n\u001b[1;32m    284\u001b[0m \u001b[39mdef\u001b[39;00m \u001b[39m__call__\u001b[39m(\u001b[39mself\u001b[39m):\n\u001b[1;32m    285\u001b[0m     \u001b[39m# Set the default nested backend to self._backend but do not set the\u001b[39;00m\n\u001b[1;32m    286\u001b[0m     \u001b[39m# change the default number of processes to -1\u001b[39;00m\n\u001b[1;32m    287\u001b[0m     \u001b[39mwith\u001b[39;00m parallel_backend(\u001b[39mself\u001b[39m\u001b[39m.\u001b[39m_backend, n_jobs\u001b[39m=\u001b[39m\u001b[39mself\u001b[39m\u001b[39m.\u001b[39m_n_jobs):\n\u001b[0;32m--> 288\u001b[0m         \u001b[39mreturn\u001b[39;00m [func(\u001b[39m*\u001b[39margs, \u001b[39m*\u001b[39m\u001b[39m*\u001b[39mkwargs)\n\u001b[1;32m    289\u001b[0m                 \u001b[39mfor\u001b[39;00m func, args, kwargs \u001b[39min\u001b[39;00m \u001b[39mself\u001b[39m\u001b[39m.\u001b[39mitems]\n",
      "File \u001b[0;32m~/anaconda3/lib/python3.10/site-packages/joblib/parallel.py:288\u001b[0m, in \u001b[0;36m<listcomp>\u001b[0;34m(.0)\u001b[0m\n\u001b[1;32m    284\u001b[0m \u001b[39mdef\u001b[39;00m \u001b[39m__call__\u001b[39m(\u001b[39mself\u001b[39m):\n\u001b[1;32m    285\u001b[0m     \u001b[39m# Set the default nested backend to self._backend but do not set the\u001b[39;00m\n\u001b[1;32m    286\u001b[0m     \u001b[39m# change the default number of processes to -1\u001b[39;00m\n\u001b[1;32m    287\u001b[0m     \u001b[39mwith\u001b[39;00m parallel_backend(\u001b[39mself\u001b[39m\u001b[39m.\u001b[39m_backend, n_jobs\u001b[39m=\u001b[39m\u001b[39mself\u001b[39m\u001b[39m.\u001b[39m_n_jobs):\n\u001b[0;32m--> 288\u001b[0m         \u001b[39mreturn\u001b[39;00m [func(\u001b[39m*\u001b[39;49margs, \u001b[39m*\u001b[39;49m\u001b[39m*\u001b[39;49mkwargs)\n\u001b[1;32m    289\u001b[0m                 \u001b[39mfor\u001b[39;00m func, args, kwargs \u001b[39min\u001b[39;00m \u001b[39mself\u001b[39m\u001b[39m.\u001b[39mitems]\n",
      "File \u001b[0;32m~/anaconda3/lib/python3.10/site-packages/sklearn/utils/parallel.py:123\u001b[0m, in \u001b[0;36m_FuncWrapper.__call__\u001b[0;34m(self, *args, **kwargs)\u001b[0m\n\u001b[1;32m    121\u001b[0m     config \u001b[39m=\u001b[39m {}\n\u001b[1;32m    122\u001b[0m \u001b[39mwith\u001b[39;00m config_context(\u001b[39m*\u001b[39m\u001b[39m*\u001b[39mconfig):\n\u001b[0;32m--> 123\u001b[0m     \u001b[39mreturn\u001b[39;00m \u001b[39mself\u001b[39;49m\u001b[39m.\u001b[39;49mfunction(\u001b[39m*\u001b[39;49margs, \u001b[39m*\u001b[39;49m\u001b[39m*\u001b[39;49mkwargs)\n",
      "File \u001b[0;32m~/anaconda3/lib/python3.10/site-packages/sklearn/ensemble/_forest.py:184\u001b[0m, in \u001b[0;36m_parallel_build_trees\u001b[0;34m(tree, bootstrap, X, y, sample_weight, tree_idx, n_trees, verbose, class_weight, n_samples_bootstrap)\u001b[0m\n\u001b[1;32m    181\u001b[0m     \u001b[39melif\u001b[39;00m class_weight \u001b[39m==\u001b[39m \u001b[39m\"\u001b[39m\u001b[39mbalanced_subsample\u001b[39m\u001b[39m\"\u001b[39m:\n\u001b[1;32m    182\u001b[0m         curr_sample_weight \u001b[39m*\u001b[39m\u001b[39m=\u001b[39m compute_sample_weight(\u001b[39m\"\u001b[39m\u001b[39mbalanced\u001b[39m\u001b[39m\"\u001b[39m, y, indices\u001b[39m=\u001b[39mindices)\n\u001b[0;32m--> 184\u001b[0m     tree\u001b[39m.\u001b[39;49mfit(X, y, sample_weight\u001b[39m=\u001b[39;49mcurr_sample_weight, check_input\u001b[39m=\u001b[39;49m\u001b[39mFalse\u001b[39;49;00m)\n\u001b[1;32m    185\u001b[0m \u001b[39melse\u001b[39;00m:\n\u001b[1;32m    186\u001b[0m     tree\u001b[39m.\u001b[39mfit(X, y, sample_weight\u001b[39m=\u001b[39msample_weight, check_input\u001b[39m=\u001b[39m\u001b[39mFalse\u001b[39;00m)\n",
      "File \u001b[0;32m~/anaconda3/lib/python3.10/site-packages/sklearn/tree/_classes.py:1247\u001b[0m, in \u001b[0;36mDecisionTreeRegressor.fit\u001b[0;34m(self, X, y, sample_weight, check_input)\u001b[0m\n\u001b[1;32m   1218\u001b[0m \u001b[39mdef\u001b[39;00m \u001b[39mfit\u001b[39m(\u001b[39mself\u001b[39m, X, y, sample_weight\u001b[39m=\u001b[39m\u001b[39mNone\u001b[39;00m, check_input\u001b[39m=\u001b[39m\u001b[39mTrue\u001b[39;00m):\n\u001b[1;32m   1219\u001b[0m \u001b[39m    \u001b[39m\u001b[39m\"\"\"Build a decision tree regressor from the training set (X, y).\u001b[39;00m\n\u001b[1;32m   1220\u001b[0m \n\u001b[1;32m   1221\u001b[0m \u001b[39m    Parameters\u001b[39;00m\n\u001b[0;32m   (...)\u001b[0m\n\u001b[1;32m   1244\u001b[0m \u001b[39m        Fitted estimator.\u001b[39;00m\n\u001b[1;32m   1245\u001b[0m \u001b[39m    \"\"\"\u001b[39;00m\n\u001b[0;32m-> 1247\u001b[0m     \u001b[39msuper\u001b[39;49m()\u001b[39m.\u001b[39;49mfit(\n\u001b[1;32m   1248\u001b[0m         X,\n\u001b[1;32m   1249\u001b[0m         y,\n\u001b[1;32m   1250\u001b[0m         sample_weight\u001b[39m=\u001b[39;49msample_weight,\n\u001b[1;32m   1251\u001b[0m         check_input\u001b[39m=\u001b[39;49mcheck_input,\n\u001b[1;32m   1252\u001b[0m     )\n\u001b[1;32m   1253\u001b[0m     \u001b[39mreturn\u001b[39;00m \u001b[39mself\u001b[39m\n",
      "File \u001b[0;32m~/anaconda3/lib/python3.10/site-packages/sklearn/tree/_classes.py:379\u001b[0m, in \u001b[0;36mBaseDecisionTree.fit\u001b[0;34m(self, X, y, sample_weight, check_input)\u001b[0m\n\u001b[1;32m    368\u001b[0m \u001b[39melse\u001b[39;00m:\n\u001b[1;32m    369\u001b[0m     builder \u001b[39m=\u001b[39m BestFirstTreeBuilder(\n\u001b[1;32m    370\u001b[0m         splitter,\n\u001b[1;32m    371\u001b[0m         min_samples_split,\n\u001b[0;32m   (...)\u001b[0m\n\u001b[1;32m    376\u001b[0m         \u001b[39mself\u001b[39m\u001b[39m.\u001b[39mmin_impurity_decrease,\n\u001b[1;32m    377\u001b[0m     )\n\u001b[0;32m--> 379\u001b[0m builder\u001b[39m.\u001b[39;49mbuild(\u001b[39mself\u001b[39;49m\u001b[39m.\u001b[39;49mtree_, X, y, sample_weight)\n\u001b[1;32m    381\u001b[0m \u001b[39mif\u001b[39;00m \u001b[39mself\u001b[39m\u001b[39m.\u001b[39mn_outputs_ \u001b[39m==\u001b[39m \u001b[39m1\u001b[39m \u001b[39mand\u001b[39;00m is_classifier(\u001b[39mself\u001b[39m):\n\u001b[1;32m    382\u001b[0m     \u001b[39mself\u001b[39m\u001b[39m.\u001b[39mn_classes_ \u001b[39m=\u001b[39m \u001b[39mself\u001b[39m\u001b[39m.\u001b[39mn_classes_[\u001b[39m0\u001b[39m]\n",
      "\u001b[0;31mKeyboardInterrupt\u001b[0m: "
     ]
    }
   ],
   "source": [
    "# operate cross validation with the block method\n",
    "from sklearn.ensemble import RandomForestRegressor\n",
    "from sklearn.model_selection import KFold\n",
    "from sklearn.model_selection import GridSearchCV\n",
    "from sklearn.metrics import mean_squared_error\n",
    "from sklearn.metrics import mean_absolute_error\n",
    "\n",
    "#Grid search\n",
    "'''\n",
    "grid = {\n",
    "    'n_estimators': [100, 200, 300],\n",
    "    'max_depth': [None,2, 5, 10, 20],\n",
    "    'criterion': ['squared_error', 'absolute_error']\n",
    "}\n",
    "'''\n",
    "grid = {\n",
    "    'n_estimators': [10,50,100],\n",
    "    'max_depth': [None,1],\n",
    "    'criterion': ['squared_error', 'absolute_error']\n",
    "}\n",
    "\n",
    "#rf = RandomForestRegressor(n_estimators=1000, random_state=42)\n",
    "best_parameters = []\n",
    "mae_scores = []\n",
    "\n",
    "for i in range(len(cv_blocks)):\n",
    "    print(f\"Fold {i +1 }:\")\n",
    "\n",
    "    #Extracting the training an testing blocks from the list\n",
    "    validation_block = cv_blocks[i]\n",
    "    train_blocks = cv_blocks[:i] + cv_blocks[i+1:]\n",
    "\n",
    "    #Extracting the training and testing variables and targets\n",
    "    X_test = validation_block.drop(['calving'], axis=1)\n",
    "    y_test = validation_block['calving']\n",
    "\n",
    "    X_train = pd.concat(train_blocks).drop(['calving'], axis=1)\n",
    "    y_train = pd.concat(train_blocks)['calving']\n",
    "\n",
    "    # Fit the model on the training data\n",
    "    rf_cv = GridSearchCV(RandomForestRegressor(), grid)\n",
    "\n",
    "    # Make predictions on the test data\n",
    "    rf_cv.fit(X_train, y_train)\n",
    "    y_pred = rf_cv.predict(X_test)\n",
    "\n",
    "    '''\n",
    "    plt.scatter(y_test, y_pred)\n",
    "    plt.xlabel('True Values')\n",
    "    plt.ylabel('Predictions')\n",
    "\n",
    "    #plot the line y= x (diagonal of the first and third quadrant)\n",
    "    max_value = np.max([y_test, y_pred])\n",
    "    min_value = np.min([y_test, y_pred])\n",
    "    x = np.linspace(min_value, max_value, 100)\n",
    "    plt.plot(x, x, color='black')\n",
    "    plt.title('Fold ' + str(i+1))\n",
    "\n",
    "\n",
    "    plt.show()\n",
    "    '''\n",
    "\n",
    "    # Evaluate the model's performance\n",
    "    mae = mean_absolute_error(y_test, y_pred)\n",
    "    mae_scores.append(mae)\n",
    "\n",
    "    best_parameters.append(rf_cv.best_params_)\n",
    "\n"
   ]
  },
  {
   "cell_type": "code",
   "execution_count": null,
   "metadata": {},
   "outputs": [
    {
     "data": {
      "text/plain": [
       "[14.941517628205128,\n",
       " 9.198303205128205,\n",
       " 3.3142384615384617,\n",
       " 8.581923076923077,\n",
       " 13.542544871794872,\n",
       " 15.390641987179487,\n",
       " 5.062366666666667,\n",
       " 10.802583333333333]"
      ]
     },
     "execution_count": 10,
     "metadata": {},
     "output_type": "execute_result"
    }
   ],
   "source": [
    "mae_scores"
   ]
  },
  {
   "cell_type": "code",
   "execution_count": null,
   "metadata": {},
   "outputs": [
    {
     "data": {
      "text/plain": [
       "[{'criterion': 'absolute_error', 'max_depth': 1, 'n_estimators': 100},\n",
       " {'criterion': 'absolute_error', 'max_depth': 1, 'n_estimators': 100},\n",
       " {'criterion': 'absolute_error', 'max_depth': 1, 'n_estimators': 50},\n",
       " {'criterion': 'absolute_error', 'max_depth': 1, 'n_estimators': 10},\n",
       " {'criterion': 'absolute_error', 'max_depth': 1, 'n_estimators': 10},\n",
       " {'criterion': 'absolute_error', 'max_depth': 1, 'n_estimators': 100},\n",
       " {'criterion': 'absolute_error', 'max_depth': 1, 'n_estimators': 50},\n",
       " {'criterion': 'absolute_error', 'max_depth': 1, 'n_estimators': 10}]"
      ]
     },
     "execution_count": 11,
     "metadata": {},
     "output_type": "execute_result"
    }
   ],
   "source": [
    "best_parameters"
   ]
  },
  {
   "attachments": {},
   "cell_type": "markdown",
   "metadata": {},
   "source": [
    "In the following block i saved the results fromm the grid search"
   ]
  },
  {
   "cell_type": "code",
   "execution_count": null,
   "metadata": {},
   "outputs": [
    {
     "data": {
      "text/plain": [
       "[{'criterion': 'absolute_error', 'max_depth': 1, 'n_estimators': 10},\n",
       " {'criterion': 'absolute_error', 'max_depth': 1, 'n_estimators': 100},\n",
       " {'criterion': 'absolute_error', 'max_depth': 1, 'n_estimators': 50},\n",
       " {'criterion': 'squared_error', 'max_depth': 1, 'n_estimators': 10},\n",
       " {'criterion': 'absolute_error', 'max_depth': 1, 'n_estimators': 100},\n",
       " {'criterion': 'absolute_error', 'max_depth': 1, 'n_estimators': 100},\n",
       " {'criterion': 'absolute_error', 'max_depth': 1, 'n_estimators': 10},\n",
       " {'criterion': 'absolute_error', 'max_depth': 1, 'n_estimators': 10}]"
      ]
     },
     "execution_count": 97,
     "metadata": {},
     "output_type": "execute_result"
    }
   ],
   "source": [
    "#First grid search\n",
    "grid = {\n",
    "    'n_estimators': [100, 200, 300],\n",
    "    'max_depth': [None,2, 5, 10, 20],\n",
    "    'criterion': ['squared_error', 'absolute_error']\n",
    "}\n",
    "\n",
    "\n",
    "#Mae scores\n",
    "scores_1 = [13.543539246872902,\n",
    " 7.1936,\n",
    " 3.0449211538461536,\n",
    " 7.448460042735043,\n",
    " 16.490779807692306,\n",
    " 15.644852350427351,\n",
    " 5.029717307692307,\n",
    " 11.763670210811362]\n",
    "\n",
    "\n",
    "[{'criterion': 'squared_error', 'max_depth': 20, 'n_estimators': 100},\n",
    " {'criterion': 'absolute_error', 'max_depth': 2, 'n_estimators': 100},\n",
    " {'criterion': 'absolute_error', 'max_depth': 2, 'n_estimators': 100},\n",
    " {'criterion': 'absolute_error', 'max_depth': 2, 'n_estimators': 300},\n",
    " {'criterion': 'absolute_error', 'max_depth': 2, 'n_estimators': 100},\n",
    " {'criterion': 'absolute_error', 'max_depth': 2, 'n_estimators': 300},\n",
    " {'criterion': 'absolute_error', 'max_depth': 2, 'n_estimators': 100},\n",
    " {'criterion': 'squared_error', 'max_depth': 5, 'n_estimators': 100}]\n",
    "\n",
    "#Second grid search\n",
    "grid = {\n",
    "    'n_estimators': [10,50,100],\n",
    "    'max_depth': [1,2,5],\n",
    "    'criterion': ['squared_error', 'absolute_error']\n",
    "}\n",
    "\n",
    "#Mae scores\n",
    "\n",
    "scores_2 = [13.75309294871795,\n",
    " 8.036669551282051,\n",
    " 3.2670608974358974,\n",
    " 10.98667982493302,\n",
    " 14.47870608974359,\n",
    " 15.34166474358974,\n",
    " 4.937871794871795,\n",
    " 11.16877564102564]\n",
    "\n",
    "[{'criterion': 'absolute_error', 'max_depth': 1, 'n_estimators': 10},\n",
    " {'criterion': 'absolute_error', 'max_depth': 1, 'n_estimators': 100},\n",
    " {'criterion': 'absolute_error', 'max_depth': 1, 'n_estimators': 50},\n",
    " {'criterion': 'squared_error', 'max_depth': 1, 'n_estimators': 10},\n",
    " {'criterion': 'absolute_error', 'max_depth': 1, 'n_estimators': 100},\n",
    " {'criterion': 'absolute_error', 'max_depth': 1, 'n_estimators': 100},\n",
    " {'criterion': 'absolute_error', 'max_depth': 1, 'n_estimators': 10},\n",
    " {'criterion': 'absolute_error', 'max_depth': 1, 'n_estimators': 10}]"
   ]
  },
  {
   "cell_type": "code",
   "execution_count": null,
   "metadata": {},
   "outputs": [],
   "source": [
    "#Here i will use the best parameters found in the grid search to train the model on the entire dataset.\n",
    "# I will use the weights to give more importance to the glaciers with a lower mae score\n",
    "\n",
    "#Scores\n",
    "weights_1 = [1/score for score in scores_1]\n",
    "weights_2 = [1/score for score in scores_2]\n",
    "weights_list = weights_1 + weights_2\n",
    "\n",
    "#n_estimator\n",
    "n_estimmator_list = [100, 100, 100, 300, 100, 300, 100, 100, 10, 100, 50, 10, 100, 100, 10, 10]\n",
    "n_estimator_weighted_avg = np.average(n_estimmator_list, weights=weights_list)\n",
    "\n",
    "#max_depth\n",
    "max_depth_list = [20, 2, 2, 2, 2, 2, 2, 5, 1, 1, 1, 1, 1, 1, 1, 1]\n",
    "max_depth_weighted_avg = np.average(max_depth_list, weights=weights_list)\n"
   ]
  },
  {
   "cell_type": "code",
   "execution_count": null,
   "metadata": {},
   "outputs": [],
   "source": [
    "#Perform random forest with the best parameters on the whole dataset\n",
    "\n",
    "train_block = cv_blocks\n",
    "\n",
    "test_block = dataset.loc[test]\n",
    "\n",
    "\n",
    "#Extracting the training and testing variables and targets\n",
    "X_test = test_block.drop(['calving'], axis=1)\n",
    "y_test = test_block['calving']\n",
    "\n",
    "X_train = pd.concat(train_blocks).drop(['calving'], axis=1)\n",
    "y_train = pd.concat(train_blocks)['calving']\n"
   ]
  },
  {
   "cell_type": "code",
   "execution_count": null,
   "metadata": {},
   "outputs": [
    {
     "data": {
      "text/html": [
       "<style>#sk-container-id-9 {color: black;background-color: white;}#sk-container-id-9 pre{padding: 0;}#sk-container-id-9 div.sk-toggleable {background-color: white;}#sk-container-id-9 label.sk-toggleable__label {cursor: pointer;display: block;width: 100%;margin-bottom: 0;padding: 0.3em;box-sizing: border-box;text-align: center;}#sk-container-id-9 label.sk-toggleable__label-arrow:before {content: \"▸\";float: left;margin-right: 0.25em;color: #696969;}#sk-container-id-9 label.sk-toggleable__label-arrow:hover:before {color: black;}#sk-container-id-9 div.sk-estimator:hover label.sk-toggleable__label-arrow:before {color: black;}#sk-container-id-9 div.sk-toggleable__content {max-height: 0;max-width: 0;overflow: hidden;text-align: left;background-color: #f0f8ff;}#sk-container-id-9 div.sk-toggleable__content pre {margin: 0.2em;color: black;border-radius: 0.25em;background-color: #f0f8ff;}#sk-container-id-9 input.sk-toggleable__control:checked~div.sk-toggleable__content {max-height: 200px;max-width: 100%;overflow: auto;}#sk-container-id-9 input.sk-toggleable__control:checked~label.sk-toggleable__label-arrow:before {content: \"▾\";}#sk-container-id-9 div.sk-estimator input.sk-toggleable__control:checked~label.sk-toggleable__label {background-color: #d4ebff;}#sk-container-id-9 div.sk-label input.sk-toggleable__control:checked~label.sk-toggleable__label {background-color: #d4ebff;}#sk-container-id-9 input.sk-hidden--visually {border: 0;clip: rect(1px 1px 1px 1px);clip: rect(1px, 1px, 1px, 1px);height: 1px;margin: -1px;overflow: hidden;padding: 0;position: absolute;width: 1px;}#sk-container-id-9 div.sk-estimator {font-family: monospace;background-color: #f0f8ff;border: 1px dotted black;border-radius: 0.25em;box-sizing: border-box;margin-bottom: 0.5em;}#sk-container-id-9 div.sk-estimator:hover {background-color: #d4ebff;}#sk-container-id-9 div.sk-parallel-item::after {content: \"\";width: 100%;border-bottom: 1px solid gray;flex-grow: 1;}#sk-container-id-9 div.sk-label:hover label.sk-toggleable__label {background-color: #d4ebff;}#sk-container-id-9 div.sk-serial::before {content: \"\";position: absolute;border-left: 1px solid gray;box-sizing: border-box;top: 0;bottom: 0;left: 50%;z-index: 0;}#sk-container-id-9 div.sk-serial {display: flex;flex-direction: column;align-items: center;background-color: white;padding-right: 0.2em;padding-left: 0.2em;position: relative;}#sk-container-id-9 div.sk-item {position: relative;z-index: 1;}#sk-container-id-9 div.sk-parallel {display: flex;align-items: stretch;justify-content: center;background-color: white;position: relative;}#sk-container-id-9 div.sk-item::before, #sk-container-id-9 div.sk-parallel-item::before {content: \"\";position: absolute;border-left: 1px solid gray;box-sizing: border-box;top: 0;bottom: 0;left: 50%;z-index: -1;}#sk-container-id-9 div.sk-parallel-item {display: flex;flex-direction: column;z-index: 1;position: relative;background-color: white;}#sk-container-id-9 div.sk-parallel-item:first-child::after {align-self: flex-end;width: 50%;}#sk-container-id-9 div.sk-parallel-item:last-child::after {align-self: flex-start;width: 50%;}#sk-container-id-9 div.sk-parallel-item:only-child::after {width: 0;}#sk-container-id-9 div.sk-dashed-wrapped {border: 1px dashed gray;margin: 0 0.4em 0.5em 0.4em;box-sizing: border-box;padding-bottom: 0.4em;background-color: white;}#sk-container-id-9 div.sk-label label {font-family: monospace;font-weight: bold;display: inline-block;line-height: 1.2em;}#sk-container-id-9 div.sk-label-container {text-align: center;}#sk-container-id-9 div.sk-container {/* jupyter's `normalize.less` sets `[hidden] { display: none; }` but bootstrap.min.css set `[hidden] { display: none !important; }` so we also need the `!important` here to be able to override the default hidden behavior on the sphinx rendered scikit-learn.org. See: https://github.com/scikit-learn/scikit-learn/issues/21755 */display: inline-block !important;position: relative;}#sk-container-id-9 div.sk-text-repr-fallback {display: none;}</style><div id=\"sk-container-id-9\" class=\"sk-top-container\"><div class=\"sk-text-repr-fallback\"><pre>RandomForestRegressor(criterion=&#x27;absolute_error&#x27;, max_depth=2, n_estimators=92,\n",
       "                      random_state=42)</pre><b>In a Jupyter environment, please rerun this cell to show the HTML representation or trust the notebook. <br />On GitHub, the HTML representation is unable to render, please try loading this page with nbviewer.org.</b></div><div class=\"sk-container\" hidden><div class=\"sk-item\"><div class=\"sk-estimator sk-toggleable\"><input class=\"sk-toggleable__control sk-hidden--visually\" id=\"sk-estimator-id-9\" type=\"checkbox\" checked><label for=\"sk-estimator-id-9\" class=\"sk-toggleable__label sk-toggleable__label-arrow\">RandomForestRegressor</label><div class=\"sk-toggleable__content\"><pre>RandomForestRegressor(criterion=&#x27;absolute_error&#x27;, max_depth=2, n_estimators=92,\n",
       "                      random_state=42)</pre></div></div></div></div></div>"
      ],
      "text/plain": [
       "RandomForestRegressor(criterion='absolute_error', max_depth=2, n_estimators=92,\n",
       "                      random_state=42)"
      ]
     },
     "execution_count": 110,
     "metadata": {},
     "output_type": "execute_result"
    }
   ],
   "source": [
    "#Perform random forest with the best parameters on the whole dataset\n",
    "\n",
    "rf_optimized = RandomForestRegressor(n_estimators= int(n_estimator_weighted_avg), max_depth=int(max_depth_weighted_avg), criterion='absolute_error', random_state=42)\n",
    "rf_optimized.fit(X_train, y_train)"
   ]
  },
  {
   "cell_type": "code",
   "execution_count": null,
   "metadata": {},
   "outputs": [
    {
     "data": {
      "text/plain": [
       "3.3510275135869567"
      ]
     },
     "execution_count": 111,
     "metadata": {},
     "output_type": "execute_result"
    }
   ],
   "source": [
    "# Make predictions on the test data\n",
    "y_pred = rf_optimized.predict(X_test)\n",
    "\n",
    "# Evaluate the model's performance\n",
    "mae = mean_absolute_error(y_test, y_pred)\n",
    "mae"
   ]
  },
  {
   "cell_type": "code",
   "execution_count": null,
   "metadata": {},
   "outputs": [],
   "source": []
  },
  {
   "cell_type": "code",
   "execution_count": null,
   "metadata": {},
   "outputs": [],
   "source": []
  },
  {
   "cell_type": "code",
   "execution_count": null,
   "metadata": {},
   "outputs": [],
   "source": []
  },
  {
   "cell_type": "code",
   "execution_count": null,
   "metadata": {},
   "outputs": [],
   "source": []
  },
  {
   "cell_type": "code",
   "execution_count": null,
   "metadata": {},
   "outputs": [],
   "source": []
  },
  {
   "cell_type": "code",
   "execution_count": null,
   "metadata": {},
   "outputs": [],
   "source": []
  },
  {
   "cell_type": "code",
   "execution_count": null,
   "metadata": {},
   "outputs": [],
   "source": []
  },
  {
   "cell_type": "code",
   "execution_count": null,
   "metadata": {},
   "outputs": [],
   "source": []
  }
 ],
 "metadata": {
  "kernelspec": {
   "display_name": "base",
   "language": "python",
   "name": "python3"
  },
  "language_info": {
   "codemirror_mode": {
    "name": "ipython",
    "version": 3
   },
   "file_extension": ".py",
   "mimetype": "text/x-python",
   "name": "python",
   "nbconvert_exporter": "python",
   "pygments_lexer": "ipython3",
   "version": "3.10.11"
  },
  "orig_nbformat": 4
 },
 "nbformat": 4,
 "nbformat_minor": 2
}
