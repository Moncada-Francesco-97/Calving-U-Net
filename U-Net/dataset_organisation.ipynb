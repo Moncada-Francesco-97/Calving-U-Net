{
 "cells": [
  {
   "cell_type": "code",
   "execution_count": 4,
   "metadata": {},
   "outputs": [],
   "source": [
    "import matplotlib.pyplot as plt\n",
    "import numpy as np\n",
    "import pandas as pd\n",
    "import xarray as xr\n",
    "#from sklearn.metrics import r2_score\n",
    "from matplotlib.backends.backend_pdf import PdfPages\n",
    "import matplotlib.animation as animation # animation\n",
    "import imageio \n",
    "import sys\n",
    "import fiona\n",
    "import rasterio\n",
    "import rasterio.transform\n",
    "import rasterio.mask\n",
    "from fiona import Feature, Geometry\n",
    "from shapely.geometry import mapping, shape\n",
    "import os\n",
    "import importlib"
   ]
  },
  {
   "cell_type": "code",
   "execution_count": 47,
   "metadata": {},
   "outputs": [],
   "source": [
    "import numpy as np\n",
    "import pandas as pd\n",
    "\n",
    "common_years = np.arange(2005, 2017)\n",
    "\n",
    "# Lists to hold DataFrames for each dataset type\n",
    "bm_dfs = []\n",
    "v_y_dfs = []\n",
    "v_x_dfs = []\n",
    "sic_dfs = []\n",
    "thickness_dfs = []\n",
    "v_dfs = []\n",
    "\n",
    "root = '/Users/francesco/Desktop/prove/'\n",
    "\n",
    "for region in range(1, 29):  # Modify range(1, 29) if you have regions 1 to 28\n",
    "    # Load bm data\n",
    "    bm_file_path = root + f'bm_region_{region}.npy'\n",
    "    bm_data = np.load(bm_file_path, allow_pickle=True)\n",
    "    bm_df = pd.DataFrame(bm_data, index=[region], columns=common_years)\n",
    "    bm_dfs.append(bm_df)\n",
    "    \n",
    "    # Load v_y data\n",
    "    v_y_file_path = root + f'v_y_region_{region}.npy'\n",
    "    v_y_data = np.load(v_y_file_path, allow_pickle=True)\n",
    "    v_y_df = pd.DataFrame(v_y_data, index=[region], columns=common_years)\n",
    "    v_y_dfs.append(v_y_df)\n",
    "    \n",
    "    # Load basal_melting data\n",
    "    v_x_file_path = root + f'v_x_region_{region}.npy'\n",
    "    v_x_data = np.load(v_x_file_path, allow_pickle=True)\n",
    "    v_x_df = pd.DataFrame(v_x_data, index=[region], columns=common_years)\n",
    "    v_x_dfs.append(v_x_df)\n",
    "    \n",
    "    # Load sic data\n",
    "    sic_file_path = root + f'sic_region_{region}.npy'\n",
    "    sic_data = np.load(sic_file_path, allow_pickle=True)\n",
    "    sic_df = pd.DataFrame(sic_data, index=[region], columns=common_years)\n",
    "    sic_dfs.append(sic_df)\n",
    "    \n",
    "    # Load thickness data\n",
    "    thickness_file_path = root + f'thickness_region_{region}.npy'\n",
    "    thickness_data = np.load(thickness_file_path, allow_pickle=True)\n",
    "    thickness_df = pd.DataFrame(thickness_data, index=[region], columns=common_years)\n",
    "    thickness_dfs.append(thickness_df)\n",
    "\n",
    "    v_file_path = root + f'v_region_{region}.npy'\n",
    "    v_data = np.load(v_file_path, allow_pickle=True)\n",
    "    v_df = pd.DataFrame(v_data, index=[region], columns=common_years)\n",
    "    v_dfs.append(v_df)\n",
    "\n",
    "# Concatenate all DataFrames for each dataset type\n",
    "bm = pd.concat(bm_dfs)\n",
    "v_y = pd.concat(v_y_dfs)\n",
    "v_x = pd.concat(v_x_dfs)\n",
    "sic = pd.concat(sic_dfs)\n",
    "thickness = pd.concat(thickness_dfs)\n",
    "v = pd.concat(v_dfs)\n"
   ]
  },
  {
   "cell_type": "code",
   "execution_count": 65,
   "metadata": {},
   "outputs": [],
   "source": [
    "#import the ice mask\n",
    "ice_mask_dir = '/Users/francesco/Desktop/ice_mask.npy'\n",
    "ice_mask = np.load(ice_mask_dir, allow_pickle=True)\n",
    "ice_mask = pd.DataFrame(ice_mask, index=np.arange(1, 29), columns=common_years)\n",
    "\n",
    "#set ice mask as int\n",
    "for id in ice_mask.index:\n",
    "    for year in ice_mask.columns:\n",
    "        ice_mask.loc[id, year] = ice_mask.loc[id, year].astype(int)\n",
    "\n"
   ]
  },
  {
   "cell_type": "code",
   "execution_count": 80,
   "metadata": {},
   "outputs": [],
   "source": [
    "mask_target = ice_mask.iloc[:, 1:] #Taking all the years from 2006 to 2016\n",
    "mask_feature = ice_mask.iloc[:, :-1] #Taking all the years from 2005 to 2015"
   ]
  },
  {
   "cell_type": "code",
   "execution_count": 81,
   "metadata": {},
   "outputs": [
    {
     "data": {
      "text/plain": [
       "Int64Index([2005, 2006, 2007, 2008, 2009, 2010, 2011, 2012, 2013, 2014, 2015], dtype='int64')"
      ]
     },
     "execution_count": 81,
     "metadata": {},
     "output_type": "execute_result"
    }
   ],
   "source": [
    "mask_feature.columns"
   ]
  },
  {
   "cell_type": "markdown",
   "metadata": {},
   "source": [
    "Normalize the dataset"
   ]
  },
  {
   "cell_type": "code",
   "execution_count": 49,
   "metadata": {},
   "outputs": [],
   "source": [
    "#Finding the maximum to normalize the data\n",
    "\n",
    "thickness_max = pd.DataFrame(index = bm.index, columns = common_years)\n",
    "v_max = pd.DataFrame(index = bm.index, columns = common_years)\n",
    "bm_max = pd.DataFrame(index = bm.index, columns = common_years)\n",
    "bm_min = pd.DataFrame(index = bm.index, columns = common_years)\n",
    "\n",
    "for year in common_years:\n",
    "    for id in bm.index:\n",
    "\n",
    "        thickness_max.loc[id,year] = thickness.loc[id,year].max()\n",
    "\n",
    "        v_max.loc[id,year] = v.loc[id,year].max()\n",
    "\n",
    "        bm_max.loc[id,year] = bm.loc[id,year].max()\n",
    "        bm_min.loc[id,year] = bm.loc[id,year].min()\n",
    "\n"
   ]
  },
  {
   "cell_type": "code",
   "execution_count": 50,
   "metadata": {},
   "outputs": [
    {
     "name": "stdout",
     "output_type": "stream",
     "text": [
      "thickness_total_max 4306.5547\n",
      "velocity_total_max 4563.529043074536\n",
      "bm_total_max 106.786 bm_total_min -276.62036\n"
     ]
    }
   ],
   "source": [
    "thickness_total_max = thickness_max.max().max()\n",
    "\n",
    "v_total_max = v_max.max().max()\n",
    "\n",
    "bm_total_max = bm_max.max().max()\n",
    "bm_total_min = bm_min.min().min()\n",
    "\n",
    "print('thickness_total_max', thickness_total_max)\n",
    "print('velocity_total_max', v_total_max)\n",
    "print('bm_total_max', bm_total_max, 'bm_total_min', bm_total_min)"
   ]
  },
  {
   "cell_type": "code",
   "execution_count": 51,
   "metadata": {},
   "outputs": [],
   "source": [
    "#Normaliing\n",
    "v_x_normalized = v_x.copy()\n",
    "v_y_normalized = v_y.copy()\n",
    "v_normalized = v.copy()\n",
    "thickness_normalized = thickness.copy()\n",
    "bm_normalized = bm.copy()\n",
    "sic_normalized = sic.copy()\n",
    "\n",
    "for id in v.index:\n",
    "    for year in common_years:\n",
    "        v_x_normalized.loc[id,year] = v_x.loc[id,year] / v_total_max\n",
    "        v_y_normalized.loc[id,year] = v_y.loc[id,year] / v_total_max\n",
    "        v_normalized.loc[id,year] = v.loc[id,year] / v_total_max\n",
    "        thickness_normalized.loc[id,year] = thickness.loc[id,year] / thickness_total_max\n",
    "        bm_normalized.loc[id,year] = bm.loc[id,year] / (bm_total_max - bm_total_min)\n",
    "        sic_normalized.loc[id,year] = sic.loc[id,year] / 100"
   ]
  },
  {
   "cell_type": "code",
   "execution_count": 58,
   "metadata": {},
   "outputs": [],
   "source": [
    "#Save the dataset as numpy files here /Users/francesco/Desktop/machine_learning_calving_project/dataset_cnn\n",
    "saving_directory = '/Users/francesco/Desktop/machine_learning_calving_project/dataset_cnn/' #CHANGE IN CLUSETER\n",
    "np.save(saving_directory + 'bm_normalized.npy', bm_normalized)\n",
    "np.save(saving_directory + 'v_x_normalized.npy', v_x_normalized)\n",
    "np.save(saving_directory + 'v_y_normalized.npy', v_y_normalized)\n",
    "np.save(saving_directory + 'v_normalized.npy', v_normalized)\n",
    "np.save(saving_directory + 'thickness_normalized.npy', thickness_normalized)\n",
    "np.save(saving_directory + 'sic_normalized.npy', sic_normalized)\n",
    "\n"
   ]
  },
  {
   "cell_type": "code",
   "execution_count": null,
   "metadata": {},
   "outputs": [],
   "source": [
    "#Removing the lat year from all the datets\n",
    "v_x_normalized = v_x_normalized.iloc[:, :-1]\n",
    "v_y_normalized = v_y_normalized.iloc[:, :-1]\n",
    "v_normalized = v_normalized.iloc[:, :-1]\n",
    "thickness_normalized = thickness_normalized.iloc[:, :-1]\n",
    "bm_normalized = bm_normalized.iloc[:, :-1]\n",
    "sic_normalized = sic_normalized.iloc[:, :-1]"
   ]
  },
  {
   "cell_type": "markdown",
   "metadata": {},
   "source": [
    "RESHAPING THE DATASET"
   ]
  },
  {
   "cell_type": "code",
   "execution_count": 101,
   "metadata": {},
   "outputs": [],
   "source": [
    "window_size = 1024\n",
    "n_regions = 28\n",
    "n_feature_variables = 6\n",
    "n_target_variables = 1\n",
    "n_years = 11"
   ]
  },
  {
   "cell_type": "code",
   "execution_count": 102,
   "metadata": {},
   "outputs": [],
   "source": [
    "\n",
    "#Input variables\n",
    "stacked_arrays = np.stack([thickness_normalized.values, sic_normalized.values, v_x_normalized.values, v_y_normalized.values, bm_normalized.values, mask_feature.values], axis = -1)\n",
    "stacked_arrays.shape #This is 128 ice shelves, 12 years and 5 variiables. Each of those element is 256x256\n",
    "\n",
    "#Target variables\n",
    "target = np.stack([mask_target.values], axis = -1)\n",
    "\n",
    "stacked_arrays = np.reshape(stacked_arrays, (n_regions * n_years, n_feature_variables)) #28 regions, 12 years and 5 variiables. Each of those element is 1024x1024\n",
    "target_mask = np.reshape(target, (n_regions * n_years, n_target_variables))"
   ]
  },
  {
   "cell_type": "code",
   "execution_count": 103,
   "metadata": {},
   "outputs": [
    {
     "name": "stdout",
     "output_type": "stream",
     "text": [
      "The round is 0 and the shape is (1024, 1024, 6)\n",
      "The round is 1 and the shape is (1024, 1024, 6)\n",
      "The round is 2 and the shape is (1024, 1024, 6)\n",
      "The round is 3 and the shape is (1024, 1024, 6)\n",
      "The round is 4 and the shape is (1024, 1024, 6)\n",
      "The round is 5 and the shape is (1024, 1024, 6)\n",
      "The round is 6 and the shape is (1024, 1024, 6)\n",
      "The round is 7 and the shape is (1024, 1024, 6)\n",
      "The round is 8 and the shape is (1024, 1024, 6)\n",
      "The round is 9 and the shape is (1024, 1024, 6)\n",
      "The round is 10 and the shape is (1024, 1024, 6)\n",
      "The round is 11 and the shape is (1024, 1024, 6)\n",
      "The round is 12 and the shape is (1024, 1024, 6)\n",
      "The round is 13 and the shape is (1024, 1024, 6)\n",
      "The round is 14 and the shape is (1024, 1024, 6)\n",
      "The round is 15 and the shape is (1024, 1024, 6)\n",
      "The round is 16 and the shape is (1024, 1024, 6)\n",
      "The round is 17 and the shape is (1024, 1024, 6)\n",
      "The round is 18 and the shape is (1024, 1024, 6)\n",
      "The round is 19 and the shape is (1024, 1024, 6)\n",
      "The round is 20 and the shape is (1024, 1024, 6)\n",
      "The round is 21 and the shape is (1024, 1024, 6)\n",
      "The round is 22 and the shape is (1024, 1024, 6)\n",
      "The round is 23 and the shape is (1024, 1024, 6)\n",
      "The round is 24 and the shape is (1024, 1024, 6)\n",
      "The round is 25 and the shape is (1024, 1024, 6)\n",
      "The round is 26 and the shape is (1024, 1024, 6)\n",
      "The round is 27 and the shape is (1024, 1024, 6)\n",
      "The round is 28 and the shape is (1024, 1024, 6)\n",
      "The round is 29 and the shape is (1024, 1024, 6)\n",
      "The round is 30 and the shape is (1024, 1024, 6)\n",
      "The round is 31 and the shape is (1024, 1024, 6)\n",
      "The round is 32 and the shape is (1024, 1024, 6)\n",
      "The round is 33 and the shape is (1024, 1024, 6)\n",
      "The round is 34 and the shape is (1024, 1024, 6)\n",
      "The round is 35 and the shape is (1024, 1024, 6)\n",
      "The round is 36 and the shape is (1024, 1024, 6)\n",
      "The round is 37 and the shape is (1024, 1024, 6)\n",
      "The round is 38 and the shape is (1024, 1024, 6)\n",
      "The round is 39 and the shape is (1024, 1024, 6)\n",
      "The round is 40 and the shape is (1024, 1024, 6)\n",
      "The round is 41 and the shape is (1024, 1024, 6)\n",
      "The round is 42 and the shape is (1024, 1024, 6)\n",
      "The round is 43 and the shape is (1024, 1024, 6)\n",
      "The round is 44 and the shape is (1024, 1024, 6)\n",
      "The round is 45 and the shape is (1024, 1024, 6)\n",
      "The round is 46 and the shape is (1024, 1024, 6)\n",
      "The round is 47 and the shape is (1024, 1024, 6)\n",
      "The round is 48 and the shape is (1024, 1024, 6)\n",
      "The round is 49 and the shape is (1024, 1024, 6)\n",
      "The round is 50 and the shape is (1024, 1024, 6)\n",
      "The round is 51 and the shape is (1024, 1024, 6)\n",
      "The round is 52 and the shape is (1024, 1024, 6)\n",
      "The round is 53 and the shape is (1024, 1024, 6)\n",
      "The round is 54 and the shape is (1024, 1024, 6)\n",
      "The round is 55 and the shape is (1024, 1024, 6)\n",
      "The round is 56 and the shape is (1024, 1024, 6)\n",
      "The round is 57 and the shape is (1024, 1024, 6)\n",
      "The round is 58 and the shape is (1024, 1024, 6)\n",
      "The round is 59 and the shape is (1024, 1024, 6)\n",
      "The round is 60 and the shape is (1024, 1024, 6)\n",
      "The round is 61 and the shape is (1024, 1024, 6)\n",
      "The round is 62 and the shape is (1024, 1024, 6)\n",
      "The round is 63 and the shape is (1024, 1024, 6)\n",
      "The round is 64 and the shape is (1024, 1024, 6)\n",
      "The round is 65 and the shape is (1024, 1024, 6)\n",
      "The round is 66 and the shape is (1024, 1024, 6)\n",
      "The round is 67 and the shape is (1024, 1024, 6)\n",
      "The round is 68 and the shape is (1024, 1024, 6)\n",
      "The round is 69 and the shape is (1024, 1024, 6)\n",
      "The round is 70 and the shape is (1024, 1024, 6)\n",
      "The round is 71 and the shape is (1024, 1024, 6)\n",
      "The round is 72 and the shape is (1024, 1024, 6)\n",
      "The round is 73 and the shape is (1024, 1024, 6)\n",
      "The round is 74 and the shape is (1024, 1024, 6)\n",
      "The round is 75 and the shape is (1024, 1024, 6)\n",
      "The round is 76 and the shape is (1024, 1024, 6)\n",
      "The round is 77 and the shape is (1024, 1024, 6)\n",
      "The round is 78 and the shape is (1024, 1024, 6)\n",
      "The round is 79 and the shape is (1024, 1024, 6)\n",
      "The round is 80 and the shape is (1024, 1024, 6)\n",
      "The round is 81 and the shape is (1024, 1024, 6)\n",
      "The round is 82 and the shape is (1024, 1024, 6)\n",
      "The round is 83 and the shape is (1024, 1024, 6)\n",
      "The round is 84 and the shape is (1024, 1024, 6)\n",
      "The round is 85 and the shape is (1024, 1024, 6)\n",
      "The round is 86 and the shape is (1024, 1024, 6)\n",
      "The round is 87 and the shape is (1024, 1024, 6)\n",
      "The round is 88 and the shape is (1024, 1024, 6)\n",
      "The round is 89 and the shape is (1024, 1024, 6)\n",
      "The round is 90 and the shape is (1024, 1024, 6)\n",
      "The round is 91 and the shape is (1024, 1024, 6)\n",
      "The round is 92 and the shape is (1024, 1024, 6)\n",
      "The round is 93 and the shape is (1024, 1024, 6)\n",
      "The round is 94 and the shape is (1024, 1024, 6)\n",
      "The round is 95 and the shape is (1024, 1024, 6)\n",
      "The round is 96 and the shape is (1024, 1024, 6)\n",
      "The round is 97 and the shape is (1024, 1024, 6)\n",
      "The round is 98 and the shape is (1024, 1024, 6)\n",
      "The round is 99 and the shape is (1024, 1024, 6)\n",
      "The round is 100 and the shape is (1024, 1024, 6)\n",
      "The round is 101 and the shape is (1024, 1024, 6)\n",
      "The round is 102 and the shape is (1024, 1024, 6)\n",
      "The round is 103 and the shape is (1024, 1024, 6)\n",
      "The round is 104 and the shape is (1024, 1024, 6)\n",
      "The round is 105 and the shape is (1024, 1024, 6)\n",
      "The round is 106 and the shape is (1024, 1024, 6)\n",
      "The round is 107 and the shape is (1024, 1024, 6)\n",
      "The round is 108 and the shape is (1024, 1024, 6)\n",
      "The round is 109 and the shape is (1024, 1024, 6)\n",
      "The round is 110 and the shape is (1024, 1024, 6)\n",
      "The round is 111 and the shape is (1024, 1024, 6)\n",
      "The round is 112 and the shape is (1024, 1024, 6)\n",
      "The round is 113 and the shape is (1024, 1024, 6)\n",
      "The round is 114 and the shape is (1024, 1024, 6)\n",
      "The round is 115 and the shape is (1024, 1024, 6)\n",
      "The round is 116 and the shape is (1024, 1024, 6)\n",
      "The round is 117 and the shape is (1024, 1024, 6)\n",
      "The round is 118 and the shape is (1024, 1024, 6)\n",
      "The round is 119 and the shape is (1024, 1024, 6)\n",
      "The round is 120 and the shape is (1024, 1024, 6)\n",
      "The round is 121 and the shape is (1024, 1024, 6)\n",
      "The round is 122 and the shape is (1024, 1024, 6)\n",
      "The round is 123 and the shape is (1024, 1024, 6)\n",
      "The round is 124 and the shape is (1024, 1024, 6)\n",
      "The round is 125 and the shape is (1024, 1024, 6)\n",
      "The round is 126 and the shape is (1024, 1024, 6)\n",
      "The round is 127 and the shape is (1024, 1024, 6)\n",
      "The round is 128 and the shape is (1024, 1024, 6)\n",
      "The round is 129 and the shape is (1024, 1024, 6)\n",
      "The round is 130 and the shape is (1024, 1024, 6)\n",
      "The round is 131 and the shape is (1024, 1024, 6)\n",
      "The round is 132 and the shape is (1024, 1024, 6)\n",
      "The round is 133 and the shape is (1024, 1024, 6)\n",
      "The round is 134 and the shape is (1024, 1024, 6)\n",
      "The round is 135 and the shape is (1024, 1024, 6)\n",
      "The round is 136 and the shape is (1024, 1024, 6)\n",
      "The round is 137 and the shape is (1024, 1024, 6)\n",
      "The round is 138 and the shape is (1024, 1024, 6)\n",
      "The round is 139 and the shape is (1024, 1024, 6)\n",
      "The round is 140 and the shape is (1024, 1024, 6)\n",
      "The round is 141 and the shape is (1024, 1024, 6)\n",
      "The round is 142 and the shape is (1024, 1024, 6)\n",
      "The round is 143 and the shape is (1024, 1024, 6)\n",
      "The round is 144 and the shape is (1024, 1024, 6)\n",
      "The round is 145 and the shape is (1024, 1024, 6)\n",
      "The round is 146 and the shape is (1024, 1024, 6)\n",
      "The round is 147 and the shape is (1024, 1024, 6)\n",
      "The round is 148 and the shape is (1024, 1024, 6)\n",
      "The round is 149 and the shape is (1024, 1024, 6)\n",
      "The round is 150 and the shape is (1024, 1024, 6)\n",
      "The round is 151 and the shape is (1024, 1024, 6)\n",
      "The round is 152 and the shape is (1024, 1024, 6)\n",
      "The round is 153 and the shape is (1024, 1024, 6)\n",
      "The round is 154 and the shape is (1024, 1024, 6)\n",
      "The round is 155 and the shape is (1024, 1024, 6)\n",
      "The round is 156 and the shape is (1024, 1024, 6)\n",
      "The round is 157 and the shape is (1024, 1024, 6)\n",
      "The round is 158 and the shape is (1024, 1024, 6)\n",
      "The round is 159 and the shape is (1024, 1024, 6)\n",
      "The round is 160 and the shape is (1024, 1024, 6)\n",
      "The round is 161 and the shape is (1024, 1024, 6)\n",
      "The round is 162 and the shape is (1024, 1024, 6)\n",
      "The round is 163 and the shape is (1024, 1024, 6)\n",
      "The round is 164 and the shape is (1024, 1024, 6)\n",
      "The round is 165 and the shape is (1024, 1024, 6)\n",
      "The round is 166 and the shape is (1024, 1024, 6)\n",
      "The round is 167 and the shape is (1024, 1024, 6)\n",
      "The round is 168 and the shape is (1024, 1024, 6)\n",
      "The round is 169 and the shape is (1024, 1024, 6)\n",
      "The round is 170 and the shape is (1024, 1024, 6)\n",
      "The round is 171 and the shape is (1024, 1024, 6)\n",
      "The round is 172 and the shape is (1024, 1024, 6)\n",
      "The round is 173 and the shape is (1024, 1024, 6)\n",
      "The round is 174 and the shape is (1024, 1024, 6)\n",
      "The round is 175 and the shape is (1024, 1024, 6)\n",
      "The round is 176 and the shape is (1024, 1024, 6)\n",
      "The round is 177 and the shape is (1024, 1024, 6)\n",
      "The round is 178 and the shape is (1024, 1024, 6)\n",
      "The round is 179 and the shape is (1024, 1024, 6)\n",
      "The round is 180 and the shape is (1024, 1024, 6)\n",
      "The round is 181 and the shape is (1024, 1024, 6)\n",
      "The round is 182 and the shape is (1024, 1024, 6)\n",
      "The round is 183 and the shape is (1024, 1024, 6)\n",
      "The round is 184 and the shape is (1024, 1024, 6)\n",
      "The round is 185 and the shape is (1024, 1024, 6)\n",
      "The round is 186 and the shape is (1024, 1024, 6)\n",
      "The round is 187 and the shape is (1024, 1024, 6)\n",
      "The round is 188 and the shape is (1024, 1024, 6)\n",
      "The round is 189 and the shape is (1024, 1024, 6)\n",
      "The round is 190 and the shape is (1024, 1024, 6)\n",
      "The round is 191 and the shape is (1024, 1024, 6)\n",
      "The round is 192 and the shape is (1024, 1024, 6)\n",
      "The round is 193 and the shape is (1024, 1024, 6)\n",
      "The round is 194 and the shape is (1024, 1024, 6)\n",
      "The round is 195 and the shape is (1024, 1024, 6)\n",
      "The round is 196 and the shape is (1024, 1024, 6)\n",
      "The round is 197 and the shape is (1024, 1024, 6)\n",
      "The round is 198 and the shape is (1024, 1024, 6)\n",
      "The round is 199 and the shape is (1024, 1024, 6)\n",
      "The round is 200 and the shape is (1024, 1024, 6)\n",
      "The round is 201 and the shape is (1024, 1024, 6)\n",
      "The round is 202 and the shape is (1024, 1024, 6)\n",
      "The round is 203 and the shape is (1024, 1024, 6)\n",
      "The round is 204 and the shape is (1024, 1024, 6)\n",
      "The round is 205 and the shape is (1024, 1024, 6)\n",
      "The round is 206 and the shape is (1024, 1024, 6)\n",
      "The round is 207 and the shape is (1024, 1024, 6)\n",
      "The round is 208 and the shape is (1024, 1024, 6)\n",
      "The round is 209 and the shape is (1024, 1024, 6)\n",
      "The round is 210 and the shape is (1024, 1024, 6)\n",
      "The round is 211 and the shape is (1024, 1024, 6)\n",
      "The round is 212 and the shape is (1024, 1024, 6)\n",
      "The round is 213 and the shape is (1024, 1024, 6)\n",
      "The round is 214 and the shape is (1024, 1024, 6)\n",
      "The round is 215 and the shape is (1024, 1024, 6)\n",
      "The round is 216 and the shape is (1024, 1024, 6)\n",
      "The round is 217 and the shape is (1024, 1024, 6)\n",
      "The round is 218 and the shape is (1024, 1024, 6)\n",
      "The round is 219 and the shape is (1024, 1024, 6)\n",
      "The round is 220 and the shape is (1024, 1024, 6)\n",
      "The round is 221 and the shape is (1024, 1024, 6)\n",
      "The round is 222 and the shape is (1024, 1024, 6)\n",
      "The round is 223 and the shape is (1024, 1024, 6)\n",
      "The round is 224 and the shape is (1024, 1024, 6)\n",
      "The round is 225 and the shape is (1024, 1024, 6)\n",
      "The round is 226 and the shape is (1024, 1024, 6)\n",
      "The round is 227 and the shape is (1024, 1024, 6)\n",
      "The round is 228 and the shape is (1024, 1024, 6)\n",
      "The round is 229 and the shape is (1024, 1024, 6)\n",
      "The round is 230 and the shape is (1024, 1024, 6)\n",
      "The round is 231 and the shape is (1024, 1024, 6)\n",
      "The round is 232 and the shape is (1024, 1024, 6)\n",
      "The round is 233 and the shape is (1024, 1024, 6)\n",
      "The round is 234 and the shape is (1024, 1024, 6)\n",
      "The round is 235 and the shape is (1024, 1024, 6)\n",
      "The round is 236 and the shape is (1024, 1024, 6)\n",
      "The round is 237 and the shape is (1024, 1024, 6)\n",
      "The round is 238 and the shape is (1024, 1024, 6)\n",
      "The round is 239 and the shape is (1024, 1024, 6)\n",
      "The round is 240 and the shape is (1024, 1024, 6)\n",
      "The round is 241 and the shape is (1024, 1024, 6)\n",
      "The round is 242 and the shape is (1024, 1024, 6)\n",
      "The round is 243 and the shape is (1024, 1024, 6)\n",
      "The round is 244 and the shape is (1024, 1024, 6)\n",
      "The round is 245 and the shape is (1024, 1024, 6)\n",
      "The round is 246 and the shape is (1024, 1024, 6)\n",
      "The round is 247 and the shape is (1024, 1024, 6)\n",
      "The round is 248 and the shape is (1024, 1024, 6)\n",
      "The round is 249 and the shape is (1024, 1024, 6)\n",
      "The round is 250 and the shape is (1024, 1024, 6)\n",
      "The round is 251 and the shape is (1024, 1024, 6)\n",
      "The round is 252 and the shape is (1024, 1024, 6)\n",
      "The round is 253 and the shape is (1024, 1024, 6)\n",
      "The round is 254 and the shape is (1024, 1024, 6)\n",
      "The round is 255 and the shape is (1024, 1024, 6)\n",
      "The round is 256 and the shape is (1024, 1024, 6)\n",
      "The round is 257 and the shape is (1024, 1024, 6)\n",
      "The round is 258 and the shape is (1024, 1024, 6)\n",
      "The round is 259 and the shape is (1024, 1024, 6)\n",
      "The round is 260 and the shape is (1024, 1024, 6)\n",
      "The round is 261 and the shape is (1024, 1024, 6)\n",
      "The round is 262 and the shape is (1024, 1024, 6)\n",
      "The round is 263 and the shape is (1024, 1024, 6)\n",
      "The round is 264 and the shape is (1024, 1024, 6)\n",
      "The round is 265 and the shape is (1024, 1024, 6)\n",
      "The round is 266 and the shape is (1024, 1024, 6)\n",
      "The round is 267 and the shape is (1024, 1024, 6)\n",
      "The round is 268 and the shape is (1024, 1024, 6)\n",
      "The round is 269 and the shape is (1024, 1024, 6)\n",
      "The round is 270 and the shape is (1024, 1024, 6)\n",
      "The round is 271 and the shape is (1024, 1024, 6)\n",
      "The round is 272 and the shape is (1024, 1024, 6)\n",
      "The round is 273 and the shape is (1024, 1024, 6)\n",
      "The round is 274 and the shape is (1024, 1024, 6)\n",
      "The round is 275 and the shape is (1024, 1024, 6)\n",
      "The round is 276 and the shape is (1024, 1024, 6)\n",
      "The round is 277 and the shape is (1024, 1024, 6)\n",
      "The round is 278 and the shape is (1024, 1024, 6)\n",
      "The round is 279 and the shape is (1024, 1024, 6)\n",
      "The round is 280 and the shape is (1024, 1024, 6)\n",
      "The round is 281 and the shape is (1024, 1024, 6)\n",
      "The round is 282 and the shape is (1024, 1024, 6)\n",
      "The round is 283 and the shape is (1024, 1024, 6)\n",
      "The round is 284 and the shape is (1024, 1024, 6)\n",
      "The round is 285 and the shape is (1024, 1024, 6)\n",
      "The round is 286 and the shape is (1024, 1024, 6)\n",
      "The round is 287 and the shape is (1024, 1024, 6)\n",
      "The round is 288 and the shape is (1024, 1024, 6)\n",
      "The round is 289 and the shape is (1024, 1024, 6)\n",
      "The round is 290 and the shape is (1024, 1024, 6)\n",
      "The round is 291 and the shape is (1024, 1024, 6)\n",
      "The round is 292 and the shape is (1024, 1024, 6)\n",
      "The round is 293 and the shape is (1024, 1024, 6)\n",
      "The round is 294 and the shape is (1024, 1024, 6)\n",
      "The round is 295 and the shape is (1024, 1024, 6)\n",
      "The round is 296 and the shape is (1024, 1024, 6)\n",
      "The round is 297 and the shape is (1024, 1024, 6)\n",
      "The round is 298 and the shape is (1024, 1024, 6)\n",
      "The round is 299 and the shape is (1024, 1024, 6)\n",
      "The round is 300 and the shape is (1024, 1024, 6)\n",
      "The round is 301 and the shape is (1024, 1024, 6)\n",
      "The round is 302 and the shape is (1024, 1024, 6)\n",
      "The round is 303 and the shape is (1024, 1024, 6)\n",
      "The round is 304 and the shape is (1024, 1024, 6)\n",
      "The round is 305 and the shape is (1024, 1024, 6)\n",
      "The round is 306 and the shape is (1024, 1024, 6)\n",
      "The round is 307 and the shape is (1024, 1024, 6)\n"
     ]
    }
   ],
   "source": [
    "#Give shape (1536,1024,1024,6) to the features and (1536,256,256,1) to the target\n",
    "\n",
    "\n",
    "features = np.zeros((n_regions*n_years,window_size,window_size,n_feature_variables))\n",
    "target = np.zeros((n_regions*n_years,window_size,window_size,n_target_variables))\n",
    "\n",
    "for i in range(n_regions*n_years):\n",
    "    \n",
    "        #Features\n",
    "        t = stacked_arrays[i,0].flatten().reshape(window_size,window_size)\n",
    "        s = stacked_arrays[i,1].flatten().reshape(window_size,window_size)\n",
    "        vx = stacked_arrays[i,2].flatten().reshape(window_size,window_size)\n",
    "        vy = stacked_arrays[i,3].flatten().reshape(window_size,window_size)\n",
    "        bm = stacked_arrays[i,4].flatten().reshape(window_size,window_size)\n",
    "        mask_feat = stacked_arrays[i,5].flatten().reshape(window_size,window_size)\n",
    "    \n",
    "        #target\n",
    "        mask = target_mask[i,0].flatten().reshape(window_size,window_size)\n",
    "    \n",
    "        t = t[:,:,np.newaxis]\n",
    "        s = s[:,:,np.newaxis]\n",
    "        vx = vx[:,:,np.newaxis]\n",
    "        vy = vy[:,:,np.newaxis]\n",
    "        bm = bm[:,:,np.newaxis]\n",
    "        mask_feat = mask_feat[:,:,np.newaxis]\n",
    "    \n",
    "        mask = mask[:,:,np.newaxis]\n",
    "\n",
    "        test = np.concatenate((t,s,vx,vy,bm,mask_feat), axis = -1)\n",
    "        target[i,:,:,:] = mask\n",
    "    \n",
    "        print('The round is', i, 'and the shape is', np.shape(test))\n",
    "        features[i,:,:,:] = test"
   ]
  },
  {
   "cell_type": "code",
   "execution_count": 115,
   "metadata": {},
   "outputs": [
    {
     "data": {
      "text/plain": [
       "(308, 1024, 1024, 1)"
      ]
     },
     "execution_count": 115,
     "metadata": {},
     "output_type": "execute_result"
    }
   ],
   "source": [
    "target.shape"
   ]
  },
  {
   "cell_type": "code",
   "execution_count": 119,
   "metadata": {},
   "outputs": [
    {
     "data": {
      "text/plain": [
       "23.89333333333333"
      ]
     },
     "execution_count": 119,
     "metadata": {},
     "output_type": "execute_result"
    }
   ],
   "source": [
    "1433.6/60"
   ]
  },
  {
   "cell_type": "code",
   "execution_count": 112,
   "metadata": {},
   "outputs": [
    {
     "name": "stdout",
     "output_type": "stream",
     "text": [
      "The matrices are the same.\n"
     ]
    }
   ],
   "source": [
    "\n",
    "# Check if the matrices are the same. It is working\n",
    "are_equal = np.array_equal(target[0,:,:,0], ice_mask.loc[1,2006])\n",
    "\n",
    "if are_equal:\n",
    "    print(\"The matrices are the same.\")\n",
    "else:\n",
    "    print(\"The matrices are different.\")\n"
   ]
  },
  {
   "cell_type": "code",
   "execution_count": 118,
   "metadata": {},
   "outputs": [
    {
     "name": "stdout",
     "output_type": "stream",
     "text": [
      "Total size of the dataset: 14.4375 GB\n"
     ]
    }
   ],
   "source": [
    "# Assuming dataset is your NumPy dataset of shape (700, 1024, 1024, 3)\n",
    "dataset_size_bytes = features.nbytes\n",
    "\n",
    "# Convert bytes to gigabytes\n",
    "dataset_size_gigabytes = dataset_size_bytes / (1024 ** 3)\n",
    "\n",
    "print(\"Total size of the dataset:\", dataset_size_gigabytes, \"GB\")\n"
   ]
  },
  {
   "cell_type": "code",
   "execution_count": 121,
   "metadata": {},
   "outputs": [
    {
     "name": "stdout",
     "output_type": "stream",
     "text": [
      "target saved\n"
     ]
    }
   ],
   "source": [
    "#save them as numpy files\n",
    "np.save(saving_directory + 'target.npy', target)\n",
    "print('target saved')\n",
    "\n",
    "np.save(saving_directory + 'features.npy', features)\n",
    "\n"
   ]
  },
  {
   "cell_type": "code",
   "execution_count": 122,
   "metadata": {},
   "outputs": [],
   "source": [
    "#Load them\n",
    "features = np.load(saving_directory + 'features.npy')\n",
    "target = np.load(saving_directory + 'target.npy')\n",
    "\n"
   ]
  },
  {
   "cell_type": "code",
   "execution_count": 125,
   "metadata": {},
   "outputs": [
    {
     "data": {
      "text/plain": [
       "<matplotlib.image.AxesImage at 0x152238e50>"
      ]
     },
     "execution_count": 125,
     "metadata": {},
     "output_type": "execute_result"
    },
    {
     "data": {
      "image/png": "[encoded data removed]",
      "text/plain": [
       "<Figure size 640x480 with 1 Axes>"
      ]
     },
     "metadata": {},
     "output_type": "display_data"
    }
   ],
   "source": []
  }
 ],
 "metadata": {
  "kernelspec": {
   "display_name": "base",
   "language": "python",
   "name": "python3"
  },
  "language_info": {
   "codemirror_mode": {
    "name": "ipython",
    "version": 3
   },
   "file_extension": ".py",
   "mimetype": "text/x-python",
   "name": "python",
   "nbconvert_exporter": "python",
   "pygments_lexer": "ipython3",
   "version": "3.10.11"
  }
 },
 "nbformat": 4,
 "nbformat_minor": 2
}
