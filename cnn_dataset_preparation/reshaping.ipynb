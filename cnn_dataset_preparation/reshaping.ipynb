{
 "cells": [
  {
   "cell_type": "code",
   "execution_count": 13,
   "metadata": {},
   "outputs": [],
   "source": [
    "import matplotlib.pyplot as plt\n",
    "import numpy as np\n",
    "import pandas as pd\n",
    "import xarray as xr\n",
    "#from sklearn.metrics import r2_score\n",
    "from matplotlib.backends.backend_pdf import PdfPages\n",
    "import matplotlib.animation as animation # animation\n",
    "import imageio \n",
    "import sys\n",
    "import fiona\n",
    "import rasterio\n",
    "import rasterio.transform\n",
    "import rasterio.mask\n",
    "from fiona import Feature, Geometry\n",
    "from shapely.geometry import mapping, shape\n",
    "import os\n",
    "import importlib\n",
    "import cv2"
   ]
  },
  {
   "cell_type": "code",
   "execution_count": 4,
   "metadata": {},
   "outputs": [],
   "source": [
    "features_path = '/Users/francesco/Desktop/machine_learning_calving_project/dataset_cnn/features.npy' #Change in cluster\n",
    "features = np.load(features_path, allow_pickle=True)\n",
    "\n",
    "targets_path = '/Users/francesco/Desktop/machine_learning_calving_project/dataset_cnn/target.npy' #Change in cluster\n",
    "targets = np.load(targets_path, allow_pickle=True)"
   ]
  },
  {
   "cell_type": "code",
   "execution_count": 8,
   "metadata": {},
   "outputs": [
    {
     "data": {
      "text/plain": [
       "(308, 308)"
      ]
     },
     "execution_count": 8,
     "metadata": {},
     "output_type": "execute_result"
    }
   ],
   "source": [
    "len(features), len(targets)"
   ]
  },
  {
   "cell_type": "code",
   "execution_count": 12,
   "metadata": {},
   "outputs": [
    {
     "data": {
      "text/plain": [
       "6"
      ]
     },
     "execution_count": 12,
     "metadata": {},
     "output_type": "execute_result"
    }
   ],
   "source": [
    "len(features[i, 0, 0, :])"
   ]
  },
  {
   "cell_type": "code",
   "execution_count": 27,
   "metadata": {},
   "outputs": [],
   "source": [
    "def resising_images(image, new_shape):\n",
    "    new_image = cv2.resize(image, new_shape, interpolation = cv2.INTER_NEAREST)\n",
    "    return new_image"
   ]
  },
  {
   "cell_type": "code",
   "execution_count": 16,
   "metadata": {},
   "outputs": [],
   "source": [
    "resized_features = np.zeros(features.shape)\n",
    "resized_targets = np.zeros(targets.shape)"
   ]
  },
  {
   "cell_type": "code",
   "execution_count": 28,
   "metadata": {},
   "outputs": [],
   "source": [
    "#RESISING FEATURES\n",
    "\n",
    "# Initialize resized_features array with the correct shape\n",
    "resized_features = np.zeros((len(features), 256, 256, features.shape[3]))\n",
    "\n",
    "# Iterate over each sample in the features array and resize each channel of the image\n",
    "for i in range(len(features)):\n",
    "    for j in range(features.shape[3]):\n",
    "        resized_features[i, :, :, j] = resising_images(features[i, :, :, j], (256,256))\n"
   ]
  },
  {
   "cell_type": "code",
   "execution_count": 46,
   "metadata": {},
   "outputs": [],
   "source": [
    "#Resising TARGETS\n",
    "\n",
    "# Initialize resized_targets array with the correct shape\n",
    "resized_targets = np.zeros((len(targets), 256, 256, targets.shape[3]))\n",
    "\n",
    "for i in range(len(targets)):\n",
    "    for j in range(targets.shape[3]):\n",
    "        resized_targets[i, :, :, j] = resising_images(targets[i, :, :, j], (256,256))"
   ]
  },
  {
   "cell_type": "code",
   "execution_count": 49,
   "metadata": {},
   "outputs": [],
   "source": [
    "#save the resized features and targets\n",
    "np.save('/Users/francesco/Desktop/machine_learning_calving_project/dataset_cnn/resized_features.npy', resized_features)\n",
    "np.save('/Users/francesco/Desktop/machine_learning_calving_project/dataset_cnn/resized_targets.npy', resized_targets)\n",
    "    "
   ]
  }
 ],
 "metadata": {
  "kernelspec": {
   "display_name": "base",
   "language": "python",
   "name": "python3"
  },
  "language_info": {
   "codemirror_mode": {
    "name": "ipython",
    "version": 3
   },
   "file_extension": ".py",
   "mimetype": "text/x-python",
   "name": "python",
   "nbconvert_exporter": "python",
   "pygments_lexer": "ipython3",
   "version": "3.10.11"
  }
 },
 "nbformat": 4,
 "nbformat_minor": 2
}
